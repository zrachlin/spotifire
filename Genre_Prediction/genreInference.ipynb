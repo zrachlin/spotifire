{
 "cells": [
  {
   "cell_type": "code",
   "execution_count": 1,
   "metadata": {},
   "outputs": [
    {
     "name": "stderr",
     "output_type": "stream",
     "text": [
      "Using TensorFlow backend.\n"
     ]
    }
   ],
   "source": [
    "import sys\n",
    "sys.path.append('../OOSpotify/')\n",
    "from OOSpotify import *\n",
    "import pickle\n",
    "import pandas as pd\n",
    "import numpy as np\n",
    "import keras\n",
    "from keras.preprocessing.sequence import pad_sequences\n",
    "from keras.models import load_model"
   ]
  },
  {
   "cell_type": "code",
   "execution_count": 2,
   "metadata": {
    "collapsed": true
   },
   "outputs": [],
   "source": [
    "def prepSequenceData(track,maxlen=4163):\n",
    "    aa = track.getAudioAnalysis()\n",
    "    df = pd.DataFrame(aa['segments'])\n",
    "    pitches = np.array([i for i in df.pitches])\n",
    "    timbres = np.array([i for i in df.timbre])\n",
    "    loudness = np.repeat(df.loudness_max.tolist(),12).reshape(-1,12)\n",
    "    duration = np.repeat(df.duration.tolist(),12).reshape(-1,12)\n",
    "    confidence = np.repeat(df.confidence.tolist(),12).reshape(-1,12)\n",
    "    sequence_data = np.concatenate((pitches,timbres,loudness,duration,confidence),axis=1)\n",
    "    sequence_data_padded = pad_sequences([sequence_data],maxlen=maxlen)\n",
    "    return sequence_data_padded"
   ]
  },
  {
   "cell_type": "code",
   "execution_count": 3,
   "metadata": {
    "collapsed": true
   },
   "outputs": [],
   "source": [
    "def prepMetaData(track):\n",
    "    features = track.features.items()\n",
    "    return np.array([val for key,val in features]).reshape(-1,1)"
   ]
  },
  {
   "cell_type": "code",
   "execution_count": 31,
   "metadata": {
    "collapsed": true
   },
   "outputs": [],
   "source": [
    "def extractTracks(SpotifyObjs):\n",
    "    if type(SpotifyObjs) is not list:\n",
    "        SpotifyObjs = [SpotifyObjs]\n",
    "    tracklist = []\n",
    "    for obj in SpotifyObjs:\n",
    "        if obj.type == 'track':\n",
    "            tracklist.append(obj)\n",
    "        elif obj.type == 'artist':\n",
    "            tracks = obj.getTopTracks()\n",
    "            tracklist += tracks\n",
    "            print('Using top {} tracks for artist {}'.format(len(tracks),obj.name))\n",
    "        elif obj.type in ['playlist','album']:\n",
    "            tracks = obj.getTracks()\n",
    "            tracklist += tracks\n",
    "        else:\n",
    "            #invalid type\n",
    "            pass\n",
    "    return tracklist\n",
    "        \n",
    "def prepData(SpotifyObjs):\n",
    "    seq = []\n",
    "    meta = []\n",
    "    tracklist = extractTracks(SpotifyObjs)\n",
    "    for i,track in enumerate(tracklist):\n",
    "            print('{}. {} -- {}'.format(i,track.name,track.getArtist().name))\n",
    "            seq.append(prepSequenceData(track))\n",
    "            meta.append(prepMetaData(track))\n",
    "    seq = np.squeeze(np.array(seq))\n",
    "    if seq.ndim == 2:\n",
    "        seq = np.expand_dims(seq,axis=0)\n",
    "    meta = np.array(meta)\n",
    "    print()\n",
    "    print('Sequence Shape: {}'.format(seq.shape))\n",
    "    print('Metadata Shape: {}'.format(meta.shape))\n",
    "    tracklist = [track.name for track in tracklist]\n",
    "    return seq,meta,tracklist"
   ]
  },
  {
   "cell_type": "code",
   "execution_count": 37,
   "metadata": {},
   "outputs": [
    {
     "name": "stdout",
     "output_type": "stream",
     "text": [
      "0. Birds of a Feather, We Rock Together (feat. Antwaun Stanley) -- Vulfpeck\n",
      "1. Baby I Don’t Know Oh Oh (feat. Charles Jones) -- Vulfpeck\n",
      "2. Mr. Finish Line (feat. Christine Hucal & Theo Katzman) -- Vulfpeck\n",
      "3. Tee Time -- Vulfpeck\n",
      "4. Running Away (feat. Joey Dosik, David T. Walker & James Gadson) -- Vulfpeck\n",
      "5. Hero Town (feat. Michael Bland) -- Vulfpeck\n",
      "6. Business Casual (feat. Coco O.) -- Vulfpeck\n",
      "7. Vulf Pack -- Vulfpeck\n",
      "8. Grandma (feat. Antwaun Stanley, David T. Walker & James Gadson) -- Vulfpeck\n",
      "9. Captain Hook (feat. Baby Theo, Bootsy Collins & Mushy Kay) -- Vulfpeck\n",
      "10. Back Pocket -- Vulfpeck\n",
      "\n",
      "Sequence Shape: (11, 4163, 60)\n",
      "Metadata Shape: (11, 12, 1)\n"
     ]
    }
   ],
   "source": [
    "seq,meta,tracklist = prepData([Album('mr. finish line'),Track('back pocket')])"
   ]
  },
  {
   "cell_type": "code",
   "execution_count": 5,
   "metadata": {},
   "outputs": [
    {
     "ename": "OSError",
     "evalue": "Unable to open file (unable to open file: name = 'weights.05--2.44.hdf5', errno = 2, error message = 'No such file or directory', flags = 0, o_flags = 0)",
     "output_type": "error",
     "traceback": [
      "\u001b[0;31m---------------------------------------------------------------------------\u001b[0m",
      "\u001b[0;31mOSError\u001b[0m                                   Traceback (most recent call last)",
      "\u001b[0;32m<ipython-input-5-2ff5bc782be9>\u001b[0m in \u001b[0;36m<module>\u001b[0;34m()\u001b[0m\n\u001b[0;32m----> 1\u001b[0;31m \u001b[0mmodel\u001b[0m \u001b[0;34m=\u001b[0m \u001b[0mload_model\u001b[0m\u001b[0;34m(\u001b[0m\u001b[0;34m'weights.05--2.44.hdf5'\u001b[0m\u001b[0;34m)\u001b[0m\u001b[0;34m\u001b[0m\u001b[0m\n\u001b[0m",
      "\u001b[0;32m~/.local/lib/python3.6/site-packages/keras/engine/saving.py\u001b[0m in \u001b[0;36mload_model\u001b[0;34m(filepath, custom_objects, compile)\u001b[0m\n\u001b[1;32m    248\u001b[0m     \u001b[0mopened_new_file\u001b[0m \u001b[0;34m=\u001b[0m \u001b[0;32mnot\u001b[0m \u001b[0misinstance\u001b[0m\u001b[0;34m(\u001b[0m\u001b[0mfilepath\u001b[0m\u001b[0;34m,\u001b[0m \u001b[0mh5py\u001b[0m\u001b[0;34m.\u001b[0m\u001b[0mFile\u001b[0m\u001b[0;34m)\u001b[0m\u001b[0;34m\u001b[0m\u001b[0m\n\u001b[1;32m    249\u001b[0m     \u001b[0;32mif\u001b[0m \u001b[0mopened_new_file\u001b[0m\u001b[0;34m:\u001b[0m\u001b[0;34m\u001b[0m\u001b[0m\n\u001b[0;32m--> 250\u001b[0;31m         \u001b[0mf\u001b[0m \u001b[0;34m=\u001b[0m \u001b[0mh5py\u001b[0m\u001b[0;34m.\u001b[0m\u001b[0mFile\u001b[0m\u001b[0;34m(\u001b[0m\u001b[0mfilepath\u001b[0m\u001b[0;34m,\u001b[0m \u001b[0mmode\u001b[0m\u001b[0;34m=\u001b[0m\u001b[0;34m'r'\u001b[0m\u001b[0;34m)\u001b[0m\u001b[0;34m\u001b[0m\u001b[0m\n\u001b[0m\u001b[1;32m    251\u001b[0m     \u001b[0;32melse\u001b[0m\u001b[0;34m:\u001b[0m\u001b[0;34m\u001b[0m\u001b[0m\n\u001b[1;32m    252\u001b[0m         \u001b[0mf\u001b[0m \u001b[0;34m=\u001b[0m \u001b[0mfilepath\u001b[0m\u001b[0;34m\u001b[0m\u001b[0m\n",
      "\u001b[0;32m~/.local/lib/python3.6/site-packages/h5py/_hl/files.py\u001b[0m in \u001b[0;36m__init__\u001b[0;34m(self, name, mode, driver, libver, userblock_size, swmr, **kwds)\u001b[0m\n\u001b[1;32m    310\u001b[0m             \u001b[0;32mwith\u001b[0m \u001b[0mphil\u001b[0m\u001b[0;34m:\u001b[0m\u001b[0;34m\u001b[0m\u001b[0m\n\u001b[1;32m    311\u001b[0m                 \u001b[0mfapl\u001b[0m \u001b[0;34m=\u001b[0m \u001b[0mmake_fapl\u001b[0m\u001b[0;34m(\u001b[0m\u001b[0mdriver\u001b[0m\u001b[0;34m,\u001b[0m \u001b[0mlibver\u001b[0m\u001b[0;34m,\u001b[0m \u001b[0;34m**\u001b[0m\u001b[0mkwds\u001b[0m\u001b[0;34m)\u001b[0m\u001b[0;34m\u001b[0m\u001b[0m\n\u001b[0;32m--> 312\u001b[0;31m                 \u001b[0mfid\u001b[0m \u001b[0;34m=\u001b[0m \u001b[0mmake_fid\u001b[0m\u001b[0;34m(\u001b[0m\u001b[0mname\u001b[0m\u001b[0;34m,\u001b[0m \u001b[0mmode\u001b[0m\u001b[0;34m,\u001b[0m \u001b[0muserblock_size\u001b[0m\u001b[0;34m,\u001b[0m \u001b[0mfapl\u001b[0m\u001b[0;34m,\u001b[0m \u001b[0mswmr\u001b[0m\u001b[0;34m=\u001b[0m\u001b[0mswmr\u001b[0m\u001b[0;34m)\u001b[0m\u001b[0;34m\u001b[0m\u001b[0m\n\u001b[0m\u001b[1;32m    313\u001b[0m \u001b[0;34m\u001b[0m\u001b[0m\n\u001b[1;32m    314\u001b[0m                 \u001b[0;32mif\u001b[0m \u001b[0mswmr_support\u001b[0m\u001b[0;34m:\u001b[0m\u001b[0;34m\u001b[0m\u001b[0m\n",
      "\u001b[0;32m~/.local/lib/python3.6/site-packages/h5py/_hl/files.py\u001b[0m in \u001b[0;36mmake_fid\u001b[0;34m(name, mode, userblock_size, fapl, fcpl, swmr)\u001b[0m\n\u001b[1;32m    140\u001b[0m         \u001b[0;32mif\u001b[0m \u001b[0mswmr\u001b[0m \u001b[0;32mand\u001b[0m \u001b[0mswmr_support\u001b[0m\u001b[0;34m:\u001b[0m\u001b[0;34m\u001b[0m\u001b[0m\n\u001b[1;32m    141\u001b[0m             \u001b[0mflags\u001b[0m \u001b[0;34m|=\u001b[0m \u001b[0mh5f\u001b[0m\u001b[0;34m.\u001b[0m\u001b[0mACC_SWMR_READ\u001b[0m\u001b[0;34m\u001b[0m\u001b[0m\n\u001b[0;32m--> 142\u001b[0;31m         \u001b[0mfid\u001b[0m \u001b[0;34m=\u001b[0m \u001b[0mh5f\u001b[0m\u001b[0;34m.\u001b[0m\u001b[0mopen\u001b[0m\u001b[0;34m(\u001b[0m\u001b[0mname\u001b[0m\u001b[0;34m,\u001b[0m \u001b[0mflags\u001b[0m\u001b[0;34m,\u001b[0m \u001b[0mfapl\u001b[0m\u001b[0;34m=\u001b[0m\u001b[0mfapl\u001b[0m\u001b[0;34m)\u001b[0m\u001b[0;34m\u001b[0m\u001b[0m\n\u001b[0m\u001b[1;32m    143\u001b[0m     \u001b[0;32melif\u001b[0m \u001b[0mmode\u001b[0m \u001b[0;34m==\u001b[0m \u001b[0;34m'r+'\u001b[0m\u001b[0;34m:\u001b[0m\u001b[0;34m\u001b[0m\u001b[0m\n\u001b[1;32m    144\u001b[0m         \u001b[0mfid\u001b[0m \u001b[0;34m=\u001b[0m \u001b[0mh5f\u001b[0m\u001b[0;34m.\u001b[0m\u001b[0mopen\u001b[0m\u001b[0;34m(\u001b[0m\u001b[0mname\u001b[0m\u001b[0;34m,\u001b[0m \u001b[0mh5f\u001b[0m\u001b[0;34m.\u001b[0m\u001b[0mACC_RDWR\u001b[0m\u001b[0;34m,\u001b[0m \u001b[0mfapl\u001b[0m\u001b[0;34m=\u001b[0m\u001b[0mfapl\u001b[0m\u001b[0;34m)\u001b[0m\u001b[0;34m\u001b[0m\u001b[0m\n",
      "\u001b[0;32mh5py/_objects.pyx\u001b[0m in \u001b[0;36mh5py._objects.with_phil.wrapper\u001b[0;34m()\u001b[0m\n",
      "\u001b[0;32mh5py/_objects.pyx\u001b[0m in \u001b[0;36mh5py._objects.with_phil.wrapper\u001b[0;34m()\u001b[0m\n",
      "\u001b[0;32mh5py/h5f.pyx\u001b[0m in \u001b[0;36mh5py.h5f.open\u001b[0;34m()\u001b[0m\n",
      "\u001b[0;31mOSError\u001b[0m: Unable to open file (unable to open file: name = 'weights.05--2.44.hdf5', errno = 2, error message = 'No such file or directory', flags = 0, o_flags = 0)"
     ]
    }
   ],
   "source": [
    "model = load_model('weights.05--2.44.hdf5')"
   ]
  },
  {
   "cell_type": "code",
   "execution_count": 39,
   "metadata": {
    "collapsed": true
   },
   "outputs": [],
   "source": [
    "a = model.predict(x=[seq,meta.reshape(-1,12)])"
   ]
  },
  {
   "cell_type": "code",
   "execution_count": 5,
   "metadata": {},
   "outputs": [
    {
     "name": "stdout",
     "output_type": "stream",
     "text": [
      "0 Alternative Rock\n",
      "1 Bluegrass\n",
      "2 Blues\n",
      "3 Classical\n",
      "4 Country\n",
      "5 Dubstep\n",
      "6 EDM\n",
      "7 Electronic\n",
      "8 Emo\n",
      "9 Folk\n",
      "10 Gospel\n",
      "11 Grunge\n",
      "12 Hip Hop\n",
      "13 Indie Rock\n",
      "14 Jazz\n",
      "15 Metal\n",
      "16 Motown\n",
      "17 Pop\n",
      "18 Rap\n",
      "19 Reggae\n",
      "20 Rock\n",
      "21 Ska Punk\n",
      "22 Soundtrack\n"
     ]
    }
   ],
   "source": [
    "genreList = pickle.load(open('genreList.p','rb'))\n",
    "for i,g in enumerate(genreList):\n",
    "    print(i,g)"
   ]
  },
  {
   "cell_type": "code",
   "execution_count": 41,
   "metadata": {},
   "outputs": [
    {
     "data": {
      "text/plain": [
       "['Birds of a Feather, We Rock Together (feat. Antwaun Stanley) --> Folk',\n",
       " 'Baby I Don’t Know Oh Oh (feat. Charles Jones) --> Pop',\n",
       " 'Mr. Finish Line (feat. Christine Hucal & Theo Katzman) --> Hip Hop',\n",
       " 'Tee Time --> Electronic',\n",
       " 'Running Away (feat. Joey Dosik, David T. Walker & James Gadson) --> Hip Hop',\n",
       " 'Hero Town (feat. Michael Bland) --> Electronic',\n",
       " 'Business Casual (feat. Coco O.) --> Hip Hop',\n",
       " 'Vulf Pack --> Electronic',\n",
       " 'Grandma (feat. Antwaun Stanley, David T. Walker & James Gadson) --> Hip Hop',\n",
       " 'Captain Hook (feat. Baby Theo, Bootsy Collins & Mushy Kay) --> Hip Hop',\n",
       " 'Back Pocket --> Pop']"
      ]
     },
     "execution_count": 41,
     "metadata": {},
     "output_type": "execute_result"
    }
   ],
   "source": [
    "['{} --> {}'.format(tracklist[i],genreList[np.argmax(a[0][i])]) for i in range(11)]"
   ]
  },
  {
   "cell_type": "code",
   "execution_count": 54,
   "metadata": {},
   "outputs": [
    {
     "name": "stdout",
     "output_type": "stream",
     "text": [
      "0. Intro -- alt-J\n",
      "1. Interlude 1 -- alt-J\n",
      "2. Tessellate -- alt-J\n",
      "3. Breezeblocks -- alt-J\n",
      "4. Interlude 2 -- alt-J\n",
      "5. Something Good -- alt-J\n",
      "6. Dissolve Me -- alt-J\n",
      "7. Matilda -- alt-J\n",
      "8. Ms -- alt-J\n",
      "9. Fitzpleasure -- alt-J\n",
      "10. Interlude 3 -- alt-J\n",
      "11. Bloodflood -- alt-J\n",
      "12. Taro -- alt-J\n",
      "13. Hand-Made -- alt-J\n",
      "\n",
      "Sequence Shape: (14, 4163, 60)\n",
      "Metadata Shape: (14, 12, 1)\n"
     ]
    }
   ],
   "source": [
    "seq,meta,tracklist = prepData([Album('an awesome wave')])"
   ]
  },
  {
   "cell_type": "code",
   "execution_count": 55,
   "metadata": {},
   "outputs": [
    {
     "name": "stdout",
     "output_type": "stream",
     "text": [
      "['Intro --> Electronic', 'Interlude 1 --> Hip Hop', 'Tessellate --> Pop', 'Breezeblocks --> Indie Rock', 'Interlude 2 --> Classical', 'Something Good --> Folk', 'Dissolve Me --> EDM', 'Matilda --> Indie Rock', 'Ms --> Folk', 'Fitzpleasure --> Indie Rock', 'Interlude 3 --> Classical', 'Bloodflood --> Indie Rock', 'Taro --> Folk', 'Hand-Made --> Folk']\n"
     ]
    }
   ],
   "source": [
    "a = model.predict(x=[seq,meta.reshape(-1,12)])\n",
    "b = ['{} --> {}'.format(tracklist[i],genreList[np.argmax(a[0][i])]) for i in range(len(a[0]))]\n",
    "print(b)"
   ]
  },
  {
   "cell_type": "code",
   "execution_count": 61,
   "metadata": {},
   "outputs": [
    {
     "name": "stdout",
     "output_type": "stream",
     "text": [
      "0. Slow Train - Live in London -- Bob Dylan\n",
      "1. Precious Angel - Live at the Warfield Theatre, San Francisco, CA - November 16, 1979 -- Bob Dylan\n",
      "2. Gotta Serve Somebody - Live at the Warfield Theatre, San Francisco, CA - November 15, 1979 -- Bob Dylan\n",
      "3. When He Returns - Take 2 -- Bob Dylan\n",
      "4. Solid Rock - Live at Golden Hall, San Diego, CA - November 27, 1979 -- Bob Dylan\n",
      "5. Gonna Change My Way of Thinking - Live at the Orpheum Theater, Memphis, TN - January 31, 1980 -- Bob Dylan\n",
      "6. Ain't Gonna Go to Hell for Anybody - Live at Le Theatre Saint-Denis, Montreal, Quebec - April 24, 1980 -- Bob Dylan\n",
      "7. When You Gonna Wake Up? - Live at Drammenshallen, Drammen, Norway - July 9, 1981 -- Bob Dylan\n",
      "8. Covenant Woman - Take 3 -- Bob Dylan\n",
      "9. Shot of Love - Outtake -- Bob Dylan\n",
      "10. Making a Liar Out of Me - Rehearsal -- Bob Dylan\n",
      "11. City of Gold - Live Nov. 22, 1980 -- Bob Dylan\n",
      "12. Yonder Comes Sin - Rehearsal -- Bob Dylan\n",
      "13. Caribbean Wind - Rehearsal with pedal steel -- Bob Dylan\n",
      "14. Dead Man, Dead Man - Outtake -- Bob Dylan\n",
      "\n",
      "Sequence Shape: (15, 4163, 60)\n",
      "Metadata Shape: (15, 12, 1)\n"
     ]
    }
   ],
   "source": [
    "seq,meta,tracklist = prepData([Artist('bob dylan').getAlbums()[0]])"
   ]
  },
  {
   "cell_type": "code",
   "execution_count": 62,
   "metadata": {},
   "outputs": [
    {
     "name": "stdout",
     "output_type": "stream",
     "text": [
      "Slow Train - Live in London --> Rock,Rock\n",
      "Precious Angel - Live at the Warfield Theatre, San Francisco, CA - November 16, 1979 --> Rock,Classical\n",
      "Gotta Serve Somebody - Live at the Warfield Theatre, San Francisco, CA - November 15, 1979 --> Indie Rock,Indie Rock\n",
      "When He Returns - Take 2 --> Jazz,Motown\n",
      "Solid Rock - Live at Golden Hall, San Diego, CA - November 27, 1979 --> Pop,Classical\n",
      "Gonna Change My Way of Thinking - Live at the Orpheum Theater, Memphis, TN - January 31, 1980 --> Motown,Indie Rock\n",
      "Ain't Gonna Go to Hell for Anybody - Live at Le Theatre Saint-Denis, Montreal, Quebec - April 24, 1980 --> Rock,Indie Rock\n",
      "When You Gonna Wake Up? - Live at Drammenshallen, Drammen, Norway - July 9, 1981 --> Jazz,Classical\n",
      "Covenant Woman - Take 3 --> Jazz,Motown\n",
      "Shot of Love - Outtake --> Motown,Motown\n",
      "Making a Liar Out of Me - Rehearsal --> Rock,Rock\n",
      "City of Gold - Live Nov. 22, 1980 --> Folk,Indie Rock\n",
      "Yonder Comes Sin - Rehearsal --> Rock,Rock\n",
      "Caribbean Wind - Rehearsal with pedal steel --> Motown,Rock\n",
      "Dead Man, Dead Man - Outtake --> Rock,Hip Hop\n"
     ]
    }
   ],
   "source": [
    "a = model.predict(x=[seq,meta.reshape(-1,12)])\n",
    "for i in range(len(a[0])):\n",
    "    print('{} --> {},{}'.format(tracklist[i],genreList[np.argmax(a[0][i])],genreList[np.argmax(a[1][i])]))\n",
    "#b = ['{} --> {},{}'.format(tracklist[i],genreList[np.argmax(a[0][i])],genreList[np.argmax(a[1][i])]) for i in range(len(a[0]))]\n",
    "#print(b)"
   ]
  },
  {
   "cell_type": "code",
   "execution_count": 6,
   "metadata": {},
   "outputs": [],
   "source": [
    "model = load_model('/data/home/zrachlin/spotifire/Genre_Prediction/bs60.37--2.04.hdf5')"
   ]
  },
  {
   "cell_type": "code",
   "execution_count": 10,
   "metadata": {},
   "outputs": [
    {
     "name": "stdout",
     "output_type": "stream",
     "text": [
      "0. Kanye,Beyonce -- Rome Fortune\n",
      "1. Holy Toledo -- Vundabar\n",
      "2. Step -- Vampire Weekend\n",
      "3. Down for the Fifth Time -- Flamingosis\n",
      "4. Bikes -- Rubblebucket\n",
      "5. See You Leave -- RJD2\n",
      "6. I'm the Moon -- Spooky Mansion\n",
      "7. Clay Pigeons -- Michael Cera\n",
      "8. Panama -- The Cat Empire\n",
      "9. I Can't Play Piano, Pt. 1 -- Jon Benjamin - Jazz Daredevil\n",
      "10. Celebrity Reduction Prayer (feat. Open Mike Eagle & Oddisee) -- Mello Music Group\n",
      "11. Killer Bees -- Demon Days\n",
      "12. Homage -- Mild High Club\n",
      "13. 2 a.m. -- Cool Calm Pete\n",
      "14. Slow Mode -- Windmills\n",
      "15. Orange Blossom -- Gardens & Villa\n",
      "16. Tired Boy -- Concept Collective\n",
      "17. A Fan's Mail (Tron Song Suite II) -- Thundercat\n",
      "18. Breezin -- Cody G\n",
      "19. Otha Fish -- The Pharcyde\n",
      "20. Control It -- Dwynell Roland\n",
      "21. Black Coffee -- Kill Bill: The Rapper\n",
      "22. Look at That Ass -- Marc Rebillet\n",
      "23. Foxtrot -- Simon Jefferis\n",
      "24. Starman -- SHT GHST\n",
      "25. Exclamation Point -- Latyrx\n",
      "26. Foundation -- KAMI\n",
      "27. Skywards -- Pick Patek\n",
      "28. Alaska - Tycho Remix -- Maggie Rogers\n",
      "29. Instead of My Room -- Charlie Burg\n",
      "\n",
      "Sequence Shape: (30, 4163, 60)\n",
      "Metadata Shape: (30, 12, 1)\n"
     ]
    }
   ],
   "source": [
    "seq,meta,tracklist = prepData([User(users['zach']).getPlaylists()[14]])"
   ]
  },
  {
   "cell_type": "code",
   "execution_count": 19,
   "metadata": {},
   "outputs": [
    {
     "name": "stdout",
     "output_type": "stream",
     "text": [
      "0. Kanye,Beyonce --> 1: Reggae, 2: Blues, 3: Folk, Aux: Country\n",
      "1. Holy Toledo --> 1: Metal, 2: Alternative Rock, 3: Emo, Aux: Rock\n",
      "2. Step --> 1: Hip Hop, 2: Rap, 3: Reggae, Aux: Hip Hop\n",
      "3. Down for the Fifth Time --> 1: Hip Hop, 2: Reggae, 3: Rap, Aux: Hip Hop\n",
      "4. Bikes --> 1: Indie Rock, 2: Ska Punk, 3: Alternative Rock, Aux: EDM\n",
      "5. See You Leave --> 1: Hip Hop, 2: Rap, 3: Pop, Aux: Hip Hop\n",
      "6. I'm the Moon --> 1: Reggae, 2: Hip Hop, 3: Motown, Aux: Reggae\n",
      "7. Clay Pigeons --> 1: Indie Rock, 2: Folk, 3: Bluegrass, Aux: Soundtrack\n",
      "8. Panama --> 1: Indie Rock, 2: Alternative Rock, 3: Country, Aux: Indie Rock\n",
      "9. I Can't Play Piano, Pt. 1 --> 1: Reggae, 2: Blues, 3: Jazz, Aux: Reggae\n",
      "10. Celebrity Reduction Prayer (feat. Open Mike Eagle & Oddisee) --> 1: Indie Rock, 2: Hip Hop, 3: Pop, Aux: Electronic\n",
      "11. Killer Bees --> 1: Indie Rock, 2: Alternative Rock, 3: Country, Aux: Indie Rock\n",
      "12. Homage --> 1: Indie Rock, 2: Alternative Rock, 3: Rock, Aux: Rock\n",
      "13. 2 a.m. --> 1: Ska Punk, 2: Reggae, 3: Hip Hop, Aux: Motown\n",
      "14. Slow Mode --> 1: Pop, 2: Indie Rock, 3: Motown, Aux: Pop\n",
      "15. Orange Blossom --> 1: Pop, 2: Motown, 3: Gospel, Aux: Gospel\n",
      "16. Tired Boy --> 1: Rap, 2: Hip Hop, 3: Pop, Aux: Pop\n",
      "17. A Fan's Mail (Tron Song Suite II) --> 1: Indie Rock, 2: Electronic, 3: Dubstep, Aux: Electronic\n",
      "18. Breezin --> 1: Hip Hop, 2: Rap, 3: Reggae, Aux: Hip Hop\n",
      "19. Otha Fish --> 1: Hip Hop, 2: Rap, 3: Reggae, Aux: Hip Hop\n",
      "20. Control It --> 1: Hip Hop, 2: Rap, 3: Pop, Aux: Pop\n",
      "21. Black Coffee --> 1: Hip Hop, 2: Rap, 3: Pop, Aux: Electronic\n",
      "22. Look at That Ass --> 1: Hip Hop, 2: Pop, 3: Rap, Aux: Hip Hop\n",
      "23. Foxtrot --> 1: Hip Hop, 2: Rap, 3: Reggae, Aux: Hip Hop\n",
      "24. Starman --> 1: Indie Rock, 2: Alternative Rock, 3: Emo, Aux: Indie Rock\n",
      "25. Exclamation Point --> 1: Dubstep, 2: Hip Hop, 3: Electronic, Aux: Hip Hop\n",
      "26. Foundation --> 1: Pop, 2: EDM, 3: Hip Hop, Aux: Pop\n",
      "27. Skywards --> 1: Hip Hop, 2: Rap, 3: Pop, Aux: Rap\n",
      "28. Alaska - Tycho Remix --> 1: Dubstep, 2: Electronic, 3: Hip Hop, Aux: Dubstep\n",
      "29. Instead of My Room --> 1: Ska Punk, 2: Hip Hop, 3: Gospel, Aux: Hip Hop\n"
     ]
    }
   ],
   "source": [
    "a = model.predict(x=[seq,meta.reshape(-1,12)])\n",
    "results = [sorted(range(len(a[0][i])),key=lambda j: a[0][i][j],reverse=True)[:3] for i in range(len(a[0]))]\n",
    "for i in range(len(a[0])):\n",
    "    print('{}. {} --> 1: {}, 2: {}, 3: {}, Aux: {}'.format(i,tracklist[i],genreList[results[i][0]],genreList[results[i][1]],genreList[results[i][2]],genreList[np.argmax(a[1][i])]))"
   ]
  },
  {
   "cell_type": "code",
   "execution_count": 21,
   "metadata": {},
   "outputs": [
    {
     "name": "stdout",
     "output_type": "stream",
     "text": [
      "0. The Three of Us -- Streetlight Manifesto\n",
      "1. Let It Be - Remastered -- The Beatles\n",
      "\n",
      "Sequence Shape: (2, 4163, 60)\n",
      "Metadata Shape: (2, 12, 1)\n",
      "0. The Three of Us --> 1: Ska Punk, 2: Alternative Rock, 3: Indie Rock, Aux: Emo\n",
      "1. Let It Be - Remastered --> 1: Bluegrass, 2: Country, 3: Folk, Aux: Bluegrass\n"
     ]
    }
   ],
   "source": [
    "seq,meta,tracklist = prepData([Track('the three of us'),Track('let it be')])\n",
    "a = model.predict(x=[seq,meta.reshape(-1,12)])\n",
    "results = [sorted(range(len(a[0][i])),key=lambda j: a[0][i][j],reverse=True)[:3] for i in range(len(a[0]))]\n",
    "for i in range(len(a[0])):\n",
    "    print('{}. {} --> 1: {}, 2: {}, 3: {}, Aux: {}'.format(i,tracklist[i],genreList[results[i][0]],genreList[results[i][1]],genreList[results[i][2]],genreList[np.argmax(a[1][i])]))"
   ]
  },
  {
   "cell_type": "code",
   "execution_count": 36,
   "metadata": {},
   "outputs": [],
   "source": [
    "def predictGenres(tracks,model):\n",
    "    seq,meta,tracklist = prepData(tracks)\n",
    "    print()\n",
    "    a = model.predict(x=[seq,meta.reshape(-1,12)])\n",
    "    results = [sorted(range(len(a[0][i])),key=lambda j: a[0][i][j],reverse=True)[:3] for i in range(len(a[0]))]\n",
    "    for i in range(len(a[0])):\n",
    "        print('{}. {} --> 1: {}, 2: {}, 3: {}, Aux: {}'.format(i,tracklist[i],genreList[results[i][0]],genreList[results[i][1]],genreList[results[i][2]],genreList[np.argmax(a[1][i])]))\n",
    "    return a"
   ]
  },
  {
   "cell_type": "code",
   "execution_count": 39,
   "metadata": {},
   "outputs": [
    {
     "name": "stdout",
     "output_type": "stream",
     "text": [
      "Using top 10 tracks for artist Streetlight Manifesto\n",
      "Using top 10 tracks for artist Kanye West\n",
      "0. The Three of Us -- Streetlight Manifesto\n",
      "1. We Will Fall Together -- Streetlight Manifesto\n",
      "2. Everything Went Numb -- Streetlight Manifesto\n",
      "3. Point / Counterpoint -- Streetlight Manifesto\n",
      "4. A Better Place, a Better Time -- Streetlight Manifesto\n",
      "5. Would You Be Impressed? -- Streetlight Manifesto\n",
      "6. Down, Down, Down to Mephisto's Cafe -- Streetlight Manifesto\n",
      "7. Such Great Heights -- Streetlight Manifesto\n",
      "8. Toe to Toe -- Streetlight Manifesto\n",
      "9. Somewhere in the Between -- Streetlight Manifesto\n",
      "10. All Mine -- Kanye West\n",
      "11. Yikes -- Kanye West\n",
      "12. Ghost Town -- Kanye West\n",
      "13. Violent Crimes -- Kanye West\n",
      "14. Wouldn't Leave -- Kanye West\n",
      "15. I Thought About Killing You -- Kanye West\n",
      "16. No Mistakes -- Kanye West\n",
      "17. Stronger -- Kanye West\n",
      "18. Lift Yourself -- Kanye West\n",
      "19. Gold Digger -- Kanye West\n",
      "\n",
      "Sequence Shape: (20, 4163, 60)\n",
      "Metadata Shape: (20, 12, 1)\n",
      "\n",
      "0. The Three of Us --> 1: Ska Punk, 2: Alternative Rock, 3: Indie Rock, Aux: Emo\n",
      "1. We Will Fall Together --> 1: Ska Punk, 2: Indie Rock, 3: Rock, Aux: Pop\n",
      "2. Everything Went Numb --> 1: Ska Punk, 2: Indie Rock, 3: Alternative Rock, Aux: Rock\n",
      "3. Point / Counterpoint --> 1: Ska Punk, 2: Country, 3: Rock, Aux: Blues\n",
      "4. A Better Place, a Better Time --> 1: Ska Punk, 2: Emo, 3: Indie Rock, Aux: Country\n",
      "5. Would You Be Impressed? --> 1: Ska Punk, 2: Emo, 3: Indie Rock, Aux: Metal\n",
      "6. Down, Down, Down to Mephisto's Cafe --> 1: Ska Punk, 2: Rock, 3: Alternative Rock, Aux: Rock\n",
      "7. Such Great Heights --> 1: Emo, 2: Indie Rock, 3: Pop, Aux: Electronic\n",
      "8. Toe to Toe --> 1: Country, 2: Blues, 3: Ska Punk, Aux: Blues\n",
      "9. Somewhere in the Between --> 1: Ska Punk, 2: Rock, 3: Indie Rock, Aux: Rock\n",
      "10. All Mine --> 1: Rap, 2: Hip Hop, 3: Pop, Aux: Rap\n",
      "11. Yikes --> 1: Rap, 2: Hip Hop, 3: Pop, Aux: Rap\n",
      "12. Ghost Town --> 1: Pop, 2: EDM, 3: Gospel, Aux: Pop\n",
      "13. Violent Crimes --> 1: Rap, 2: Hip Hop, 3: Pop, Aux: Pop\n",
      "14. Wouldn't Leave --> 1: Hip Hop, 2: Rap, 3: Pop, Aux: Rap\n",
      "15. I Thought About Killing You --> 1: Rap, 2: Hip Hop, 3: Pop, Aux: Pop\n",
      "16. No Mistakes --> 1: EDM, 2: Pop, 3: Rap, Aux: Pop\n",
      "17. Stronger --> 1: Hip Hop, 2: Rap, 3: Indie Rock, Aux: Pop\n",
      "18. Lift Yourself --> 1: Hip Hop, 2: Rap, 3: Pop, Aux: Classical\n",
      "19. Gold Digger --> 1: Hip Hop, 2: Rap, 3: Pop, Aux: Rap\n"
     ]
    }
   ],
   "source": [
    "res = predictGenres([Artist('streetlight manifesto'),Artist('kanye west')],model)"
   ]
  },
  {
   "cell_type": "code",
   "execution_count": 42,
   "metadata": {},
   "outputs": [
    {
     "name": "stdout",
     "output_type": "stream",
     "text": [
      "0. Oh Child -- Robin Schulz\n",
      "\n",
      "Sequence Shape: (1, 4163, 60)\n",
      "Metadata Shape: (1, 12, 1)\n",
      "\n",
      "0. Oh Child --> 1: Hip Hop, 2: Rap, 3: EDM, Aux: EDM\n"
     ]
    }
   ],
   "source": [
    "res = predictGenres(Track('oh child robin schulz'),model)"
   ]
  },
  {
   "cell_type": "markdown",
   "metadata": {},
   "source": [
    "give me a ska version of 'turning japanese'\n",
    "give ma classical version of 'x'\n",
    "search song by title and then run through genre prediction"
   ]
  }
 ],
 "metadata": {
  "kernelspec": {
   "display_name": "Python 3",
   "language": "python",
   "name": "python3"
  },
  "language_info": {
   "codemirror_mode": {
    "name": "ipython",
    "version": 3
   },
   "file_extension": ".py",
   "mimetype": "text/x-python",
   "name": "python",
   "nbconvert_exporter": "python",
   "pygments_lexer": "ipython3",
   "version": "3.6.2"
  }
 },
 "nbformat": 4,
 "nbformat_minor": 2
}

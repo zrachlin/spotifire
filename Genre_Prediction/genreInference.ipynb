{
 "cells": [
  {
   "cell_type": "code",
   "execution_count": 1,
   "metadata": {},
   "outputs": [
    {
     "name": "stderr",
     "output_type": "stream",
     "text": [
      "Using TensorFlow backend.\n",
      "/usr/local/anaconda3/lib/python3.6/site-packages/h5py/__init__.py:34: FutureWarning: Conversion of the second argument of issubdtype from `float` to `np.floating` is deprecated. In future, it will be treated as `np.float64 == np.dtype(float).type`.\n",
      "  from ._conv import register_converters as _register_converters\n"
     ]
    }
   ],
   "source": [
    "import sys\n",
    "sys.path.append('../OOSpotify/')\n",
    "from OOSpotify import *\n",
    "import pickle\n",
    "import pandas as pd\n",
    "import numpy as np\n",
    "import keras\n",
    "from keras.preprocessing.sequence import pad_sequences"
   ]
  },
  {
   "cell_type": "code",
   "execution_count": 2,
   "metadata": {
    "collapsed": true
   },
   "outputs": [],
   "source": [
    "def prepSequenceData(track,maxlen=4163):\n",
    "    aa = track.getAudioAnalysis()\n",
    "    df = pd.DataFrame(aa['segments'])\n",
    "    pitches = np.array([i for i in df.pitches])\n",
    "    timbres = np.array([i for i in df.timbre])\n",
    "    loudness = np.repeat(df.loudness_max.tolist(),12).reshape(-1,12)\n",
    "    duration = np.repeat(df.duration.tolist(),12).reshape(-1,12)\n",
    "    confidence = np.repeat(df.confidence.tolist(),12).reshape(-1,12)\n",
    "    sequence_data = np.concatenate((pitches,timbres,loudness,duration,confidence),axis=1)\n",
    "    sequence_data_padded = pad_sequences([sequence_data],maxlen=maxlen)\n",
    "    return sequence_data_padded"
   ]
  },
  {
   "cell_type": "code",
   "execution_count": 3,
   "metadata": {
    "collapsed": true
   },
   "outputs": [],
   "source": [
    "def prepMetaData(track):\n",
    "    features = track.features.items()\n",
    "    return np.array([val for key,val in features]).reshape(-1,1)"
   ]
  },
  {
   "cell_type": "code",
   "execution_count": 4,
   "metadata": {
    "collapsed": true
   },
   "outputs": [],
   "source": [
    "def extractTracks(SpotifyObjs):\n",
    "    if type(SpotifyObjs) is not list:\n",
    "        SpotifyObjs = [SpotifyObjs]\n",
    "    tracklist = []\n",
    "    for obj in SpotifyObjs:\n",
    "        if obj.type == 'track':\n",
    "            tracklist.append(obj)\n",
    "        elif obj.type == 'artist':\n",
    "            tracks = obj.getTopTracks()\n",
    "            tracklist += tracks\n",
    "            print('Using top {} tracks for artist {}'.format(len(tracks),obj.name))\n",
    "        elif obj.type in ['playlist','album']:\n",
    "            tracks = obj.getTracks()\n",
    "            tracklist += tracks\n",
    "        else:\n",
    "            #invalid type\n",
    "            pass\n",
    "    return tracklist\n",
    "        \n",
    "def prepData(SpotifyObjs):\n",
    "    seq = []\n",
    "    meta = []\n",
    "    tracklist = extractTracks(SpotifyObjs)\n",
    "    for i,track in enumerate(tracklist):\n",
    "            print('{}. {} -- {}'.format(i,track.name,track.getArtist().name))\n",
    "            seq.append(prepSequenceData(track))\n",
    "            meta.append(prepMetaData(track))\n",
    "    seq = np.squeeze(np.array(seq))\n",
    "    meta = np.array(meta)\n",
    "    print()\n",
    "    print('Sequence Shape: {}'.format(seq.shape))\n",
    "    print('Metadata Shape: {}'.format(meta.shape))\n",
    "    tracklist = [track.name for track in tracklist]\n",
    "    return seq,meta,tracklist"
   ]
  },
  {
   "cell_type": "code",
   "execution_count": 37,
   "metadata": {},
   "outputs": [
    {
     "name": "stdout",
     "output_type": "stream",
     "text": [
      "0. Birds of a Feather, We Rock Together (feat. Antwaun Stanley) -- Vulfpeck\n",
      "1. Baby I Don’t Know Oh Oh (feat. Charles Jones) -- Vulfpeck\n",
      "2. Mr. Finish Line (feat. Christine Hucal & Theo Katzman) -- Vulfpeck\n",
      "3. Tee Time -- Vulfpeck\n",
      "4. Running Away (feat. Joey Dosik, David T. Walker & James Gadson) -- Vulfpeck\n",
      "5. Hero Town (feat. Michael Bland) -- Vulfpeck\n",
      "6. Business Casual (feat. Coco O.) -- Vulfpeck\n",
      "7. Vulf Pack -- Vulfpeck\n",
      "8. Grandma (feat. Antwaun Stanley, David T. Walker & James Gadson) -- Vulfpeck\n",
      "9. Captain Hook (feat. Baby Theo, Bootsy Collins & Mushy Kay) -- Vulfpeck\n",
      "10. Back Pocket -- Vulfpeck\n",
      "\n",
      "Sequence Shape: (11, 4163, 60)\n",
      "Metadata Shape: (11, 12, 1)\n"
     ]
    }
   ],
   "source": [
    "seq,meta,tracklist = prepData([Album('mr. finish line'),Track('back pocket')])"
   ]
  },
  {
   "cell_type": "code",
   "execution_count": 38,
   "metadata": {
    "collapsed": true
   },
   "outputs": [],
   "source": [
    "from keras.models import load_model\n",
    "model = load_model('/home/zrachlin/spotifire/Genre_Prediction/weights.05--2.44.hdf5')"
   ]
  },
  {
   "cell_type": "code",
   "execution_count": 39,
   "metadata": {
    "collapsed": true
   },
   "outputs": [],
   "source": [
    "a = model.predict(x=[seq,meta.reshape(-1,12)])"
   ]
  },
  {
   "cell_type": "code",
   "execution_count": 22,
   "metadata": {
    "collapsed": true
   },
   "outputs": [],
   "source": [
    "import pickle\n",
    "genreDict = pickle.load(open('genreDict.p','rb'))"
   ]
  },
  {
   "cell_type": "code",
   "execution_count": 27,
   "metadata": {},
   "outputs": [
    {
     "data": {
      "text/plain": [
       "[('Alternative Rock', 0),\n",
       " ('Bluegrass', 1),\n",
       " ('Blues', 2),\n",
       " ('Classical', 3),\n",
       " ('Country', 4),\n",
       " ('Dubstep', 5),\n",
       " ('EDM', 6),\n",
       " ('Electronic', 7),\n",
       " ('Emo', 8),\n",
       " ('Folk', 9),\n",
       " ('Gospel', 10),\n",
       " ('Grunge', 11),\n",
       " ('Hip Hop', 12),\n",
       " ('Indie Rock', 13),\n",
       " ('Jazz', 14),\n",
       " ('Metal', 15),\n",
       " ('Motown', 16),\n",
       " ('Pop', 17),\n",
       " ('Rap', 18),\n",
       " ('Reggae', 19),\n",
       " ('Rock', 20),\n",
       " ('Ska Punk', 21),\n",
       " ('Soundtrack', 22)]"
      ]
     },
     "execution_count": 27,
     "metadata": {},
     "output_type": "execute_result"
    }
   ],
   "source": [
    "[(key,genreDict[key]['id']) for key,val in genreDict.items()]\n",
    "genreList = list(genreDict.keys())"
   ]
  },
  {
   "cell_type": "code",
   "execution_count": 41,
   "metadata": {},
   "outputs": [
    {
     "data": {
      "text/plain": [
       "['Birds of a Feather, We Rock Together (feat. Antwaun Stanley) --> Folk',\n",
       " 'Baby I Don’t Know Oh Oh (feat. Charles Jones) --> Pop',\n",
       " 'Mr. Finish Line (feat. Christine Hucal & Theo Katzman) --> Hip Hop',\n",
       " 'Tee Time --> Electronic',\n",
       " 'Running Away (feat. Joey Dosik, David T. Walker & James Gadson) --> Hip Hop',\n",
       " 'Hero Town (feat. Michael Bland) --> Electronic',\n",
       " 'Business Casual (feat. Coco O.) --> Hip Hop',\n",
       " 'Vulf Pack --> Electronic',\n",
       " 'Grandma (feat. Antwaun Stanley, David T. Walker & James Gadson) --> Hip Hop',\n",
       " 'Captain Hook (feat. Baby Theo, Bootsy Collins & Mushy Kay) --> Hip Hop',\n",
       " 'Back Pocket --> Pop']"
      ]
     },
     "execution_count": 41,
     "metadata": {},
     "output_type": "execute_result"
    }
   ],
   "source": [
    "['{} --> {}'.format(tracklist[i],genreList[np.argmax(a[0][i])]) for i in range(11)]"
   ]
  },
  {
   "cell_type": "code",
   "execution_count": 54,
   "metadata": {},
   "outputs": [
    {
     "name": "stdout",
     "output_type": "stream",
     "text": [
      "0. Intro -- alt-J\n",
      "1. Interlude 1 -- alt-J\n",
      "2. Tessellate -- alt-J\n",
      "3. Breezeblocks -- alt-J\n",
      "4. Interlude 2 -- alt-J\n",
      "5. Something Good -- alt-J\n",
      "6. Dissolve Me -- alt-J\n",
      "7. Matilda -- alt-J\n",
      "8. Ms -- alt-J\n",
      "9. Fitzpleasure -- alt-J\n",
      "10. Interlude 3 -- alt-J\n",
      "11. Bloodflood -- alt-J\n",
      "12. Taro -- alt-J\n",
      "13. Hand-Made -- alt-J\n",
      "\n",
      "Sequence Shape: (14, 4163, 60)\n",
      "Metadata Shape: (14, 12, 1)\n"
     ]
    }
   ],
   "source": [
    "seq,meta,tracklist = prepData([Album('an awesome wave')])"
   ]
  },
  {
   "cell_type": "code",
   "execution_count": 55,
   "metadata": {},
   "outputs": [
    {
     "name": "stdout",
     "output_type": "stream",
     "text": [
      "['Intro --> Electronic', 'Interlude 1 --> Hip Hop', 'Tessellate --> Pop', 'Breezeblocks --> Indie Rock', 'Interlude 2 --> Classical', 'Something Good --> Folk', 'Dissolve Me --> EDM', 'Matilda --> Indie Rock', 'Ms --> Folk', 'Fitzpleasure --> Indie Rock', 'Interlude 3 --> Classical', 'Bloodflood --> Indie Rock', 'Taro --> Folk', 'Hand-Made --> Folk']\n"
     ]
    }
   ],
   "source": [
    "a = model.predict(x=[seq,meta.reshape(-1,12)])\n",
    "b = ['{} --> {}'.format(tracklist[i],genreList[np.argmax(a[0][i])]) for i in range(len(a[0]))]\n",
    "print(b)"
   ]
  },
  {
   "cell_type": "code",
   "execution_count": 61,
   "metadata": {},
   "outputs": [
    {
     "name": "stdout",
     "output_type": "stream",
     "text": [
      "0. Slow Train - Live in London -- Bob Dylan\n",
      "1. Precious Angel - Live at the Warfield Theatre, San Francisco, CA - November 16, 1979 -- Bob Dylan\n",
      "2. Gotta Serve Somebody - Live at the Warfield Theatre, San Francisco, CA - November 15, 1979 -- Bob Dylan\n",
      "3. When He Returns - Take 2 -- Bob Dylan\n",
      "4. Solid Rock - Live at Golden Hall, San Diego, CA - November 27, 1979 -- Bob Dylan\n",
      "5. Gonna Change My Way of Thinking - Live at the Orpheum Theater, Memphis, TN - January 31, 1980 -- Bob Dylan\n",
      "6. Ain't Gonna Go to Hell for Anybody - Live at Le Theatre Saint-Denis, Montreal, Quebec - April 24, 1980 -- Bob Dylan\n",
      "7. When You Gonna Wake Up? - Live at Drammenshallen, Drammen, Norway - July 9, 1981 -- Bob Dylan\n",
      "8. Covenant Woman - Take 3 -- Bob Dylan\n",
      "9. Shot of Love - Outtake -- Bob Dylan\n",
      "10. Making a Liar Out of Me - Rehearsal -- Bob Dylan\n",
      "11. City of Gold - Live Nov. 22, 1980 -- Bob Dylan\n",
      "12. Yonder Comes Sin - Rehearsal -- Bob Dylan\n",
      "13. Caribbean Wind - Rehearsal with pedal steel -- Bob Dylan\n",
      "14. Dead Man, Dead Man - Outtake -- Bob Dylan\n",
      "\n",
      "Sequence Shape: (15, 4163, 60)\n",
      "Metadata Shape: (15, 12, 1)\n"
     ]
    }
   ],
   "source": [
    "seq,meta,tracklist = prepData([Artist('bob dylan').getAlbums()[0]])"
   ]
  },
  {
   "cell_type": "code",
   "execution_count": 62,
   "metadata": {},
   "outputs": [
    {
     "name": "stdout",
     "output_type": "stream",
     "text": [
      "Slow Train - Live in London --> Rock,Rock\n",
      "Precious Angel - Live at the Warfield Theatre, San Francisco, CA - November 16, 1979 --> Rock,Classical\n",
      "Gotta Serve Somebody - Live at the Warfield Theatre, San Francisco, CA - November 15, 1979 --> Indie Rock,Indie Rock\n",
      "When He Returns - Take 2 --> Jazz,Motown\n",
      "Solid Rock - Live at Golden Hall, San Diego, CA - November 27, 1979 --> Pop,Classical\n",
      "Gonna Change My Way of Thinking - Live at the Orpheum Theater, Memphis, TN - January 31, 1980 --> Motown,Indie Rock\n",
      "Ain't Gonna Go to Hell for Anybody - Live at Le Theatre Saint-Denis, Montreal, Quebec - April 24, 1980 --> Rock,Indie Rock\n",
      "When You Gonna Wake Up? - Live at Drammenshallen, Drammen, Norway - July 9, 1981 --> Jazz,Classical\n",
      "Covenant Woman - Take 3 --> Jazz,Motown\n",
      "Shot of Love - Outtake --> Motown,Motown\n",
      "Making a Liar Out of Me - Rehearsal --> Rock,Rock\n",
      "City of Gold - Live Nov. 22, 1980 --> Folk,Indie Rock\n",
      "Yonder Comes Sin - Rehearsal --> Rock,Rock\n",
      "Caribbean Wind - Rehearsal with pedal steel --> Motown,Rock\n",
      "Dead Man, Dead Man - Outtake --> Rock,Hip Hop\n"
     ]
    }
   ],
   "source": [
    "a = model.predict(x=[seq,meta.reshape(-1,12)])\n",
    "for i in range(len(a[0])):\n",
    "    print('{} --> {},{}'.format(tracklist[i],genreList[np.argmax(a[0][i])],genreList[np.argmax(a[1][i])]))\n",
    "#b = ['{} --> {},{}'.format(tracklist[i],genreList[np.argmax(a[0][i])],genreList[np.argmax(a[1][i])]) for i in range(len(a[0]))]\n",
    "#print(b)"
   ]
  },
  {
   "cell_type": "code",
   "execution_count": 30,
   "metadata": {
    "collapsed": true
   },
   "outputs": [],
   "source": [
    "from keras.layers import Input, LSTM, Dense\n",
    "from keras.models import Model\n",
    "\n",
    "\n",
    "main_input = Input(shape=((4163,60)), name='main_input')\n",
    "\n",
    "# A LSTM will transform the vector sequence into a single vector,\n",
    "# containing information about the entire sequence\n",
    "lstm_out = LSTM(32)(main_input)\n",
    "auxiliary_output = Dense(23, activation='softmax', name='aux_output')(lstm_out)\n",
    "\n",
    "auxiliary_input = Input(shape=(12,), name='aux_input')\n",
    "\n",
    "x = keras.layers.concatenate([lstm_out, auxiliary_input])\n",
    "\n",
    "# We stack a deep densely-connected network on top\n",
    "x = Dense(64, activation='relu')(x)\n",
    "x = Dense(64, activation='relu')(x)\n",
    "x = Dense(64, activation='relu')(x)\n",
    "\n",
    "main_output = Dense(23, activation='softmax', name='main_output')(x)\n",
    "\n",
    "model = Model(inputs=[main_input, auxiliary_input], outputs=[main_output, auxiliary_output])"
   ]
  },
  {
   "cell_type": "code",
   "execution_count": 37,
   "metadata": {},
   "outputs": [
    {
     "name": "stdout",
     "output_type": "stream",
     "text": [
      "Keys: KeysView(<HDF5 file \"weights.05--2.44.hdf5\" (mode r)>)\n"
     ]
    },
    {
     "data": {
      "text/plain": [
       "['aux_input',\n",
       " 'aux_output',\n",
       " 'lambda_10',\n",
       " 'lambda_11',\n",
       " 'lambda_12',\n",
       " 'lambda_13',\n",
       " 'lambda_14',\n",
       " 'lambda_15',\n",
       " 'lambda_16',\n",
       " 'lambda_9',\n",
       " 'main_input',\n",
       " 'main_output',\n",
       " 'model_3']"
      ]
     },
     "execution_count": 37,
     "metadata": {},
     "output_type": "execute_result"
    }
   ],
   "source": [
    "\n",
    "import h5py\n",
    "filename = '/data/home/zrachlin/spotifire/Genre_Prediction/weights.05--2.44.hdf5'\n",
    "f = h5py.File(filename, 'r')\n",
    "\n",
    "# List all groups\n",
    "print(\"Keys: %s\" % f.keys())\n",
    "a_group_key = list(f.keys())[0]\n",
    "\n",
    "# Get the data\n",
    "data = list(f[a_group_key])\n",
    "data"
   ]
  },
  {
   "cell_type": "code",
   "execution_count": 41,
   "metadata": {},
   "outputs": [
    {
     "data": {
      "text/plain": [
       "<HDF5 group \"/model_weights\" (13 members)>"
      ]
     },
     "execution_count": 41,
     "metadata": {},
     "output_type": "execute_result"
    }
   ],
   "source": [
    "f['model_weights']"
   ]
  },
  {
   "cell_type": "code",
   "execution_count": 26,
   "metadata": {},
   "outputs": [
    {
     "ename": "InternalError",
     "evalue": "Failed to create session.",
     "output_type": "error",
     "traceback": [
      "\u001b[0;31m---------------------------------------------------------------------------\u001b[0m",
      "\u001b[0;31mInternalError\u001b[0m                             Traceback (most recent call last)",
      "\u001b[0;32m<ipython-input-26-1c823185c2cb>\u001b[0m in \u001b[0;36m<module>\u001b[0;34m()\u001b[0m\n\u001b[1;32m      6\u001b[0m \u001b[0;34m\u001b[0m\u001b[0m\n\u001b[1;32m      7\u001b[0m \u001b[0;34m\u001b[0m\u001b[0m\n\u001b[0;32m----> 8\u001b[0;31m \u001b[0mmodel\u001b[0m \u001b[0;34m=\u001b[0m \u001b[0mload_model\u001b[0m\u001b[0;34m(\u001b[0m\u001b[0;34m'weights.05--2.44.hdf5'\u001b[0m\u001b[0;34m)\u001b[0m\u001b[0;34m\u001b[0m\u001b[0m\n\u001b[0m\u001b[1;32m      9\u001b[0m \u001b[0minit\u001b[0m \u001b[0;34m=\u001b[0m \u001b[0mtf\u001b[0m\u001b[0;34m.\u001b[0m\u001b[0mglobal_variables_initializer\u001b[0m\u001b[0;34m(\u001b[0m\u001b[0;34m)\u001b[0m\u001b[0;34m\u001b[0m\u001b[0m\n\u001b[1;32m     10\u001b[0m \u001b[0mgpu_options\u001b[0m \u001b[0;34m=\u001b[0m \u001b[0mtf\u001b[0m\u001b[0;34m.\u001b[0m\u001b[0mGPUOptions\u001b[0m\u001b[0;34m(\u001b[0m\u001b[0mallow_growth\u001b[0m\u001b[0;34m=\u001b[0m\u001b[0;32mTrue\u001b[0m\u001b[0;34m)\u001b[0m\u001b[0;34m\u001b[0m\u001b[0m\n",
      "\u001b[0;32m~/.local/lib/python3.6/site-packages/keras/engine/saving.py\u001b[0m in \u001b[0;36mload_model\u001b[0;34m(filepath, custom_objects, compile)\u001b[0m\n\u001b[1;32m    262\u001b[0m \u001b[0;34m\u001b[0m\u001b[0m\n\u001b[1;32m    263\u001b[0m         \u001b[0;31m# set weights\u001b[0m\u001b[0;34m\u001b[0m\u001b[0;34m\u001b[0m\u001b[0m\n\u001b[0;32m--> 264\u001b[0;31m         \u001b[0mload_weights_from_hdf5_group\u001b[0m\u001b[0;34m(\u001b[0m\u001b[0mf\u001b[0m\u001b[0;34m[\u001b[0m\u001b[0;34m'model_weights'\u001b[0m\u001b[0;34m]\u001b[0m\u001b[0;34m,\u001b[0m \u001b[0mmodel\u001b[0m\u001b[0;34m.\u001b[0m\u001b[0mlayers\u001b[0m\u001b[0;34m)\u001b[0m\u001b[0;34m\u001b[0m\u001b[0m\n\u001b[0m\u001b[1;32m    265\u001b[0m \u001b[0;34m\u001b[0m\u001b[0m\n\u001b[1;32m    266\u001b[0m         \u001b[0;32mif\u001b[0m \u001b[0mcompile\u001b[0m\u001b[0;34m:\u001b[0m\u001b[0;34m\u001b[0m\u001b[0m\n",
      "\u001b[0;32m~/.local/lib/python3.6/site-packages/keras/engine/saving.py\u001b[0m in \u001b[0;36mload_weights_from_hdf5_group\u001b[0;34m(f, layers, reshape)\u001b[0m\n\u001b[1;32m    927\u001b[0m                              ' elements.')\n\u001b[1;32m    928\u001b[0m         \u001b[0mweight_value_tuples\u001b[0m \u001b[0;34m+=\u001b[0m \u001b[0mzip\u001b[0m\u001b[0;34m(\u001b[0m\u001b[0msymbolic_weights\u001b[0m\u001b[0;34m,\u001b[0m \u001b[0mweight_values\u001b[0m\u001b[0;34m)\u001b[0m\u001b[0;34m\u001b[0m\u001b[0m\n\u001b[0;32m--> 929\u001b[0;31m     \u001b[0mK\u001b[0m\u001b[0;34m.\u001b[0m\u001b[0mbatch_set_value\u001b[0m\u001b[0;34m(\u001b[0m\u001b[0mweight_value_tuples\u001b[0m\u001b[0;34m)\u001b[0m\u001b[0;34m\u001b[0m\u001b[0m\n\u001b[0m\u001b[1;32m    930\u001b[0m \u001b[0;34m\u001b[0m\u001b[0m\n\u001b[1;32m    931\u001b[0m \u001b[0;34m\u001b[0m\u001b[0m\n",
      "\u001b[0;32m~/.local/lib/python3.6/site-packages/keras/backend/tensorflow_backend.py\u001b[0m in \u001b[0;36mbatch_set_value\u001b[0;34m(tuples)\u001b[0m\n\u001b[1;32m   2433\u001b[0m             \u001b[0massign_ops\u001b[0m\u001b[0;34m.\u001b[0m\u001b[0mappend\u001b[0m\u001b[0;34m(\u001b[0m\u001b[0massign_op\u001b[0m\u001b[0;34m)\u001b[0m\u001b[0;34m\u001b[0m\u001b[0m\n\u001b[1;32m   2434\u001b[0m             \u001b[0mfeed_dict\u001b[0m\u001b[0;34m[\u001b[0m\u001b[0massign_placeholder\u001b[0m\u001b[0;34m]\u001b[0m \u001b[0;34m=\u001b[0m \u001b[0mvalue\u001b[0m\u001b[0;34m\u001b[0m\u001b[0m\n\u001b[0;32m-> 2435\u001b[0;31m         \u001b[0mget_session\u001b[0m\u001b[0;34m(\u001b[0m\u001b[0;34m)\u001b[0m\u001b[0;34m.\u001b[0m\u001b[0mrun\u001b[0m\u001b[0;34m(\u001b[0m\u001b[0massign_ops\u001b[0m\u001b[0;34m,\u001b[0m \u001b[0mfeed_dict\u001b[0m\u001b[0;34m=\u001b[0m\u001b[0mfeed_dict\u001b[0m\u001b[0;34m)\u001b[0m\u001b[0;34m\u001b[0m\u001b[0m\n\u001b[0m\u001b[1;32m   2436\u001b[0m \u001b[0;34m\u001b[0m\u001b[0m\n\u001b[1;32m   2437\u001b[0m \u001b[0;34m\u001b[0m\u001b[0m\n",
      "\u001b[0;32m~/.local/lib/python3.6/site-packages/keras/backend/tensorflow_backend.py\u001b[0m in \u001b[0;36mget_session\u001b[0;34m()\u001b[0m\n\u001b[1;32m    181\u001b[0m                 config = tf.ConfigProto(intra_op_parallelism_threads=num_thread,\n\u001b[1;32m    182\u001b[0m                                         allow_soft_placement=True)\n\u001b[0;32m--> 183\u001b[0;31m             \u001b[0m_SESSION\u001b[0m \u001b[0;34m=\u001b[0m \u001b[0mtf\u001b[0m\u001b[0;34m.\u001b[0m\u001b[0mSession\u001b[0m\u001b[0;34m(\u001b[0m\u001b[0mconfig\u001b[0m\u001b[0;34m=\u001b[0m\u001b[0mconfig\u001b[0m\u001b[0;34m)\u001b[0m\u001b[0;34m\u001b[0m\u001b[0m\n\u001b[0m\u001b[1;32m    184\u001b[0m         \u001b[0msession\u001b[0m \u001b[0;34m=\u001b[0m \u001b[0m_SESSION\u001b[0m\u001b[0;34m\u001b[0m\u001b[0m\n\u001b[1;32m    185\u001b[0m     \u001b[0;32mif\u001b[0m \u001b[0;32mnot\u001b[0m \u001b[0m_MANUAL_VAR_INIT\u001b[0m\u001b[0;34m:\u001b[0m\u001b[0;34m\u001b[0m\u001b[0m\n",
      "\u001b[0;32m~/.local/lib/python3.6/site-packages/tensorflow/python/client/session.py\u001b[0m in \u001b[0;36m__init__\u001b[0;34m(self, target, graph, config)\u001b[0m\n\u001b[1;32m   1558\u001b[0m \u001b[0;34m\u001b[0m\u001b[0m\n\u001b[1;32m   1559\u001b[0m     \"\"\"\n\u001b[0;32m-> 1560\u001b[0;31m     \u001b[0msuper\u001b[0m\u001b[0;34m(\u001b[0m\u001b[0mSession\u001b[0m\u001b[0;34m,\u001b[0m \u001b[0mself\u001b[0m\u001b[0;34m)\u001b[0m\u001b[0;34m.\u001b[0m\u001b[0m__init__\u001b[0m\u001b[0;34m(\u001b[0m\u001b[0mtarget\u001b[0m\u001b[0;34m,\u001b[0m \u001b[0mgraph\u001b[0m\u001b[0;34m,\u001b[0m \u001b[0mconfig\u001b[0m\u001b[0;34m=\u001b[0m\u001b[0mconfig\u001b[0m\u001b[0;34m)\u001b[0m\u001b[0;34m\u001b[0m\u001b[0m\n\u001b[0m\u001b[1;32m   1561\u001b[0m     \u001b[0;31m# NOTE(mrry): Create these on first `__enter__` to avoid a reference cycle.\u001b[0m\u001b[0;34m\u001b[0m\u001b[0;34m\u001b[0m\u001b[0m\n\u001b[1;32m   1562\u001b[0m     \u001b[0mself\u001b[0m\u001b[0;34m.\u001b[0m\u001b[0m_default_graph_context_manager\u001b[0m \u001b[0;34m=\u001b[0m \u001b[0;32mNone\u001b[0m\u001b[0;34m\u001b[0m\u001b[0m\n",
      "\u001b[0;32m~/.local/lib/python3.6/site-packages/tensorflow/python/client/session.py\u001b[0m in \u001b[0;36m__init__\u001b[0;34m(self, target, graph, config)\u001b[0m\n\u001b[1;32m    631\u001b[0m       \u001b[0;32mif\u001b[0m \u001b[0mself\u001b[0m\u001b[0;34m.\u001b[0m\u001b[0m_created_with_new_api\u001b[0m\u001b[0;34m:\u001b[0m\u001b[0;34m\u001b[0m\u001b[0m\n\u001b[1;32m    632\u001b[0m         \u001b[0;31m# pylint: disable=protected-access\u001b[0m\u001b[0;34m\u001b[0m\u001b[0;34m\u001b[0m\u001b[0m\n\u001b[0;32m--> 633\u001b[0;31m         \u001b[0mself\u001b[0m\u001b[0;34m.\u001b[0m\u001b[0m_session\u001b[0m \u001b[0;34m=\u001b[0m \u001b[0mtf_session\u001b[0m\u001b[0;34m.\u001b[0m\u001b[0mTF_NewSession\u001b[0m\u001b[0;34m(\u001b[0m\u001b[0mself\u001b[0m\u001b[0;34m.\u001b[0m\u001b[0m_graph\u001b[0m\u001b[0;34m.\u001b[0m\u001b[0m_c_graph\u001b[0m\u001b[0;34m,\u001b[0m \u001b[0mopts\u001b[0m\u001b[0;34m)\u001b[0m\u001b[0;34m\u001b[0m\u001b[0m\n\u001b[0m\u001b[1;32m    634\u001b[0m         \u001b[0;31m# pylint: enable=protected-access\u001b[0m\u001b[0;34m\u001b[0m\u001b[0;34m\u001b[0m\u001b[0m\n\u001b[1;32m    635\u001b[0m       \u001b[0;32melse\u001b[0m\u001b[0;34m:\u001b[0m\u001b[0;34m\u001b[0m\u001b[0m\n",
      "\u001b[0;31mInternalError\u001b[0m: Failed to create session."
     ]
    }
   ],
   "source": [
    "import os\n",
    "os.environ['CUDA_VISIBLE_DEVICES'] = \"\"\n",
    "import tensorflow as tf \n",
    "from keras.models import load_model\n",
    "from keras import backend as K\n",
    "\n",
    "\n",
    "model = load_model('weights.05--2.44.hdf5')\n",
    "init = tf.global_variables_initializer()\n",
    "gpu_options = tf.GPUOptions(allow_growth=True)\n",
    "# Add ops to save and restore all the variables.\n",
    "with tf.Session(config=tf.ConfigProto(gpu_options=gpu_options, allow_soft_placement=True,\\\n",
    "                                    log_device_placement=True)) as sess:\n",
    "    K.set_session(sess)\n",
    "    sess.run(init)\n",
    "    tf.train.start_queue_runners(sess=sess)\n",
    "    # Call model.fit here\n",
    "    sess.close()"
   ]
  },
  {
   "cell_type": "code",
   "execution_count": 23,
   "metadata": {
    "collapsed": true
   },
   "outputs": [],
   "source": [
    "import os\n",
    "os.environ[\"CUDA_DEVICE_ORDER\"]=\"PCI_BUS_ID\"   # see issue #152\n",
    "os.environ[\"CUDA_VISIBLE_DEVICES\"]=\"\""
   ]
  },
  {
   "cell_type": "code",
   "execution_count": 24,
   "metadata": {},
   "outputs": [
    {
     "name": "stdout",
     "output_type": "stream",
     "text": [
      "\n"
     ]
    }
   ],
   "source": [
    "print(os.environ[\"CUDA_VISIBLE_DEVICES\"])"
   ]
  },
  {
   "cell_type": "code",
   "execution_count": null,
   "metadata": {
    "collapsed": true
   },
   "outputs": [],
   "source": []
  }
 ],
 "metadata": {
  "kernelspec": {
   "display_name": "Python 3",
   "language": "python",
   "name": "python3"
  },
  "language_info": {
   "codemirror_mode": {
    "name": "ipython",
    "version": 3
   },
   "file_extension": ".py",
   "mimetype": "text/x-python",
   "name": "python",
   "nbconvert_exporter": "python",
   "pygments_lexer": "ipython3",
   "version": "3.6.2"
  }
 },
 "nbformat": 4,
 "nbformat_minor": 2
}

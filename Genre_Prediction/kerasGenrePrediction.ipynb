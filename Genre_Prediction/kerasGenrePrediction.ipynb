{
 "cells": [
  {
   "cell_type": "markdown",
   "metadata": {},
   "source": [
    "# Deep Learning for Genre Classification\n",
    "\n",
    "Let's get to it! \n",
    "\n",
    "First, our normal routine for setting environment variables and getting access to the OOSpotify functionality ..."
   ]
  },
  {
   "cell_type": "code",
   "execution_count": 1,
   "metadata": {
    "collapsed": true
   },
   "outputs": [],
   "source": [
    "import sys\n",
    "sys.path.append('../OOSpotify/')\n",
    "from OOSpotify import *"
   ]
  },
  {
   "cell_type": "markdown",
   "metadata": {},
   "source": [
    "Now let's load the big dictionary we created at the end of genrePreparation.ipynb. This contains all of the track info for all of our 23 genres."
   ]
  },
  {
   "cell_type": "code",
   "execution_count": 2,
   "metadata": {
    "collapsed": true
   },
   "outputs": [],
   "source": [
    "import pickle\n",
    "genreDict = pickle.load(open('genreDict.p','rb'))"
   ]
  },
  {
   "cell_type": "code",
   "execution_count": null,
   "metadata": {
    "collapsed": true
   },
   "outputs": [],
   "source": [
    "np.repeat(genreDict['Alternative Rock']['trackDict'][1]['trackSegs'].loudness_max.tolist(),12).reshape(-1,12)"
   ]
  },
  {
   "cell_type": "code",
   "execution_count": null,
   "metadata": {
    "collapsed": true
   },
   "outputs": [],
   "source": [
    "b = genreDict['Alternative Rock']['trackDict'][1]['trackSegs']\n",
    "p = np.array([i for i in b.pitches])\n",
    "t = np.array([i for i in b.timbre])\n",
    "l = np.repeat(b.loudness_max.tolist(),12).reshape(-1,12)\n",
    "c = np.repeat(b.confidence.tolist(),12).reshape(-1,12)\n",
    "print(p.shape,t.shape,l.shape,c.shape)\n",
    "combo = np.dstack((p,t,l,c))\n",
    "combo.shape"
   ]
  },
  {
   "cell_type": "code",
   "execution_count": null,
   "metadata": {
    "collapsed": true
   },
   "outputs": [],
   "source": [
    "combo[0][:2]"
   ]
  },
  {
   "cell_type": "code",
   "execution_count": 3,
   "metadata": {},
   "outputs": [
    {
     "data": {
      "text/html": [
       "<div>\n",
       "<style>\n",
       "    .dataframe thead tr:only-child th {\n",
       "        text-align: right;\n",
       "    }\n",
       "\n",
       "    .dataframe thead th {\n",
       "        text-align: left;\n",
       "    }\n",
       "\n",
       "    .dataframe tbody tr th {\n",
       "        vertical-align: top;\n",
       "    }\n",
       "</style>\n",
       "<table border=\"1\" class=\"dataframe\">\n",
       "  <thead>\n",
       "    <tr style=\"text-align: right;\">\n",
       "      <th></th>\n",
       "      <th>confidence</th>\n",
       "      <th>duration</th>\n",
       "      <th>loudness_end</th>\n",
       "      <th>loudness_max</th>\n",
       "      <th>loudness_max_time</th>\n",
       "      <th>loudness_start</th>\n",
       "      <th>pitches</th>\n",
       "      <th>start</th>\n",
       "      <th>timbre</th>\n",
       "    </tr>\n",
       "  </thead>\n",
       "  <tbody>\n",
       "    <tr>\n",
       "      <th>0</th>\n",
       "      <td>1.000</td>\n",
       "      <td>0.31918</td>\n",
       "      <td>NaN</td>\n",
       "      <td>-26.553</td>\n",
       "      <td>0.20401</td>\n",
       "      <td>-60.000</td>\n",
       "      <td>[0.039, 0.046, 0.058, 1.0, 0.04, 0.036, 0.041,...</td>\n",
       "      <td>0.00000</td>\n",
       "      <td>[21.04, 192.807, 228.303, -180.915, 77.546, 15...</td>\n",
       "    </tr>\n",
       "    <tr>\n",
       "      <th>1</th>\n",
       "      <td>0.623</td>\n",
       "      <td>0.25483</td>\n",
       "      <td>NaN</td>\n",
       "      <td>-21.271</td>\n",
       "      <td>0.09688</td>\n",
       "      <td>-28.246</td>\n",
       "      <td>[0.402, 0.548, 0.589, 1.0, 0.848, 0.724, 0.775...</td>\n",
       "      <td>0.31918</td>\n",
       "      <td>[35.984, 79.755, 165.445, 47.584, 33.98, 1.891...</td>\n",
       "    </tr>\n",
       "    <tr>\n",
       "      <th>2</th>\n",
       "      <td>0.160</td>\n",
       "      <td>0.21546</td>\n",
       "      <td>NaN</td>\n",
       "      <td>-24.774</td>\n",
       "      <td>0.12896</td>\n",
       "      <td>-27.333</td>\n",
       "      <td>[0.04, 0.03, 0.036, 1.0, 0.128, 0.036, 0.029, ...</td>\n",
       "      <td>0.57401</td>\n",
       "      <td>[34.61, 47.777, 206.004, 33.644, 76.533, -25.0...</td>\n",
       "    </tr>\n",
       "    <tr>\n",
       "      <th>3</th>\n",
       "      <td>0.407</td>\n",
       "      <td>0.30218</td>\n",
       "      <td>NaN</td>\n",
       "      <td>-21.818</td>\n",
       "      <td>0.03017</td>\n",
       "      <td>-25.928</td>\n",
       "      <td>[0.243, 0.368, 0.331, 1.0, 0.334, 0.318, 0.353...</td>\n",
       "      <td>0.78948</td>\n",
       "      <td>[35.546, 60.055, 156.861, 54.281, 40.339, -40....</td>\n",
       "    </tr>\n",
       "    <tr>\n",
       "      <th>4</th>\n",
       "      <td>0.652</td>\n",
       "      <td>0.52766</td>\n",
       "      <td>NaN</td>\n",
       "      <td>-20.315</td>\n",
       "      <td>0.39887</td>\n",
       "      <td>-29.746</td>\n",
       "      <td>[0.578, 0.948, 0.784, 1.0, 0.783, 0.684, 0.61,...</td>\n",
       "      <td>1.09166</td>\n",
       "      <td>[35.615, 104.531, 195.808, 10.617, 38.743, -5....</td>\n",
       "    </tr>\n",
       "  </tbody>\n",
       "</table>\n",
       "</div>"
      ],
      "text/plain": [
       "   confidence  duration  loudness_end  loudness_max  loudness_max_time  \\\n",
       "0       1.000   0.31918           NaN       -26.553            0.20401   \n",
       "1       0.623   0.25483           NaN       -21.271            0.09688   \n",
       "2       0.160   0.21546           NaN       -24.774            0.12896   \n",
       "3       0.407   0.30218           NaN       -21.818            0.03017   \n",
       "4       0.652   0.52766           NaN       -20.315            0.39887   \n",
       "\n",
       "   loudness_start                                            pitches    start  \\\n",
       "0         -60.000  [0.039, 0.046, 0.058, 1.0, 0.04, 0.036, 0.041,...  0.00000   \n",
       "1         -28.246  [0.402, 0.548, 0.589, 1.0, 0.848, 0.724, 0.775...  0.31918   \n",
       "2         -27.333  [0.04, 0.03, 0.036, 1.0, 0.128, 0.036, 0.029, ...  0.57401   \n",
       "3         -25.928  [0.243, 0.368, 0.331, 1.0, 0.334, 0.318, 0.353...  0.78948   \n",
       "4         -29.746  [0.578, 0.948, 0.784, 1.0, 0.783, 0.684, 0.61,...  1.09166   \n",
       "\n",
       "                                              timbre  \n",
       "0  [21.04, 192.807, 228.303, -180.915, 77.546, 15...  \n",
       "1  [35.984, 79.755, 165.445, 47.584, 33.98, 1.891...  \n",
       "2  [34.61, 47.777, 206.004, 33.644, 76.533, -25.0...  \n",
       "3  [35.546, 60.055, 156.861, 54.281, 40.339, -40....  \n",
       "4  [35.615, 104.531, 195.808, 10.617, 38.743, -5....  "
      ]
     },
     "execution_count": 3,
     "metadata": {},
     "output_type": "execute_result"
    }
   ],
   "source": [
    "genreDict['Alternative Rock']['trackDict'][1]['trackSegs'].head()"
   ]
  },
  {
   "cell_type": "code",
   "execution_count": null,
   "metadata": {
    "collapsed": true
   },
   "outputs": [],
   "source": []
  },
  {
   "cell_type": "code",
   "execution_count": 3,
   "metadata": {},
   "outputs": [
    {
     "name": "stdout",
     "output_type": "stream",
     "text": [
      "Finished Alternative Rock\n",
      "Finished Bluegrass\n",
      "Finished Blues\n",
      "Finished Classical\n",
      "Finished Country\n",
      "Finished Dubstep\n",
      "Finished EDM\n",
      "Finished Electronic\n",
      "Finished Emo\n",
      "Finished Folk\n",
      "Finished Gospel\n",
      "Finished Grunge\n",
      "Finished Hip Hop\n",
      "Finished Indie Rock\n",
      "Finished Jazz\n",
      "Finished Metal\n",
      "Finished Motown\n",
      "Finished Pop\n",
      "Finished Rap\n",
      "Finished Reggae\n",
      "Finished Rock\n",
      "Finished Ska Punk\n",
      "Finished Soundtrack\n"
     ]
    }
   ],
   "source": [
    "import numpy as np\n",
    "genreTimeSeries = []\n",
    "genreMetaData = []\n",
    "y = []\n",
    "for i,genre in enumerate(genreDict.keys()):\n",
    "    y.append(np.ones((len(genreDict[genre]['trackList']),1))*i)\n",
    "    tseries = []\n",
    "    metaData = []\n",
    "    for track in genreDict[genre]['trackDict']:\n",
    "        segs = track['trackSegs']\n",
    "        pitches = np.array([i for i in segs.pitches])\n",
    "        timbres = np.array([i for i in segs.timbre])\n",
    "        loudness = np.repeat(segs.loudness_max.tolist(),12).reshape(-1,12)\n",
    "        durations = np.repeat(segs.duration.tolist(),12).reshape(-1,12)\n",
    "        confidences = np.repeat(segs.confidence.tolist(),12).reshape(-1,12)\n",
    "        series_data = np.concatenate((pitches,timbres,loudness,durations,confidences),axis=1)\n",
    "        tseries.append(series_data)\n",
    "        metaData.append(np.array([val for key,val in track['trackObj'].features.items()]).reshape(-1,1))\n",
    "        \n",
    "        \n",
    "    genreTimeSeries.append(tseries)\n",
    "    genreMetaData.append(metaData)\n",
    "    print('Finished {}'.format(genre))"
   ]
  },
  {
   "cell_type": "code",
   "execution_count": 5,
   "metadata": {},
   "outputs": [
    {
     "name": "stderr",
     "output_type": "stream",
     "text": [
      "/usr/local/anaconda3/lib/python3.6/site-packages/h5py/__init__.py:34: FutureWarning: Conversion of the second argument of issubdtype from `float` to `np.floating` is deprecated. In future, it will be treated as `np.float64 == np.dtype(float).type`.\n",
      "  from ._conv import register_converters as _register_converters\n",
      "Using TensorFlow backend.\n"
     ]
    },
    {
     "name": "stdout",
     "output_type": "stream",
     "text": [
      "(13363, 4163, 60) (13363, 12, 1)\n"
     ]
    }
   ],
   "source": [
    "import keras\n",
    "from keras.preprocessing.sequence import pad_sequences\n",
    "maxlen = max([max([song.shape[0] for song in genre]) for genre in genreTimeSeries])\n",
    "padded = [pad_sequences(i,maxlen=maxlen) for i in genreTimeSeries]\n",
    "X = np.concatenate(padded)\n",
    "X_aux = np.concatenate(genreMetaData)\n",
    "print(X.shape,X_aux.shape)"
   ]
  },
  {
   "cell_type": "code",
   "execution_count": 4,
   "metadata": {},
   "outputs": [
    {
     "name": "stderr",
     "output_type": "stream",
     "text": [
      "/usr/local/anaconda3/lib/python3.6/site-packages/h5py/__init__.py:34: FutureWarning: Conversion of the second argument of issubdtype from `float` to `np.floating` is deprecated. In future, it will be treated as `np.float64 == np.dtype(float).type`.\n",
      "  from ._conv import register_converters as _register_converters\n",
      "Using TensorFlow backend.\n"
     ]
    },
    {
     "data": {
      "text/plain": [
       "(13363, 23)"
      ]
     },
     "execution_count": 4,
     "metadata": {},
     "output_type": "execute_result"
    }
   ],
   "source": [
    "from keras.utils.np_utils import to_categorical\n",
    "y_cat = np.concatenate(y)\n",
    "y_cat = to_categorical(y_cat)\n",
    "num_classes = y_cat.shape[1]\n",
    "y_cat.shape"
   ]
  },
  {
   "cell_type": "code",
   "execution_count": 7,
   "metadata": {},
   "outputs": [
    {
     "name": "stdout",
     "output_type": "stream",
     "text": [
      "(12026, 4163, 60) (1337, 4163, 60)\n",
      "(12026, 12, 1) (1337, 12, 1)\n"
     ]
    }
   ],
   "source": [
    "from sklearn.model_selection import train_test_split\n",
    "X_train, X_test,y_train, y_test = train_test_split(X, y_cat, test_size=0.1,random_state=42)\n",
    "Xaux_train, Xaux_test,y_train1, y_test1 = train_test_split(X_aux, y_cat, test_size=0.1,random_state=42)\n",
    "print(X_train.shape,X_test.shape)\n",
    "print(Xaux_train.shape,Xaux_test.shape)"
   ]
  },
  {
   "cell_type": "code",
   "execution_count": 11,
   "metadata": {},
   "outputs": [
    {
     "name": "stdout",
     "output_type": "stream",
     "text": [
      "True\n"
     ]
    }
   ],
   "source": [
    "print(np.array_equal(y_train,y_train1))"
   ]
  },
  {
   "cell_type": "code",
   "execution_count": 8,
   "metadata": {
    "collapsed": true
   },
   "outputs": [],
   "source": [
    "from keras.layers import Input, LSTM, Dense\n",
    "from keras.models import Model\n",
    "\n",
    "\n",
    "main_input = Input(shape=(X_train.shape[1:]), name='main_input')\n",
    "\n",
    "# A LSTM will transform the vector sequence into a single vector,\n",
    "# containing information about the entire sequence\n",
    "lstm_out = LSTM(32)(main_input)\n",
    "auxiliary_output = Dense(num_classes, activation='softmax', name='aux_output')(lstm_out)\n",
    "\n",
    "auxiliary_input = Input(shape=(12,), name='aux_input')\n",
    "\n",
    "x = keras.layers.concatenate([lstm_out, auxiliary_input])\n",
    "\n",
    "# We stack a deep densely-connected network on top\n",
    "x = Dense(64, activation='relu')(x)\n",
    "x = Dense(64, activation='relu')(x)\n",
    "x = Dense(64, activation='relu')(x)\n",
    "\n",
    "main_output = Dense(num_classes, activation='softmax', name='main_output')(x)"
   ]
  },
  {
   "cell_type": "code",
   "execution_count": null,
   "metadata": {
    "collapsed": true
   },
   "outputs": [],
   "source": [
    "model = Model(inputs=[main_input, auxiliary_input], outputs=[main_output, auxiliary_output])"
   ]
  },
  {
   "cell_type": "code",
   "execution_count": null,
   "metadata": {
    "collapsed": true
   },
   "outputs": [],
   "source": [
    "from keras.utils import multi_gpu_model\n",
    "\n",
    "model = Model(inputs=[main_input, auxiliary_input], outputs=[main_output, auxiliary_output])\n",
    "\n",
    "# Replicates `model` on 4 GPUs.\n",
    "# This assumes that your machine has 4 available GPUs.\n",
    "parallel_model = multi_gpu_model(model, gpus=4)"
   ]
  },
  {
   "cell_type": "code",
   "execution_count": null,
   "metadata": {
    "collapsed": true
   },
   "outputs": [],
   "source": [
    "parallel_model.compile(optimizer='adam', loss='categorical_crossentropy',\n",
    "              loss_weights=[1., 0.2],metrics=['accuracy'])"
   ]
  },
  {
   "cell_type": "code",
   "execution_count": null,
   "metadata": {
    "collapsed": true
   },
   "outputs": [],
   "source": [
    "history = parallel_model.fit([X_train, Xaux_train.reshape(-1,12)], [y_train, y_train],validation_data=([X_test,Xaux_test.reshape(-1,12)],[y_test,y_test]),\n",
    "          epochs=10, batch_size=32)"
   ]
  },
  {
   "cell_type": "code",
   "execution_count": 93,
   "metadata": {},
   "outputs": [
    {
     "name": "stdout",
     "output_type": "stream",
     "text": [
      "dict_keys(['val_loss', 'val_main_output_loss', 'val_aux_output_loss', 'val_main_output_acc', 'val_aux_output_acc', 'loss', 'main_output_loss', 'aux_output_loss', 'main_output_acc', 'aux_output_acc'])\n"
     ]
    },
    {
     "data": {
      "image/png": "[encoded data removed]",
      "text/plain": [
       "<matplotlib.figure.Figure at 0x7f12afb113c8>"
      ]
     },
     "metadata": {},
     "output_type": "display_data"
    },
    {
     "data": {
      "image/png": "[encoded data removed]",
      "text/plain": [
       "<matplotlib.figure.Figure at 0x7f12afafc128>"
      ]
     },
     "metadata": {},
     "output_type": "display_data"
    }
   ],
   "source": [
    "def plotHistory(history):\n",
    "    # list all data in history\n",
    "    print(history.history.keys())\n",
    "    # summarize history for accuracy\n",
    "    plt.plot(history.history['main_output_acc'])\n",
    "    plt.plot(history.history['val_main_output_acc'])\n",
    "    plt.plot(history.history['aux_output_acc'])\n",
    "    plt.plot(history.history['val_aux_output_acc'])\n",
    "    plt.title('model accuracy')\n",
    "    plt.ylabel('accuracy')\n",
    "    plt.xlabel('epoch')\n",
    "    plt.legend(['train', 'val','train_aux','val_aux'], loc='upper left')\n",
    "    plt.show()\n",
    "    # summarize history for loss\n",
    "    plt.plot(history.history['loss'])\n",
    "    plt.plot(history.history['val_loss'])\n",
    "    plt.plot(history.history['main_output_loss'])\n",
    "    plt.plot(history.history['aux_output_loss'])\n",
    "    plt.plot(history.history['val_main_output_loss'])\n",
    "    plt.plot(history.history['val_aux_output_loss'])\n",
    "    plt.title('model loss')\n",
    "    plt.ylabel('loss')\n",
    "    plt.xlabel('epoch')\n",
    "    plt.legend(['train', 'val','train_main','train_aux','val_main','val_aux'], loc='upper left')\n",
    "    plt.show()\n",
    "plotHistory(history)"
   ]
  },
  {
   "cell_type": "code",
   "execution_count": null,
   "metadata": {
    "collapsed": true
   },
   "outputs": [],
   "source": [
    "from tensorflow.python.client import device_lib\n",
    "\n",
    "device_lib.list_local_devices()"
   ]
  },
  {
   "cell_type": "code",
   "execution_count": 29,
   "metadata": {
    "collapsed": true
   },
   "outputs": [],
   "source": [
    "import os\n",
    "os.environ[\"CUDA_DEVICE_ORDER\"]=\"PCI_BUS_ID\"   # see issue #152\n",
    "os.environ[\"CUDA_VISIBLE_DEVICES\"]=\"0,1,2,3\""
   ]
  },
  {
   "cell_type": "code",
   "execution_count": null,
   "metadata": {
    "collapsed": true
   },
   "outputs": [],
   "source": [
    "import tensorflow as tf\n",
    "tf.test.gpu_device_name()"
   ]
  },
  {
   "cell_type": "markdown",
   "metadata": {},
   "source": [
    "normalizing features\n",
    "training on small segments of each song and averaging result (5 lstms for 5 song sections)\n",
    "balancing genre classes\n",
    "changing hyperparameters, learning rate scheduling\n",
    "removing aux loss\n",
    "training with only sequence data\n",
    "training with only metadata\n",
    "changing lstm to rnn or temporal conv\n",
    "\n",
    "using sequence data to predict metatdata"
   ]
  },
  {
   "cell_type": "code",
   "execution_count": null,
   "metadata": {
    "collapsed": true
   },
   "outputs": [],
   "source": [
    "os.mkdir('trainH')\n",
    "with open('trainHistoryDict', 'wb') as file_pi:\n",
    "        pickle.dump(history.history, file_pi)"
   ]
  },
  {
   "cell_type": "code",
   "execution_count": 24,
   "metadata": {
    "collapsed": true
   },
   "outputs": [],
   "source": [
    "from keras.layers import Input, LSTM, Dense\n",
    "from keras.models import Model\n",
    "\n",
    "\n",
    "main_input = Input(shape=(X_train.shape[1:]), name='main_input')\n",
    "\n",
    "# A RNN will transform the vector sequence into a single vector,\n",
    "# containing information about the entire sequence\n",
    "lstm_out = LSTM(32)(main_input)\n",
    "auxiliary_output = Dense(num_classes, activation='softmax', name='aux_output')(lstm_out)\n",
    "\n",
    "auxiliary_input = Input(shape=(12,), name='aux_input')\n",
    "\n",
    "x = keras.layers.concatenate([lstm_out, auxiliary_input])\n",
    "\n",
    "# We stack a deep densely-connected network on top\n",
    "x = Dense(64, activation='relu')(x)\n",
    "x = Dense(64, activation='relu')(x)\n",
    "x = Dense(64, activation='relu')(x)\n",
    "\n",
    "main_output = Dense(num_classes, activation='softmax', name='main_output')(x)"
   ]
  },
  {
   "cell_type": "code",
   "execution_count": 26,
   "metadata": {},
   "outputs": [
    {
     "name": "stdout",
     "output_type": "stream",
     "text": [
      "Train on 12026 samples, validate on 1337 samples\n",
      "Epoch 1/50\n",
      "12026/12026 [==============================] - 16549s 1s/step - loss: 3.3898 - main_output_loss: 2.8021 - aux_output_loss: 2.9385 - main_output_acc: 0.1525 - aux_output_acc: 0.1229 - val_loss: 2.9153 - val_main_output_loss: 2.3743 - val_aux_output_loss: 2.7050 - val_main_output_acc: 0.2326 - val_aux_output_acc: 0.1773\n",
      "Epoch 2/50\n",
      "12026/12026 [==============================] - 16399s 1s/step - loss: 2.8743 - main_output_loss: 2.3494 - aux_output_loss: 2.6244 - main_output_acc: 0.2365 - aux_output_acc: 0.1871 - val_loss: 2.6787 - val_main_output_loss: 2.1808 - val_aux_output_loss: 2.4895 - val_main_output_acc: 0.2969 - val_aux_output_acc: 0.2191\n",
      "Epoch 3/50\n",
      "12026/12026 [==============================] - 16379s 1s/step - loss: 2.6527 - main_output_loss: 2.1505 - aux_output_loss: 2.5111 - main_output_acc: 0.2870 - aux_output_acc: 0.2135 - val_loss: 2.4966 - val_main_output_loss: 2.0067 - val_aux_output_loss: 2.4496 - val_main_output_acc: 0.3141 - val_aux_output_acc: 0.2319\n",
      "Epoch 4/50\n",
      "12026/12026 [==============================] - 16380s 1s/step - loss: 2.5485 - main_output_loss: 2.0587 - aux_output_loss: 2.4489 - main_output_acc: 0.3095 - aux_output_acc: 0.2327 - val_loss: 2.5567 - val_main_output_loss: 2.0770 - val_aux_output_loss: 2.3988 - val_main_output_acc: 0.3111 - val_aux_output_acc: 0.2565\n",
      "Epoch 5/50\n",
      "12026/12026 [==============================] - 16405s 1s/step - loss: 2.5091 - main_output_loss: 2.0248 - aux_output_loss: 2.4212 - main_output_acc: 0.3250 - aux_output_acc: 0.2367 - val_loss: 2.4421 - val_main_output_loss: 1.9660 - val_aux_output_loss: 2.3805 - val_main_output_acc: 0.3351 - val_aux_output_acc: 0.2319\n",
      "Epoch 6/50\n",
      "12026/12026 [==============================] - 16601s 1s/step - loss: 2.4218 - main_output_loss: 1.9530 - aux_output_loss: 2.3438 - main_output_acc: 0.3349 - aux_output_acc: 0.2456 - val_loss: 2.4499 - val_main_output_loss: 1.9876 - val_aux_output_loss: 2.3119 - val_main_output_acc: 0.3515 - val_aux_output_acc: 0.2498\n",
      "Epoch 7/50\n",
      "12026/12026 [==============================] - 16551s 1s/step - loss: 2.4161 - main_output_loss: 1.9439 - aux_output_loss: 2.3607 - main_output_acc: 0.3447 - aux_output_acc: 0.2482 - val_loss: 2.4432 - val_main_output_loss: 1.9727 - val_aux_output_loss: 2.3524 - val_main_output_acc: 0.3530 - val_aux_output_acc: 0.2588\n",
      "Epoch 8/50\n",
      " 1575/12026 [==>...........................] - ETA: 3:55:19 - loss: 2.3689 - main_output_loss: 1.9102 - aux_output_loss: 2.2937 - main_output_acc: 0.3581 - aux_output_acc: 0.2648"
     ]
    },
    {
     "ename": "KeyboardInterrupt",
     "evalue": "",
     "output_type": "error",
     "traceback": [
      "\u001b[0;31m---------------------------------------------------------------------------\u001b[0m",
      "\u001b[0;31mKeyboardInterrupt\u001b[0m                         Traceback (most recent call last)",
      "\u001b[0;32m<ipython-input-26-2cde107fcb05>\u001b[0m in \u001b[0;36m<module>\u001b[0;34m()\u001b[0m\n\u001b[1;32m     11\u001b[0m \u001b[0mcsv_logger\u001b[0m\u001b[0;34m=\u001b[0m\u001b[0mCSVLogger\u001b[0m\u001b[0;34m(\u001b[0m\u001b[0;34m'training.log'\u001b[0m\u001b[0;34m)\u001b[0m\u001b[0;34m\u001b[0m\u001b[0m\n\u001b[1;32m     12\u001b[0m history = parallel_model.fit([X_train, Xaux_train.reshape(-1,12)], [y_train, y_train],validation_data=([X_test,Xaux_test.reshape(-1,12)],[y_test,y_test]),\n\u001b[0;32m---> 13\u001b[0;31m           epochs=50, batch_size=7,callbacks = [mc,csv_logger])\n\u001b[0m",
      "\u001b[0;32m~/.local/lib/python3.6/site-packages/keras/engine/training.py\u001b[0m in \u001b[0;36mfit\u001b[0;34m(self, x, y, batch_size, epochs, verbose, callbacks, validation_split, validation_data, shuffle, class_weight, sample_weight, initial_epoch, steps_per_epoch, validation_steps, **kwargs)\u001b[0m\n\u001b[1;32m   1040\u001b[0m                                         \u001b[0minitial_epoch\u001b[0m\u001b[0;34m=\u001b[0m\u001b[0minitial_epoch\u001b[0m\u001b[0;34m,\u001b[0m\u001b[0;34m\u001b[0m\u001b[0m\n\u001b[1;32m   1041\u001b[0m                                         \u001b[0msteps_per_epoch\u001b[0m\u001b[0;34m=\u001b[0m\u001b[0msteps_per_epoch\u001b[0m\u001b[0;34m,\u001b[0m\u001b[0;34m\u001b[0m\u001b[0m\n\u001b[0;32m-> 1042\u001b[0;31m                                         validation_steps=validation_steps)\n\u001b[0m\u001b[1;32m   1043\u001b[0m \u001b[0;34m\u001b[0m\u001b[0m\n\u001b[1;32m   1044\u001b[0m     def evaluate(self, x=None, y=None,\n",
      "\u001b[0;32m~/.local/lib/python3.6/site-packages/keras/engine/training_arrays.py\u001b[0m in \u001b[0;36mfit_loop\u001b[0;34m(model, f, ins, out_labels, batch_size, epochs, verbose, callbacks, val_f, val_ins, shuffle, callback_metrics, initial_epoch, steps_per_epoch, validation_steps)\u001b[0m\n\u001b[1;32m    197\u001b[0m                     \u001b[0mins_batch\u001b[0m\u001b[0;34m[\u001b[0m\u001b[0mi\u001b[0m\u001b[0;34m]\u001b[0m \u001b[0;34m=\u001b[0m \u001b[0mins_batch\u001b[0m\u001b[0;34m[\u001b[0m\u001b[0mi\u001b[0m\u001b[0;34m]\u001b[0m\u001b[0;34m.\u001b[0m\u001b[0mtoarray\u001b[0m\u001b[0;34m(\u001b[0m\u001b[0;34m)\u001b[0m\u001b[0;34m\u001b[0m\u001b[0m\n\u001b[1;32m    198\u001b[0m \u001b[0;34m\u001b[0m\u001b[0m\n\u001b[0;32m--> 199\u001b[0;31m                 \u001b[0mouts\u001b[0m \u001b[0;34m=\u001b[0m \u001b[0mf\u001b[0m\u001b[0;34m(\u001b[0m\u001b[0mins_batch\u001b[0m\u001b[0;34m)\u001b[0m\u001b[0;34m\u001b[0m\u001b[0m\n\u001b[0m\u001b[1;32m    200\u001b[0m                 \u001b[0;32mif\u001b[0m \u001b[0;32mnot\u001b[0m \u001b[0misinstance\u001b[0m\u001b[0;34m(\u001b[0m\u001b[0mouts\u001b[0m\u001b[0;34m,\u001b[0m \u001b[0mlist\u001b[0m\u001b[0;34m)\u001b[0m\u001b[0;34m:\u001b[0m\u001b[0;34m\u001b[0m\u001b[0m\n\u001b[1;32m    201\u001b[0m                     \u001b[0mouts\u001b[0m \u001b[0;34m=\u001b[0m \u001b[0;34m[\u001b[0m\u001b[0mouts\u001b[0m\u001b[0;34m]\u001b[0m\u001b[0;34m\u001b[0m\u001b[0m\n",
      "\u001b[0;32m~/.local/lib/python3.6/site-packages/keras/backend/tensorflow_backend.py\u001b[0m in \u001b[0;36m__call__\u001b[0;34m(self, inputs)\u001b[0m\n\u001b[1;32m   2659\u001b[0m                 \u001b[0;32mreturn\u001b[0m \u001b[0mself\u001b[0m\u001b[0;34m.\u001b[0m\u001b[0m_legacy_call\u001b[0m\u001b[0;34m(\u001b[0m\u001b[0minputs\u001b[0m\u001b[0;34m)\u001b[0m\u001b[0;34m\u001b[0m\u001b[0m\n\u001b[1;32m   2660\u001b[0m \u001b[0;34m\u001b[0m\u001b[0m\n\u001b[0;32m-> 2661\u001b[0;31m             \u001b[0;32mreturn\u001b[0m \u001b[0mself\u001b[0m\u001b[0;34m.\u001b[0m\u001b[0m_call\u001b[0m\u001b[0;34m(\u001b[0m\u001b[0minputs\u001b[0m\u001b[0;34m)\u001b[0m\u001b[0;34m\u001b[0m\u001b[0m\n\u001b[0m\u001b[1;32m   2662\u001b[0m         \u001b[0;32melse\u001b[0m\u001b[0;34m:\u001b[0m\u001b[0;34m\u001b[0m\u001b[0m\n\u001b[1;32m   2663\u001b[0m             \u001b[0;32mif\u001b[0m \u001b[0mpy_any\u001b[0m\u001b[0;34m(\u001b[0m\u001b[0mis_tensor\u001b[0m\u001b[0;34m(\u001b[0m\u001b[0mx\u001b[0m\u001b[0;34m)\u001b[0m \u001b[0;32mfor\u001b[0m \u001b[0mx\u001b[0m \u001b[0;32min\u001b[0m \u001b[0minputs\u001b[0m\u001b[0;34m)\u001b[0m\u001b[0;34m:\u001b[0m\u001b[0;34m\u001b[0m\u001b[0m\n",
      "\u001b[0;32m~/.local/lib/python3.6/site-packages/keras/backend/tensorflow_backend.py\u001b[0m in \u001b[0;36m_call\u001b[0;34m(self, inputs)\u001b[0m\n\u001b[1;32m   2629\u001b[0m                                 \u001b[0msymbol_vals\u001b[0m\u001b[0;34m,\u001b[0m\u001b[0;34m\u001b[0m\u001b[0m\n\u001b[1;32m   2630\u001b[0m                                 session)\n\u001b[0;32m-> 2631\u001b[0;31m         \u001b[0mfetched\u001b[0m \u001b[0;34m=\u001b[0m \u001b[0mself\u001b[0m\u001b[0;34m.\u001b[0m\u001b[0m_callable_fn\u001b[0m\u001b[0;34m(\u001b[0m\u001b[0;34m*\u001b[0m\u001b[0marray_vals\u001b[0m\u001b[0;34m)\u001b[0m\u001b[0;34m\u001b[0m\u001b[0m\n\u001b[0m\u001b[1;32m   2632\u001b[0m         \u001b[0;32mreturn\u001b[0m \u001b[0mfetched\u001b[0m\u001b[0;34m[\u001b[0m\u001b[0;34m:\u001b[0m\u001b[0mlen\u001b[0m\u001b[0;34m(\u001b[0m\u001b[0mself\u001b[0m\u001b[0;34m.\u001b[0m\u001b[0moutputs\u001b[0m\u001b[0;34m)\u001b[0m\u001b[0;34m]\u001b[0m\u001b[0;34m\u001b[0m\u001b[0m\n\u001b[1;32m   2633\u001b[0m \u001b[0;34m\u001b[0m\u001b[0m\n",
      "\u001b[0;32m~/.local/lib/python3.6/site-packages/tensorflow/python/client/session.py\u001b[0m in \u001b[0;36m__call__\u001b[0;34m(self, *args)\u001b[0m\n\u001b[1;32m   1449\u001b[0m         \u001b[0;32mif\u001b[0m \u001b[0mself\u001b[0m\u001b[0;34m.\u001b[0m\u001b[0m_session\u001b[0m\u001b[0;34m.\u001b[0m\u001b[0m_created_with_new_api\u001b[0m\u001b[0;34m:\u001b[0m\u001b[0;34m\u001b[0m\u001b[0m\n\u001b[1;32m   1450\u001b[0m           return tf_session.TF_SessionRunCallable(\n\u001b[0;32m-> 1451\u001b[0;31m               self._session._session, self._handle, args, status, None)\n\u001b[0m\u001b[1;32m   1452\u001b[0m         \u001b[0;32melse\u001b[0m\u001b[0;34m:\u001b[0m\u001b[0;34m\u001b[0m\u001b[0m\n\u001b[1;32m   1453\u001b[0m           return tf_session.TF_DeprecatedSessionRunCallable(\n",
      "\u001b[0;31mKeyboardInterrupt\u001b[0m: "
     ]
    }
   ],
   "source": [
    "from keras.utils import multi_gpu_model\n",
    "from keras.callbacks import ModelCheckpoint, CSVLogger\n",
    "model = Model(inputs=[main_input, auxiliary_input], outputs=[main_output, auxiliary_output])\n",
    "\n",
    "# Replicates `model` on 4 GPUs.\n",
    "# This assumes that your machine has 4 available GPUs.\n",
    "parallel_model = multi_gpu_model(model, gpus=4)\n",
    "parallel_model.compile(optimizer='adam', loss='categorical_crossentropy',\n",
    "              loss_weights=[1., 0.2],metrics=['accuracy'])\n",
    "mc = ModelCheckpoint('weights.{epoch:02d}--{val_loss:.2f}.hdf5',save_best_only=True)\n",
    "csv_logger=CSVLogger('training.log')\n",
    "history = parallel_model.fit([X_train, Xaux_train.reshape(-1,12)], [y_train, y_train],validation_data=([X_test,Xaux_test.reshape(-1,12)],[y_test,y_test]),\n",
    "          epochs=50, batch_size=7,callbacks = [mc,csv_logger])\n",
    "pickle.dump(history,open(''))"
   ]
  },
  {
   "cell_type": "code",
   "execution_count": 10,
   "metadata": {},
   "outputs": [
    {
     "name": "stdout",
     "output_type": "stream",
     "text": [
      "Train on 12000 samples, validate on 1337 samples\n",
      "Epoch 1/50\n",
      "12000/12000 [==============================] - 1611s 134ms/step - loss: 3.8111 - main_output_loss: 3.1894 - aux_output_loss: 3.1088 - main_output_acc: 0.1177 - aux_output_acc: 0.0733 - val_loss: 3.4158 - val_main_output_loss: 2.8156 - val_aux_output_loss: 3.0011 - val_main_output_acc: 0.1436 - val_aux_output_acc: 0.1070\n",
      "Epoch 2/50\n",
      "12000/12000 [==============================] - 1626s 136ms/step - loss: 3.2645 - main_output_loss: 2.6832 - aux_output_loss: 2.9064 - main_output_acc: 0.1756 - aux_output_acc: 0.1228 - val_loss: 3.1295 - val_main_output_loss: 2.5638 - val_aux_output_loss: 2.8283 - val_main_output_acc: 0.1922 - val_aux_output_acc: 0.1436\n",
      "Epoch 3/50\n",
      "12000/12000 [==============================] - 1629s 136ms/step - loss: 3.0233 - main_output_loss: 2.4749 - aux_output_loss: 2.7419 - main_output_acc: 0.2204 - aux_output_acc: 0.1676 - val_loss: 2.9129 - val_main_output_loss: 2.3784 - val_aux_output_loss: 2.6725 - val_main_output_acc: 0.2364 - val_aux_output_acc: 0.1758\n",
      "Epoch 4/50\n",
      "12000/12000 [==============================] - 1629s 136ms/step - loss: 2.7664 - main_output_loss: 2.2532 - aux_output_loss: 2.5659 - main_output_acc: 0.2660 - aux_output_acc: 0.2083 - val_loss: 2.6438 - val_main_output_loss: 2.1478 - val_aux_output_loss: 2.4801 - val_main_output_acc: 0.2797 - val_aux_output_acc: 0.2251\n",
      "Epoch 5/50\n",
      "12000/12000 [==============================] - 1608s 134ms/step - loss: 2.6039 - main_output_loss: 2.1165 - aux_output_loss: 2.4368 - main_output_acc: 0.3023 - aux_output_acc: 0.2368 - val_loss: 2.5428 - val_main_output_loss: 2.0705 - val_aux_output_loss: 2.3619 - val_main_output_acc: 0.3074 - val_aux_output_acc: 0.2550\n",
      "Epoch 6/50\n",
      "12000/12000 [==============================] - 1608s 134ms/step - loss: 2.4943 - main_output_loss: 2.0232 - aux_output_loss: 2.3553 - main_output_acc: 0.3252 - aux_output_acc: 0.2583 - val_loss: 2.5024 - val_main_output_loss: 2.0369 - val_aux_output_loss: 2.3274 - val_main_output_acc: 0.3276 - val_aux_output_acc: 0.2543\n",
      "Epoch 7/50\n",
      "12000/12000 [==============================] - 1608s 134ms/step - loss: 2.4385 - main_output_loss: 1.9813 - aux_output_loss: 2.2862 - main_output_acc: 0.3366 - aux_output_acc: 0.2776 - val_loss: 2.3773 - val_main_output_loss: 1.9270 - val_aux_output_loss: 2.2516 - val_main_output_acc: 0.3613 - val_aux_output_acc: 0.2902\n",
      "Epoch 8/50\n",
      "12000/12000 [==============================] - 1609s 134ms/step - loss: 2.3842 - main_output_loss: 1.9365 - aux_output_loss: 2.2385 - main_output_acc: 0.3510 - aux_output_acc: 0.2787 - val_loss: 2.3883 - val_main_output_loss: 1.9373 - val_aux_output_loss: 2.2546 - val_main_output_acc: 0.3485 - val_aux_output_acc: 0.2790\n",
      "Epoch 9/50\n",
      "12000/12000 [==============================] - 1608s 134ms/step - loss: 2.3258 - main_output_loss: 1.8857 - aux_output_loss: 2.2008 - main_output_acc: 0.3583 - aux_output_acc: 0.2908 - val_loss: 2.3338 - val_main_output_loss: 1.8912 - val_aux_output_loss: 2.2131 - val_main_output_acc: 0.3568 - val_aux_output_acc: 0.2977\n",
      "Epoch 10/50\n",
      "12000/12000 [==============================] - 1608s 134ms/step - loss: 2.2879 - main_output_loss: 1.8594 - aux_output_loss: 2.1426 - main_output_acc: 0.3693 - aux_output_acc: 0.3131 - val_loss: 2.2301 - val_main_output_loss: 1.8061 - val_aux_output_loss: 2.1198 - val_main_output_acc: 0.3859 - val_aux_output_acc: 0.3164\n",
      "Epoch 11/50\n",
      "12000/12000 [==============================] - 1610s 134ms/step - loss: 2.2343 - main_output_loss: 1.8174 - aux_output_loss: 2.0846 - main_output_acc: 0.3811 - aux_output_acc: 0.3220 - val_loss: 2.2135 - val_main_output_loss: 1.7961 - val_aux_output_loss: 2.0872 - val_main_output_acc: 0.3829 - val_aux_output_acc: 0.3313\n",
      "Epoch 12/50\n",
      "12000/12000 [==============================] - 1610s 134ms/step - loss: 2.2260 - main_output_loss: 1.8075 - aux_output_loss: 2.0927 - main_output_acc: 0.3820 - aux_output_acc: 0.3193 - val_loss: 2.3007 - val_main_output_loss: 1.8759 - val_aux_output_loss: 2.1239 - val_main_output_acc: 0.3859 - val_aux_output_acc: 0.3052\n",
      "Epoch 13/50\n",
      "12000/12000 [==============================] - 1611s 134ms/step - loss: 2.2434 - main_output_loss: 1.8203 - aux_output_loss: 2.1156 - main_output_acc: 0.3804 - aux_output_acc: 0.3126 - val_loss: 2.1905 - val_main_output_loss: 1.7788 - val_aux_output_loss: 2.0588 - val_main_output_acc: 0.4016 - val_aux_output_acc: 0.3321\n",
      "Epoch 14/50\n",
      "12000/12000 [==============================] - 1611s 134ms/step - loss: 2.1834 - main_output_loss: 1.7732 - aux_output_loss: 2.0512 - main_output_acc: 0.3969 - aux_output_acc: 0.3274 - val_loss: 2.1263 - val_main_output_loss: 1.7162 - val_aux_output_loss: 2.0505 - val_main_output_acc: 0.4061 - val_aux_output_acc: 0.3239\n",
      "Epoch 15/50\n",
      "12000/12000 [==============================] - 1611s 134ms/step - loss: 2.1568 - main_output_loss: 1.7515 - aux_output_loss: 2.0267 - main_output_acc: 0.4017 - aux_output_acc: 0.3368 - val_loss: 2.1920 - val_main_output_loss: 1.7757 - val_aux_output_loss: 2.0817 - val_main_output_acc: 0.3934 - val_aux_output_acc: 0.3291\n",
      "Epoch 16/50\n",
      "12000/12000 [==============================] - 1612s 134ms/step - loss: 2.1534 - main_output_loss: 1.7489 - aux_output_loss: 2.0227 - main_output_acc: 0.4045 - aux_output_acc: 0.3395 - val_loss: 2.1448 - val_main_output_loss: 1.7302 - val_aux_output_loss: 2.0726 - val_main_output_acc: 0.4091 - val_aux_output_acc: 0.3441\n",
      "Epoch 17/50\n",
      "12000/12000 [==============================] - 1611s 134ms/step - loss: 2.1287 - main_output_loss: 1.7267 - aux_output_loss: 2.0099 - main_output_acc: 0.4086 - aux_output_acc: 0.3453 - val_loss: 2.1837 - val_main_output_loss: 1.7662 - val_aux_output_loss: 2.0878 - val_main_output_acc: 0.3904 - val_aux_output_acc: 0.3261\n",
      "Epoch 18/50\n",
      "12000/12000 [==============================] - 1612s 134ms/step - loss: 2.1227 - main_output_loss: 1.7244 - aux_output_loss: 1.9913 - main_output_acc: 0.4102 - aux_output_acc: 0.3490 - val_loss: 2.1361 - val_main_output_loss: 1.7333 - val_aux_output_loss: 2.0140 - val_main_output_acc: 0.4211 - val_aux_output_acc: 0.3366\n",
      "Epoch 19/50\n",
      "12000/12000 [==============================] - 1612s 134ms/step - loss: 2.0913 - main_output_loss: 1.7009 - aux_output_loss: 1.9519 - main_output_acc: 0.4167 - aux_output_acc: 0.3507 - val_loss: 2.1358 - val_main_output_loss: 1.7364 - val_aux_output_loss: 1.9969 - val_main_output_acc: 0.4181 - val_aux_output_acc: 0.3530\n",
      "Epoch 20/50\n",
      "12000/12000 [==============================] - 1613s 134ms/step - loss: 2.0894 - main_output_loss: 1.6945 - aux_output_loss: 1.9744 - main_output_acc: 0.4183 - aux_output_acc: 0.3486 - val_loss: 2.1064 - val_main_output_loss: 1.7009 - val_aux_output_loss: 2.0275 - val_main_output_acc: 0.4129 - val_aux_output_acc: 0.3418\n",
      "Epoch 21/50\n",
      "12000/12000 [==============================] - 1611s 134ms/step - loss: 2.1129 - main_output_loss: 1.7073 - aux_output_loss: 2.0279 - main_output_acc: 0.4155 - aux_output_acc: 0.3423 - val_loss: 2.1735 - val_main_output_loss: 1.7540 - val_aux_output_loss: 2.0976 - val_main_output_acc: 0.3979 - val_aux_output_acc: 0.3044\n",
      "Epoch 22/50\n",
      "12000/12000 [==============================] - 1609s 134ms/step - loss: 2.0949 - main_output_loss: 1.6957 - aux_output_loss: 1.9959 - main_output_acc: 0.4219 - aux_output_acc: 0.3498 - val_loss: 2.1075 - val_main_output_loss: 1.7040 - val_aux_output_loss: 2.0174 - val_main_output_acc: 0.4121 - val_aux_output_acc: 0.3239\n",
      "Epoch 23/50\n",
      "12000/12000 [==============================] - 1610s 134ms/step - loss: 2.0850 - main_output_loss: 1.6891 - aux_output_loss: 1.9795 - main_output_acc: 0.4183 - aux_output_acc: 0.3510 - val_loss: 2.0745 - val_main_output_loss: 1.6762 - val_aux_output_loss: 1.9913 - val_main_output_acc: 0.4106 - val_aux_output_acc: 0.3418\n",
      "Epoch 24/50\n",
      "12000/12000 [==============================] - 1610s 134ms/step - loss: 2.0700 - main_output_loss: 1.6751 - aux_output_loss: 1.9747 - main_output_acc: 0.4281 - aux_output_acc: 0.3513 - val_loss: 2.1201 - val_main_output_loss: 1.7212 - val_aux_output_loss: 1.9948 - val_main_output_acc: 0.4046 - val_aux_output_acc: 0.3336\n",
      "Epoch 25/50\n",
      "12000/12000 [==============================] - 1611s 134ms/step - loss: 2.0549 - main_output_loss: 1.6628 - aux_output_loss: 1.9607 - main_output_acc: 0.4318 - aux_output_acc: 0.3581 - val_loss: 2.1218 - val_main_output_loss: 1.7196 - val_aux_output_loss: 2.0112 - val_main_output_acc: 0.4009 - val_aux_output_acc: 0.3358\n",
      "Epoch 26/50\n",
      "12000/12000 [==============================] - 1610s 134ms/step - loss: 2.0432 - main_output_loss: 1.6541 - aux_output_loss: 1.9456 - main_output_acc: 0.4325 - aux_output_acc: 0.3554 - val_loss: 2.1298 - val_main_output_loss: 1.7336 - val_aux_output_loss: 1.9812 - val_main_output_acc: 0.4114 - val_aux_output_acc: 0.3426\n",
      "Epoch 27/50\n",
      "12000/12000 [==============================] - 1611s 134ms/step - loss: 2.0350 - main_output_loss: 1.6497 - aux_output_loss: 1.9261 - main_output_acc: 0.4361 - aux_output_acc: 0.3654 - val_loss: 2.1096 - val_main_output_loss: 1.7110 - val_aux_output_loss: 1.9928 - val_main_output_acc: 0.3972 - val_aux_output_acc: 0.3358\n",
      "Epoch 28/50\n",
      "12000/12000 [==============================] - 1630s 136ms/step - loss: 2.0108 - main_output_loss: 1.6274 - aux_output_loss: 1.9172 - main_output_acc: 0.4422 - aux_output_acc: 0.3667 - val_loss: 2.0826 - val_main_output_loss: 1.6865 - val_aux_output_loss: 1.9807 - val_main_output_acc: 0.4286 - val_aux_output_acc: 0.3373\n",
      "Epoch 29/50\n",
      "12000/12000 [==============================] - 1629s 136ms/step - loss: 2.0109 - main_output_loss: 1.6291 - aux_output_loss: 1.9090 - main_output_acc: 0.4426 - aux_output_acc: 0.3684 - val_loss: 2.0766 - val_main_output_loss: 1.6766 - val_aux_output_loss: 2.0004 - val_main_output_acc: 0.4151 - val_aux_output_acc: 0.3388\n",
      "Epoch 30/50\n",
      "12000/12000 [==============================] - 1625s 135ms/step - loss: 2.0006 - main_output_loss: 1.6179 - aux_output_loss: 1.9134 - main_output_acc: 0.4435 - aux_output_acc: 0.3671 - val_loss: 2.0367 - val_main_output_loss: 1.6458 - val_aux_output_loss: 1.9547 - val_main_output_acc: 0.4398 - val_aux_output_acc: 0.3605\n",
      "Epoch 31/50\n",
      "12000/12000 [==============================] - 1611s 134ms/step - loss: 2.0067 - main_output_loss: 1.6222 - aux_output_loss: 1.9226 - main_output_acc: 0.4445 - aux_output_acc: 0.3653 - val_loss: 2.1067 - val_main_output_loss: 1.7088 - val_aux_output_loss: 1.9893 - val_main_output_acc: 0.4271 - val_aux_output_acc: 0.3411\n",
      "Epoch 32/50\n",
      "12000/12000 [==============================] - 1610s 134ms/step - loss: 2.0010 - main_output_loss: 1.6167 - aux_output_loss: 1.9214 - main_output_acc: 0.4390 - aux_output_acc: 0.3675 - val_loss: 2.0368 - val_main_output_loss: 1.6324 - val_aux_output_loss: 2.0221 - val_main_output_acc: 0.4547 - val_aux_output_acc: 0.3441\n",
      "Epoch 33/50\n",
      "12000/12000 [==============================] - 1613s 134ms/step - loss: 1.9857 - main_output_loss: 1.6016 - aux_output_loss: 1.9205 - main_output_acc: 0.4497 - aux_output_acc: 0.3689 - val_loss: 2.0508 - val_main_output_loss: 1.6572 - val_aux_output_loss: 1.9682 - val_main_output_acc: 0.4256 - val_aux_output_acc: 0.3306\n",
      "Epoch 34/50\n",
      "12000/12000 [==============================] - 1628s 136ms/step - loss: 1.9754 - main_output_loss: 1.5993 - aux_output_loss: 1.8805 - main_output_acc: 0.4499 - aux_output_acc: 0.3754 - val_loss: 2.0703 - val_main_output_loss: 1.6752 - val_aux_output_loss: 1.9756 - val_main_output_acc: 0.4271 - val_aux_output_acc: 0.3515\n",
      "Epoch 35/50\n",
      "12000/12000 [==============================] - 1632s 136ms/step - loss: 1.9663 - main_output_loss: 1.5868 - aux_output_loss: 1.8974 - main_output_acc: 0.4478 - aux_output_acc: 0.3702 - val_loss: 2.0733 - val_main_output_loss: 1.6789 - val_aux_output_loss: 1.9718 - val_main_output_acc: 0.4046 - val_aux_output_acc: 0.3568\n",
      "Epoch 36/50\n",
      "12000/12000 [==============================] - 1623s 135ms/step - loss: 1.9611 - main_output_loss: 1.5838 - aux_output_loss: 1.8867 - main_output_acc: 0.4535 - aux_output_acc: 0.3808 - val_loss: 2.0667 - val_main_output_loss: 1.6755 - val_aux_output_loss: 1.9562 - val_main_output_acc: 0.4323 - val_aux_output_acc: 0.3553\n",
      "Epoch 37/50\n",
      "12000/12000 [==============================] - 1618s 135ms/step - loss: 1.9611 - main_output_loss: 1.5835 - aux_output_loss: 1.8881 - main_output_acc: 0.4532 - aux_output_acc: 0.3788 - val_loss: 2.0353 - val_main_output_loss: 1.6465 - val_aux_output_loss: 1.9439 - val_main_output_acc: 0.4383 - val_aux_output_acc: 0.3680\n",
      "Epoch 38/50\n",
      "12000/12000 [==============================] - 1613s 134ms/step - loss: 1.9383 - main_output_loss: 1.5632 - aux_output_loss: 1.8754 - main_output_acc: 0.4579 - aux_output_acc: 0.3809 - val_loss: 2.0450 - val_main_output_loss: 1.6558 - val_aux_output_loss: 1.9460 - val_main_output_acc: 0.4361 - val_aux_output_acc: 0.3642\n",
      "Epoch 39/50\n",
      "12000/12000 [==============================] - 1614s 135ms/step - loss: 1.9481 - main_output_loss: 1.5696 - aux_output_loss: 1.8925 - main_output_acc: 0.4602 - aux_output_acc: 0.3740 - val_loss: 2.0213 - val_main_output_loss: 1.6297 - val_aux_output_loss: 1.9583 - val_main_output_acc: 0.4458 - val_aux_output_acc: 0.3530\n",
      "Epoch 40/50\n",
      "12000/12000 [==============================] - 1614s 134ms/step - loss: 1.9526 - main_output_loss: 1.5759 - aux_output_loss: 1.8835 - main_output_acc: 0.4561 - aux_output_acc: 0.3755 - val_loss: 2.0608 - val_main_output_loss: 1.6705 - val_aux_output_loss: 1.9513 - val_main_output_acc: 0.4368 - val_aux_output_acc: 0.3672\n",
      "Epoch 41/50\n",
      "12000/12000 [==============================] - 1612s 134ms/step - loss: 1.9345 - main_output_loss: 1.5597 - aux_output_loss: 1.8740 - main_output_acc: 0.4602 - aux_output_acc: 0.3808 - val_loss: 2.0437 - val_main_output_loss: 1.6550 - val_aux_output_loss: 1.9438 - val_main_output_acc: 0.4263 - val_aux_output_acc: 0.3560\n",
      "Epoch 42/50\n",
      "12000/12000 [==============================] - 1615s 135ms/step - loss: 1.9298 - main_output_loss: 1.5567 - aux_output_loss: 1.8659 - main_output_acc: 0.4597 - aux_output_acc: 0.3828 - val_loss: 2.0254 - val_main_output_loss: 1.6370 - val_aux_output_loss: 1.9420 - val_main_output_acc: 0.4458 - val_aux_output_acc: 0.3642\n",
      "Epoch 43/50\n",
      "12000/12000 [==============================] - 1613s 134ms/step - loss: 1.9214 - main_output_loss: 1.5497 - aux_output_loss: 1.8583 - main_output_acc: 0.4618 - aux_output_acc: 0.3829 - val_loss: 2.0496 - val_main_output_loss: 1.6624 - val_aux_output_loss: 1.9359 - val_main_output_acc: 0.4323 - val_aux_output_acc: 0.3680\n",
      "Epoch 44/50\n",
      "12000/12000 [==============================] - 1613s 134ms/step - loss: 1.9190 - main_output_loss: 1.5481 - aux_output_loss: 1.8546 - main_output_acc: 0.4617 - aux_output_acc: 0.3897 - val_loss: 2.0416 - val_main_output_loss: 1.6510 - val_aux_output_loss: 1.9527 - val_main_output_acc: 0.4435 - val_aux_output_acc: 0.3493\n",
      "Epoch 45/50\n",
      "12000/12000 [==============================] - 1613s 134ms/step - loss: 1.9244 - main_output_loss: 1.5503 - aux_output_loss: 1.8705 - main_output_acc: 0.4635 - aux_output_acc: 0.3843 - val_loss: 2.0482 - val_main_output_loss: 1.6537 - val_aux_output_loss: 1.9722 - val_main_output_acc: 0.4383 - val_aux_output_acc: 0.3605\n",
      "Epoch 46/50\n",
      "12000/12000 [==============================] - 1613s 134ms/step - loss: 1.9154 - main_output_loss: 1.5451 - aux_output_loss: 1.8513 - main_output_acc: 0.4689 - aux_output_acc: 0.3864 - val_loss: 2.1198 - val_main_output_loss: 1.7256 - val_aux_output_loss: 1.9710 - val_main_output_acc: 0.4166 - val_aux_output_acc: 0.3553\n",
      "Epoch 47/50\n",
      "12000/12000 [==============================] - 1612s 134ms/step - loss: 1.9085 - main_output_loss: 1.5366 - aux_output_loss: 1.8593 - main_output_acc: 0.4645 - aux_output_acc: 0.3827 - val_loss: 2.0431 - val_main_output_loss: 1.6552 - val_aux_output_loss: 1.9391 - val_main_output_acc: 0.4383 - val_aux_output_acc: 0.3568\n",
      "Epoch 48/50\n",
      "12000/12000 [==============================] - 1611s 134ms/step - loss: 1.8984 - main_output_loss: 1.5292 - aux_output_loss: 1.8463 - main_output_acc: 0.4679 - aux_output_acc: 0.3863 - val_loss: 2.0071 - val_main_output_loss: 1.6209 - val_aux_output_loss: 1.9309 - val_main_output_acc: 0.4480 - val_aux_output_acc: 0.3650\n",
      "Epoch 49/50\n",
      "12000/12000 [==============================] - 1612s 134ms/step - loss: 1.9062 - main_output_loss: 1.5350 - aux_output_loss: 1.8558 - main_output_acc: 0.4697 - aux_output_acc: 0.3872 - val_loss: 2.0343 - val_main_output_loss: 1.6510 - val_aux_output_loss: 1.9164 - val_main_output_acc: 0.4458 - val_aux_output_acc: 0.3740\n"
     ]
    },
    {
     "name": "stdout",
     "output_type": "stream",
     "text": [
      "Epoch 50/50\n",
      "12000/12000 [==============================] - 1614s 134ms/step - loss: 1.8985 - main_output_loss: 1.5319 - aux_output_loss: 1.8328 - main_output_acc: 0.4714 - aux_output_acc: 0.3942 - val_loss: 2.0234 - val_main_output_loss: 1.6459 - val_aux_output_loss: 1.8878 - val_main_output_acc: 0.4458 - val_aux_output_acc: 0.3829\n"
     ]
    }
   ],
   "source": [
    "from keras.utils import multi_gpu_model\n",
    "from keras.callbacks import ModelCheckpoint, CSVLogger\n",
    "model = Model(inputs=[main_input, auxiliary_input], outputs=[main_output, auxiliary_output])\n",
    "\n",
    "# Replicates `model` on 4 GPUs.\n",
    "# This assumes that your machine has 4 available GPUs.\n",
    "parallel_model = multi_gpu_model(model, gpus=4)\n",
    "parallel_model.compile(optimizer='adam', loss='categorical_crossentropy',\n",
    "              loss_weights=[1., 0.2],metrics=['accuracy'])\n",
    "mc = ModelCheckpoint('bs60.{epoch:02d}--{val_loss:.2f}.hdf5',save_best_only=True)\n",
    "csv_logger=CSVLogger('training_bs60.log')\n",
    "history = parallel_model.fit([X_train[:12000], Xaux_train[:12000].reshape(-1,12)], [y_train[:12000], y_train[:12000]],validation_data=([X_test,Xaux_test.reshape(-1,12)],[y_test,y_test]),\n",
    "          epochs=50, batch_size=60,callbacks = [mc,csv_logger])\n",
    "pickle.dump(history.history,open('training_history_bs60.p','wb'))"
   ]
  },
  {
   "cell_type": "code",
   "execution_count": 15,
   "metadata": {
    "collapsed": true
   },
   "outputs": [],
   "source": [
    "np.save('X_train.npy',X_train)\n",
    "np.save('Xaux_train.npy',Xaux_train)\n",
    "np.save('X_test.npy',X_test)\n",
    "np.save('Xaux_test.npy',Xaux_test)\n",
    "np.save('y_train.npy',y_train)\n",
    "np.save('y_test.npy',y_test)"
   ]
  },
  {
   "cell_type": "code",
   "execution_count": 16,
   "metadata": {
    "collapsed": true
   },
   "outputs": [],
   "source": [
    "s = np.load('X_train.npy')"
   ]
  },
  {
   "cell_type": "code",
   "execution_count": 18,
   "metadata": {
    "collapsed": true
   },
   "outputs": [],
   "source": [
    "from keras.models import load_model\n",
    "m = load_model('bs60.48--2.01.hdf5')"
   ]
  },
  {
   "cell_type": "code",
   "execution_count": 31,
   "metadata": {},
   "outputs": [
    {
     "name": "stdout",
     "output_type": "stream",
     "text": [
      "1337/1337 [==============================] - 391s 293ms/step\n"
     ]
    }
   ],
   "source": [
    "metrics = m.evaluate([X_test,Xaux_test.reshape(-1,12)],[y_test,y_test])"
   ]
  },
  {
   "cell_type": "code",
   "execution_count": 32,
   "metadata": {},
   "outputs": [
    {
     "data": {
      "text/plain": [
       "[2.0070516043130193,\n",
       " 1.620879804276671,\n",
       " 1.9308589887690348,\n",
       " 0.44801795108156056,\n",
       " 0.3649962599275713]"
      ]
     },
     "execution_count": 32,
     "metadata": {},
     "output_type": "execute_result"
    }
   ],
   "source": [
    "metrics"
   ]
  },
  {
   "cell_type": "code",
   "execution_count": 35,
   "metadata": {
    "collapsed": true
   },
   "outputs": [],
   "source": [
    "preds = m.predict([X_test,Xaux_test.reshape(-1,12)])"
   ]
  },
  {
   "cell_type": "code",
   "execution_count": 42,
   "metadata": {},
   "outputs": [
    {
     "data": {
      "text/plain": [
       "(1337, 23)"
      ]
     },
     "execution_count": 42,
     "metadata": {},
     "output_type": "execute_result"
    }
   ],
   "source": [
    "preds[0].shape"
   ]
  },
  {
   "cell_type": "code",
   "execution_count": 39,
   "metadata": {
    "collapsed": true
   },
   "outputs": [],
   "source": [
    "preds_class = [np.argmax(i) for i in preds[0]]"
   ]
  },
  {
   "cell_type": "code",
   "execution_count": 46,
   "metadata": {
    "collapsed": true
   },
   "outputs": [],
   "source": [
    "y_class = [np.argmax(i) for i in y_test]"
   ]
  },
  {
   "cell_type": "code",
   "execution_count": 49,
   "metadata": {},
   "outputs": [
    {
     "data": {
      "text/plain": [
       "8"
      ]
     },
     "execution_count": 49,
     "metadata": {},
     "output_type": "execute_result"
    }
   ],
   "source": [
    "preds_class[0]"
   ]
  },
  {
   "cell_type": "code",
   "execution_count": 50,
   "metadata": {
    "collapsed": true
   },
   "outputs": [],
   "source": [
    "# Creating the Confusion Matrix\n",
    "from sklearn.metrics import confusion_matrix\n",
    "cm = confusion_matrix(y_class, preds_class)"
   ]
  },
  {
   "cell_type": "code",
   "execution_count": 53,
   "metadata": {},
   "outputs": [
    {
     "data": {
      "text/plain": [
       "['Alternative Rock',\n",
       " 'Bluegrass',\n",
       " 'Blues',\n",
       " 'Classical',\n",
       " 'Country',\n",
       " 'Dubstep',\n",
       " 'EDM',\n",
       " 'Electronic',\n",
       " 'Emo',\n",
       " 'Folk',\n",
       " 'Gospel',\n",
       " 'Grunge',\n",
       " 'Hip Hop',\n",
       " 'Indie Rock',\n",
       " 'Jazz',\n",
       " 'Metal',\n",
       " 'Motown',\n",
       " 'Pop',\n",
       " 'Rap',\n",
       " 'Reggae',\n",
       " 'Rock',\n",
       " 'Ska Punk',\n",
       " 'Soundtrack']"
      ]
     },
     "execution_count": 53,
     "metadata": {},
     "output_type": "execute_result"
    }
   ],
   "source": [
    "genreList = pickle.load(open('genreList.p','rb'))\n",
    "[i for i in genreList]"
   ]
  },
  {
   "cell_type": "code",
   "execution_count": 57,
   "metadata": {},
   "outputs": [
    {
     "data": {
      "image/png": "[encoded data removed]",
      "text/plain": [
       "<matplotlib.figure.Figure at 0x7f158c4b1160>"
      ]
     },
     "metadata": {},
     "output_type": "display_data"
    }
   ],
   "source": [
    "import seaborn as sn\n",
    "import pandas as pd\n",
    "import matplotlib.pyplot as plt\n",
    "\n",
    "df_cm = pd.DataFrame(cm, index = [i for i in genreList],\n",
    "                  columns = [i for i in genreList])\n",
    "plt.figure(figsize = (10,7))\n",
    "sn.heatmap(df_cm, annot=True)\n",
    "plt.show()"
   ]
  },
  {
   "cell_type": "code",
   "execution_count": 81,
   "metadata": {},
   "outputs": [
    {
     "name": "stdout",
     "output_type": "stream",
     "text": [
      "Alternative Rock: 648 -> 5.4%\n",
      "Bluegrass: 322 -> 2.7%\n",
      "Blues: 405 -> 3.4%\n",
      "Classical: 469 -> 3.9%\n",
      "Country: 487 -> 4.0%\n",
      "Dubstep: 278 -> 2.3%\n",
      "EDM: 702 -> 5.8%\n",
      "Electronic: 443 -> 3.7%\n",
      "Emo: 569 -> 4.7%\n",
      "Folk: 540 -> 4.5%\n",
      "Gospel: 318 -> 2.6%\n",
      "Grunge: 259 -> 2.2%\n",
      "Hip Hop: 893 -> 7.4%\n",
      "Indie Rock: 759 -> 6.3%\n",
      "Jazz: 349 -> 2.9%\n",
      "Metal: 534 -> 4.4%\n",
      "Motown: 443 -> 3.7%\n",
      "Pop: 975 -> 8.1%\n",
      "Rap: 753 -> 6.3%\n",
      "Reggae: 377 -> 3.1%\n",
      "Rock: 836 -> 7.0%\n",
      "Ska Punk: 309 -> 2.6%\n",
      "Soundtrack: 358 -> 3.0%\n"
     ]
    }
   ],
   "source": [
    "y_train_class = [np.argmax(i) for i in y_train]\n",
    "unique, counts = np.unique(y_train_class, return_counts=True)\n",
    "for u,c in zip(unique,counts):\n",
    "    print('{}: {} -> {:.1f}%'.format(genreList[u],c,(c/len(y_train_class))*100))"
   ]
  },
  {
   "cell_type": "code",
   "execution_count": 80,
   "metadata": {},
   "outputs": [
    {
     "data": {
      "text/plain": [
       "4.3478260869565215"
      ]
     },
     "execution_count": 80,
     "metadata": {},
     "output_type": "execute_result"
    }
   ],
   "source": [
    "100*1/23"
   ]
  },
  {
   "cell_type": "code",
   "execution_count": 82,
   "metadata": {},
   "outputs": [
    {
     "data": {
      "text/plain": [
       "0.43104612372779405"
      ]
     },
     "execution_count": 82,
     "metadata": {},
     "output_type": "execute_result"
    }
   ],
   "source": [
    "from sklearn.metrics import f1_score\n",
    "f1_score(y_class, preds_class, average='macro')  "
   ]
  },
  {
   "cell_type": "code",
   "execution_count": 85,
   "metadata": {},
   "outputs": [
    {
     "data": {
      "text/plain": [
       "0.4321169070976944"
      ]
     },
     "execution_count": 85,
     "metadata": {},
     "output_type": "execute_result"
    }
   ],
   "source": [
    "f1_score(y_class, preds_class, average='weighted')  "
   ]
  },
  {
   "cell_type": "code",
   "execution_count": 86,
   "metadata": {},
   "outputs": [
    {
     "data": {
      "image/png": "[encoded data removed]",
      "text/plain": [
       "<matplotlib.figure.Figure at 0x7f12b062e8d0>"
      ]
     },
     "metadata": {},
     "output_type": "display_data"
    }
   ],
   "source": [
    "#auxiliary confusion matrix\n",
    "predsaux_class = [np.argmax(i) for i in preds[1]]\n",
    "cm = confusion_matrix(y_class, predsaux_class)\n",
    "df_cm = pd.DataFrame(cm, index = [i for i in genreList],\n",
    "                  columns = [i for i in genreList])\n",
    "plt.figure(figsize = (10,7))\n",
    "sn.heatmap(df_cm, annot=True)\n",
    "plt.show()"
   ]
  },
  {
   "cell_type": "code",
   "execution_count": 95,
   "metadata": {},
   "outputs": [
    {
     "data": {
      "text/plain": [
       "dict"
      ]
     },
     "execution_count": 95,
     "metadata": {},
     "output_type": "execute_result"
    }
   ],
   "source": [
    "type(history.history)"
   ]
  },
  {
   "cell_type": "code",
   "execution_count": 96,
   "metadata": {
    "collapsed": true
   },
   "outputs": [],
   "source": [
    "pickle.dump(history.history,open('training_history_bs60.p','wb'))"
   ]
  },
  {
   "cell_type": "code",
   "execution_count": 99,
   "metadata": {},
   "outputs": [
    {
     "data": {
      "text/plain": [
       "(12026, 4163, 60)"
      ]
     },
     "execution_count": 99,
     "metadata": {},
     "output_type": "execute_result"
    }
   ],
   "source": [
    "X_train.shape"
   ]
  },
  {
   "cell_type": "code",
   "execution_count": 118,
   "metadata": {},
   "outputs": [
    {
     "data": {
      "text/plain": [
       "0"
      ]
     },
     "execution_count": 118,
     "metadata": {},
     "output_type": "execute_result"
    }
   ],
   "source": [
    "(maxlen+1)%4"
   ]
  },
  {
   "cell_type": "code",
   "execution_count": 4,
   "metadata": {},
   "outputs": [
    {
     "name": "stderr",
     "output_type": "stream",
     "text": [
      "/usr/local/anaconda3/lib/python3.6/site-packages/h5py/__init__.py:34: FutureWarning: Conversion of the second argument of issubdtype from `float` to `np.floating` is deprecated. In future, it will be treated as `np.float64 == np.dtype(float).type`.\n",
      "  from ._conv import register_converters as _register_converters\n",
      "Using TensorFlow backend.\n"
     ]
    },
    {
     "data": {
      "text/plain": [
       "(13363, 23)"
      ]
     },
     "execution_count": 4,
     "metadata": {},
     "output_type": "execute_result"
    }
   ],
   "source": [
    "from keras.utils.np_utils import to_categorical\n",
    "y_cat = np.concatenate(y)\n",
    "y_cat = to_categorical(y_cat)\n",
    "num_classes = y_cat.shape[1]\n",
    "y_cat.shape"
   ]
  },
  {
   "cell_type": "code",
   "execution_count": 5,
   "metadata": {
    "collapsed": true
   },
   "outputs": [],
   "source": [
    "def adjustMaxLen(maxlen,divisor):\n",
    "    #makes the length divisible by 4\n",
    "    while maxlen%divisor > 0:\n",
    "        maxlen += 1\n",
    "    return maxlen"
   ]
  },
  {
   "cell_type": "code",
   "execution_count": 6,
   "metadata": {},
   "outputs": [
    {
     "name": "stdout",
     "output_type": "stream",
     "text": [
      "(13363, 4164, 60) (13363, 12, 1)\n"
     ]
    }
   ],
   "source": [
    "import keras\n",
    "from keras.preprocessing.sequence import pad_sequences\n",
    "maxlen = max([max([song.shape[0] for song in genre]) for genre in genreTimeSeries])\n",
    "num_segments = 4\n",
    "maxlen_adj = adjustMaxLen(maxlen,num_segments)\n",
    "padded = [pad_sequences(i,maxlen=maxlen_adj) for i in genreTimeSeries]\n",
    "X = np.concatenate(padded)\n",
    "X_aux = np.concatenate(genreMetaData)\n",
    "print(X.shape,X_aux.shape)"
   ]
  },
  {
   "cell_type": "code",
   "execution_count": 7,
   "metadata": {
    "collapsed": true
   },
   "outputs": [],
   "source": [
    "np.save('x.npy',X)\n",
    "np.save('x_aux.npy',X_aux)\n",
    "np.save('y.npy',y_cat)"
   ]
  },
  {
   "cell_type": "code",
   "execution_count": 8,
   "metadata": {
    "scrolled": true
   },
   "outputs": [
    {
     "name": "stdout",
     "output_type": "stream",
     "text": [
      "(12026, 4164, 60) (1337, 4164, 60)\n",
      "(12026, 12, 1) (1337, 12, 1)\n"
     ]
    }
   ],
   "source": [
    "from sklearn.model_selection import train_test_split\n",
    "X_train, X_test,y_train, y_test = train_test_split(X, y_cat, test_size=0.1,random_state=42)\n",
    "Xaux_train, Xaux_test,y_train1, y_test1 = train_test_split(X_aux, y_cat, test_size=0.1,random_state=42)\n",
    "print(X_train.shape,X_test.shape)\n",
    "print(Xaux_train.shape,Xaux_test.shape)"
   ]
  },
  {
   "cell_type": "code",
   "execution_count": 8,
   "metadata": {},
   "outputs": [
    {
     "data": {
      "text/plain": [
       "(12026, 4164, 60)"
      ]
     },
     "execution_count": 8,
     "metadata": {},
     "output_type": "execute_result"
    }
   ],
   "source": [
    "X_train.shape"
   ]
  },
  {
   "cell_type": "code",
   "execution_count": 9,
   "metadata": {
    "collapsed": true
   },
   "outputs": [],
   "source": [
    "from keras.layers import Input, LSTM, Dense,Lambda\n",
    "from keras.models import Model\n",
    "\n",
    "\n",
    "main_input = Input(shape=(X_train.shape[1:]), name='main_input')\n",
    "\n",
    "# A RNN will transform the vector sequence into a single vector,\n",
    "# containing information about the entire sequence\n",
    "num_segments = 4\n",
    "maxlen_adj = adjustMaxLen(maxlen,num_segments)\n",
    "start = 0\n",
    "step = maxlen_adj//num_segments\n",
    "lstm_aux = []\n",
    "lstm_out = []\n",
    "for i in range(num_segments):\n",
    "    l = Lambda(lambda x: x[start:start+step,:])(main_input)\n",
    "    l = LSTM(32)(l)\n",
    "    l = Dense(64,activation='relu')(l)\n",
    "    lstm_aux.append(Dense(num_classes,activation='softmax')(l))\n",
    "    lstm_out.append(l)\n",
    "    start += step\n",
    "\n",
    "auxiliary_output = keras.layers.Average()(lstm_aux)\n",
    "\n",
    "\n",
    "auxiliary_input = Input(shape=(12,), name='aux_input')\n",
    "lstm_out = keras.layers.Average()(lstm_out)\n",
    "x = keras.layers.concatenate([lstm_out, auxiliary_input])\n",
    "\n",
    "# We stack a deep densely-connected network on top\n",
    "x = Dense(64, activation='relu')(x)\n",
    "x = Dense(64, activation='relu')(x)\n",
    "x = Dense(64, activation='relu')(x)\n",
    "\n",
    "main_output = Dense(num_classes, activation='softmax', name='main_output')(x)"
   ]
  },
  {
   "cell_type": "code",
   "execution_count": null,
   "metadata": {},
   "outputs": [
    {
     "name": "stdout",
     "output_type": "stream",
     "text": [
      "Train on 12000 samples, validate on 1337 samples\n",
      "Epoch 1/50\n"
     ]
    }
   ],
   "source": [
    "from keras.utils import multi_gpu_model\n",
    "from keras.callbacks import ModelCheckpoint, CSVLogger\n",
    "model = Model(inputs=[main_input, auxiliary_input], outputs=[main_output, auxiliary_output])\n",
    "\n",
    "# Replicates `model` on 4 GPUs.\n",
    "# This assumes that your machine has 4 available GPUs.\n",
    "parallel_model = multi_gpu_model(model, gpus=4)\n",
    "parallel_model.compile(optimizer='adam', loss='categorical_crossentropy',\n",
    "              loss_weights=[1., 0.2],metrics=['accuracy'])\n",
    "mc = ModelCheckpoint('4lstm.{epoch:02d}--{val_loss:.2f}.hdf5',save_best_only=True)\n",
    "csv_logger=CSVLogger('training_4lstm.log')\n",
    "history = parallel_model.fit([X_train[:12000], Xaux_train[:12000].reshape(-1,12)], [y_train[:12000], y_train[:12000]],validation_data=([X_test,Xaux_test.reshape(-1,12)],[y_test,y_test]),\n",
    "          epochs=50, batch_size=60,callbacks = [mc,csv_logger])\n",
    "pickle.dump(history.history,open('training_history_4lstm.p','wb'))"
   ]
  },
  {
   "cell_type": "markdown",
   "metadata": {
    "collapsed": true
   },
   "source": [
    "Tried doing the slicing as a lambda layer within the model, but was having hard to deal with errors. "
   ]
  },
  {
   "cell_type": "code",
   "execution_count": 10,
   "metadata": {},
   "outputs": [
    {
     "name": "stdout",
     "output_type": "stream",
     "text": [
      "0     10.0\n",
      "1     20.0\n",
      "2     30.0\n",
      "3     40.0\n",
      "4     50.0\n",
      "5     60.0\n",
      "6     70.0\n",
      "7     80.0\n",
      "8     90.0\n",
      "9    100.0\n",
      "dtype: float64\n",
      "Min: 10.000000, Max: 200.000000\n",
      "[[0.        ]\n",
      " [0.11111111]\n",
      " [0.22222222]\n",
      " [0.33333333]\n",
      " [0.44444444]\n",
      " [0.55555556]\n",
      " [0.66666667]\n",
      " [0.77777778]\n",
      " [0.88888889]\n",
      " [1.        ]]\n",
      "[[ 10.]\n",
      " [ 20.]\n",
      " [ 30.]\n",
      " [ 40.]\n",
      " [ 50.]\n",
      " [ 60.]\n",
      " [ 70.]\n",
      " [ 80.]\n",
      " [ 90.]\n",
      " [100.]]\n"
     ]
    }
   ],
   "source": [
    "from pandas import Series\n",
    "from sklearn.preprocessing import MinMaxScaler\n",
    "# define contrived series\n",
    "data = [10.0, 20.0, 30.0, 40.0, 50.0, 60.0, 70.0, 80.0, 90.0, 100.0]\n",
    "series = Series(data)\n",
    "print(series)\n",
    "# prepare data for normalization\n",
    "values = series.values\n",
    "values = values.reshape((len(values), 1))\n",
    "# train the normalization\n",
    "scaler = MinMaxScaler(feature_range=(0, 1))\n",
    "scaler = scaler.fit(values)\n",
    "print('Min: %f, Max: %f' % (scaler.data_min_, scaler.data_max_))\n",
    "# normalize the dataset and print\n",
    "normalized = scaler.transform(values)\n",
    "print(normalized)\n",
    "# inverse transform and print\n",
    "inversed = scaler.inverse_transform(normalized)\n",
    "print(inversed)"
   ]
  },
  {
   "cell_type": "code",
   "execution_count": null,
   "metadata": {
    "collapsed": true
   },
   "outputs": [],
   "source": []
  }
 ],
 "metadata": {
  "kernelspec": {
   "display_name": "Python 3",
   "language": "python",
   "name": "python3"
  },
  "language_info": {
   "codemirror_mode": {
    "name": "ipython",
    "version": 3
   },
   "file_extension": ".py",
   "mimetype": "text/x-python",
   "name": "python",
   "nbconvert_exporter": "python",
   "pygments_lexer": "ipython3",
   "version": "3.6.2"
  }
 },
 "nbformat": 4,
 "nbformat_minor": 2
}

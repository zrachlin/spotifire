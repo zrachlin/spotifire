{
 "cells": [
  {
   "cell_type": "code",
   "execution_count": 1,
   "metadata": {
    "collapsed": true
   },
   "outputs": [],
   "source": [
    "import sys\n",
    "sys.path.append('../OOSpotify/')\n",
    "from OOSpotify import *"
   ]
  },
  {
   "cell_type": "code",
   "execution_count": 12,
   "metadata": {},
   "outputs": [
    {
     "name": "stdout",
     "output_type": "stream",
     "text": [
      "0. Horn Intro -- Modest Mouse\n",
      "1. Shining Star -- Earth, Wind & Fire\n",
      "2. Signs -- Snoop Dogg\n",
      "3. 25 Or 6 To 4 - Remastered -- Chicago\n",
      "4. Stop, Drop, Roll -- Can't Stop Won't Stop\n",
      "5. Digital Witness -- St. Vincent\n",
      "6. Tusk -- Fleetwood Mac\n",
      "7. I Will Survive -- Cake\n",
      "8. I Wish -- Stevie Wonder\n",
      "9. Down With The Trumpets -- Rizzle Kicks\n",
      "10. Crazy In Love -- Beyoncé\n",
      "11. God Only Knows - 1997 - Remaster -- The Beach Boys\n",
      "12. The National Anthem -- Radiohead\n",
      "13. Oh My God -- Mark Ronson\n",
      "14. The Power Of Love -- Huey Lewis & The News\n",
      "15. War -- Hypnotic Brass Ensemble\n",
      "16. I Was A Lover -- TV On The Radio\n",
      "17. Close To Me -- The Cure\n",
      "18. Handlebars -- Flobots\n",
      "19. Sweet Dreams Are Made Of This -- The Soul Rebels\n",
      "20. In Cold Blood -- alt-J\n",
      "21. Kashmir -- Led Zeppelin\n",
      "22. Livin' la Vida Loca -- Ricky Martin\n",
      "23. The Time Is Now (John Cena) -- John Cena\n",
      "24. Love Shack -- The B-52's\n",
      "25. Sell Out -- Reel Big Fish\n",
      "26. Ballicki Bone -- Hypnotic Brass Ensemble\n",
      "27. Take Back the Night -- Justin Timberlake\n",
      "28. Way Back -- TLC\n",
      "29. All Of The Lights -- Kanye West\n",
      "30. The Impression That I Get -- The Mighty Mighty Bosstones\n",
      "31. No Reply At All - 2007 Remastered Version -- Genesis\n",
      "32. Perfect World - Single Edit -- Huey Lewis & The News\n",
      "33. Born to Run -- Bruce Springsteen\n",
      "34. You Oughta Know -- The Killing Moon\n",
      "35. Savoy Truffle - Remastered -- The Beatles\n",
      "36. Rigamortus -- Kendrick Lamar\n",
      "37. Army -- Ben Folds Five\n",
      "38. Here's to Life -- Streetlight Manifesto\n",
      "39. Get Up -- Goldfinger\n",
      "40. What the Funk -- The Memphis Horns\n",
      "41. Domino -- Van Morrison\n",
      "42. Zoot Suit Riot -- Cherry Poppin' Daddies\n",
      "43. Jump Around -- House Of Pain\n",
      "44. The Way You Move - Club Mix -- OutKast\n",
      "45. Touch The Sky -- Kanye West\n",
      "46. Countdown -- Beyoncé\n",
      "47. We Run This -- Missy Elliott\n",
      "48. The Distance -- Cake\n",
      "49. Run This Town -- The Apples\n",
      "50. September -- Earth, Wind & Fire\n",
      "51. Uptight (Everything's Alright) -- Stevie Wonder\n",
      "52. Creep -- TLC\n",
      "53. Disturbed -- Blame One\n",
      "54. Come On Eileen -- Dexys Midnight Runners\n",
      "55. Could Heaven Ever Be Like This -- Idris Muhammad\n",
      "56. Miserlou -- Dick Dale\n",
      "57. Montreux -- Curren$y\n",
      "58. Take On Me -- No BS! Brass Band\n",
      "59. Brooklyn -- Youngblood Brass Band\n",
      "60. Touch 'Em -- Koi Child\n",
      "61. It's Your Thing -- The Isley Brothers\n",
      "62. Goody Two Shoes -- Adam Ant\n",
      "63. Your Mom -- Death*Star\n",
      "64. Creole Moon -- Dr. John\n",
      "65. Ghost Ship -- Blur\n",
      "66. Iron -- Woodkid\n",
      "67. Me Time (ft. The O'My's, Kweku Collins, & Jack Red) -- oddCouple\n",
      "68. Tadow -- Masego\n",
      "69. Wasting Time -- Kids These Days\n",
      "70. Driftin' -- GRiZ\n",
      "71. North Korea (feat. Donnie Trumpet) -- Blended Babies\n",
      "72. Rewind -- Louis Futon\n",
      "73. Trip on My Words -- Manwolves\n",
      "74. Saturday In The Park - Remastered -- Chicago\n",
      "75. Number 9 -- Moon Hooch\n",
      "76. I Got The...(Radio Edit) - Radio Edit; 2006 Remastered Version -- Labi Siffre\n",
      "77. Meermenschen -- Moop Mama\n",
      "78. You & Me -- MEUTE\n",
      "79. Autobahn -- LaBrassBanda\n",
      "80. Perfect. -- Bibi Bourelly\n",
      "81. Across The Multiverse (feat. Frankie Cosmos) -- Dent May\n",
      "82. Chicago -- Boogie Belgique\n",
      "83. Brnt -- Magic City Hippies\n",
      "84. Sanctify -- St. Paul & The Broken Bones\n",
      "85. Minas de Cobre - For Better Metal -- Calexico\n",
      "86. What You Won't Do For Love -- Bobby Caldwell\n",
      "87. Misunderstanding -- Genesis\n"
     ]
    }
   ],
   "source": [
    "Playlist('brass hysteria').Tracks()"
   ]
  },
  {
   "cell_type": "code",
   "execution_count": 16,
   "metadata": {},
   "outputs": [
    {
     "name": "stdout",
     "output_type": "stream",
     "text": [
      "retrying ...2secs\n",
      "retrying ...2secs\n",
      "retrying ...1secs\n",
      "retrying ...1secs\n",
      "retrying ...1secs\n",
      "retrying ...1secs\n",
      "retrying ...1secs\n"
     ]
    }
   ],
   "source": [
    "import itertools\n",
    "\n",
    "brass = [Playlist('Brass Hysteria'),\n",
    "         Playlist('the sound of jazz brass'),\n",
    "         Playlist('the sound of brass band'),\n",
    "         Playlist('the sound of british brass')]\n",
    "brass = [i.getTracks() for i in brass]\n",
    "brass = list(itertools.chain.from_iterable(brass))"
   ]
  },
  {
   "cell_type": "code",
   "execution_count": 20,
   "metadata": {},
   "outputs": [
    {
     "data": {
      "text/plain": [
       "[{'display_name': 'Billy Shakes',\n",
       "  'external_urls': {'spotify': 'https://open.spotify.com/user/1qwnqhz8euamine2ejlk6y6ji'},\n",
       "  'href': 'https://api.spotify.com/v1/users/1qwnqhz8euamine2ejlk6y6ji',\n",
       "  'id': '1qwnqhz8euamine2ejlk6y6ji',\n",
       "  'type': 'user',\n",
       "  'uri': 'spotify:user:1qwnqhz8euamine2ejlk6y6ji'},\n",
       " {'display_name': 'The Sounds of Spotify',\n",
       "  'external_urls': {'spotify': 'https://open.spotify.com/user/thesoundsofspotify'},\n",
       "  'href': 'https://api.spotify.com/v1/users/thesoundsofspotify',\n",
       "  'id': 'thesoundsofspotify',\n",
       "  'type': 'user',\n",
       "  'uri': 'spotify:user:thesoundsofspotify'},\n",
       " {'display_name': 'The Sounds of Spotify',\n",
       "  'external_urls': {'spotify': 'https://open.spotify.com/user/thesoundsofspotify'},\n",
       "  'href': 'https://api.spotify.com/v1/users/thesoundsofspotify',\n",
       "  'id': 'thesoundsofspotify',\n",
       "  'type': 'user',\n",
       "  'uri': 'spotify:user:thesoundsofspotify'},\n",
       " {'display_name': 'The Sounds of Spotify',\n",
       "  'external_urls': {'spotify': 'https://open.spotify.com/user/thesoundsofspotify'},\n",
       "  'href': 'https://api.spotify.com/v1/users/thesoundsofspotify',\n",
       "  'id': 'thesoundsofspotify',\n",
       "  'type': 'user',\n",
       "  'uri': 'spotify:user:thesoundsofspotify'}]"
      ]
     },
     "execution_count": 20,
     "metadata": {},
     "output_type": "execute_result"
    }
   ],
   "source": [
    "[i.owner for i in [Playlist('Brass Hysteria'),\n",
    "         Playlist('the sound of jazz brass'),\n",
    "         Playlist('the sound of brass band'),\n",
    "         Playlist('the sound of british brass')]]"
   ]
  },
  {
   "cell_type": "code",
   "execution_count": 28,
   "metadata": {},
   "outputs": [
    {
     "data": {
      "text/plain": [
       "['The Green Room']"
      ]
     },
     "execution_count": 28,
     "metadata": {},
     "output_type": "execute_result"
    }
   ],
   "source": [
    "Album('the room soundtrack').artists"
   ]
  },
  {
   "cell_type": "code",
   "execution_count": 14,
   "metadata": {},
   "outputs": [
    {
     "ename": "AttributeError",
     "evalue": "'list' object has no attribute 'flatten'",
     "output_type": "error",
     "traceback": [
      "\u001b[0;31m---------------------------------------------------------------------------\u001b[0m",
      "\u001b[0;31mAttributeError\u001b[0m                            Traceback (most recent call last)",
      "\u001b[0;32m<ipython-input-14-6250fcc338ec>\u001b[0m in \u001b[0;36m<module>\u001b[0;34m()\u001b[0m\n\u001b[0;32m----> 1\u001b[0;31m \u001b[0ma\u001b[0m\u001b[0;34m.\u001b[0m\u001b[0mflatten\u001b[0m\u001b[0;34m(\u001b[0m\u001b[0;34m)\u001b[0m\u001b[0;34m\u001b[0m\u001b[0m\n\u001b[0m",
      "\u001b[0;31mAttributeError\u001b[0m: 'list' object has no attribute 'flatten'"
     ]
    }
   ],
   "source": [
    "a.flatten()"
   ]
  },
  {
   "cell_type": "code",
   "execution_count": 30,
   "metadata": {},
   "outputs": [],
   "source": [
    "from keras.models import load_model\n",
    "m = load_model('bs60.48--2.01.hdf5')"
   ]
  },
  {
   "cell_type": "code",
   "execution_count": 34,
   "metadata": {},
   "outputs": [
    {
     "name": "stdout",
     "output_type": "stream",
     "text": [
      "__________________________________________________________________________________________________\n",
      "Layer (type)                    Output Shape         Param #     Connected to                     \n",
      "==================================================================================================\n",
      "main_input (InputLayer)         (None, 4163, 60)     0                                            \n",
      "__________________________________________________________________________________________________\n",
      "aux_input (InputLayer)          (None, 12)           0                                            \n",
      "__________________________________________________________________________________________________\n",
      "lambda_9 (Lambda)               (None, 4163, 60)     0           main_input[0][0]                 \n",
      "__________________________________________________________________________________________________\n",
      "lambda_10 (Lambda)              (None, 12)           0           aux_input[0][0]                  \n",
      "__________________________________________________________________________________________________\n",
      "lambda_11 (Lambda)              (None, 4163, 60)     0           main_input[0][0]                 \n",
      "__________________________________________________________________________________________________\n",
      "lambda_12 (Lambda)              (None, 12)           0           aux_input[0][0]                  \n",
      "__________________________________________________________________________________________________\n",
      "lambda_13 (Lambda)              (None, 4163, 60)     0           main_input[0][0]                 \n",
      "__________________________________________________________________________________________________\n",
      "lambda_14 (Lambda)              (None, 12)           0           aux_input[0][0]                  \n",
      "__________________________________________________________________________________________________\n",
      "lambda_15 (Lambda)              (None, 4163, 60)     0           main_input[0][0]                 \n",
      "__________________________________________________________________________________________________\n",
      "lambda_16 (Lambda)              (None, 12)           0           aux_input[0][0]                  \n",
      "__________________________________________________________________________________________________\n",
      "model_3 (Model)                 [(None, 23), (None,  25358       lambda_9[0][0]                   \n",
      "                                                                 lambda_10[0][0]                  \n",
      "                                                                 lambda_11[0][0]                  \n",
      "                                                                 lambda_12[0][0]                  \n",
      "                                                                 lambda_13[0][0]                  \n",
      "                                                                 lambda_14[0][0]                  \n",
      "                                                                 lambda_15[0][0]                  \n",
      "                                                                 lambda_16[0][0]                  \n",
      "__________________________________________________________________________________________________\n",
      "main_output (Concatenate)       (None, 23)           0           model_3[1][0]                    \n",
      "                                                                 model_3[2][0]                    \n",
      "                                                                 model_3[3][0]                    \n",
      "                                                                 model_3[4][0]                    \n",
      "__________________________________________________________________________________________________\n",
      "aux_output (Concatenate)        (None, 23)           0           model_3[1][1]                    \n",
      "                                                                 model_3[2][1]                    \n",
      "                                                                 model_3[3][1]                    \n",
      "                                                                 model_3[4][1]                    \n",
      "==================================================================================================\n",
      "Total params: 25,358\n",
      "Trainable params: 25,358\n",
      "Non-trainable params: 0\n",
      "__________________________________________________________________________________________________\n"
     ]
    }
   ],
   "source": [
    "model.summary()"
   ]
  },
  {
   "cell_type": "code",
   "execution_count": 35,
   "metadata": {},
   "outputs": [
    {
     "name": "stdout",
     "output_type": "stream",
     "text": [
      "__________________________________________________________________________________________________\n",
      "Layer (type)                    Output Shape         Param #     Connected to                     \n",
      "==================================================================================================\n",
      "mi1 (InputLayer)                (None, 1041, 60)     0                                            \n",
      "__________________________________________________________________________________________________\n",
      "mi2 (InputLayer)                (None, 1041, 60)     0                                            \n",
      "__________________________________________________________________________________________________\n",
      "mi3 (InputLayer)                (None, 1041, 60)     0                                            \n",
      "__________________________________________________________________________________________________\n",
      "mi4 (InputLayer)                (None, 1041, 60)     0                                            \n",
      "__________________________________________________________________________________________________\n",
      "aux_input (InputLayer)          (None, 12)           0                                            \n",
      "__________________________________________________________________________________________________\n",
      "lambda_63 (Lambda)              (None, 1041, 60)     0           mi1[0][0]                        \n",
      "__________________________________________________________________________________________________\n",
      "lambda_64 (Lambda)              (None, 1041, 60)     0           mi2[0][0]                        \n",
      "__________________________________________________________________________________________________\n",
      "lambda_65 (Lambda)              (None, 1041, 60)     0           mi3[0][0]                        \n",
      "__________________________________________________________________________________________________\n",
      "lambda_66 (Lambda)              (None, 1041, 60)     0           mi4[0][0]                        \n",
      "__________________________________________________________________________________________________\n",
      "lambda_67 (Lambda)              (None, 12)           0           aux_input[0][0]                  \n",
      "__________________________________________________________________________________________________\n",
      "lambda_68 (Lambda)              (None, 1041, 60)     0           mi1[0][0]                        \n",
      "__________________________________________________________________________________________________\n",
      "lambda_69 (Lambda)              (None, 1041, 60)     0           mi2[0][0]                        \n",
      "__________________________________________________________________________________________________\n",
      "lambda_70 (Lambda)              (None, 1041, 60)     0           mi3[0][0]                        \n",
      "__________________________________________________________________________________________________\n",
      "lambda_71 (Lambda)              (None, 1041, 60)     0           mi4[0][0]                        \n",
      "__________________________________________________________________________________________________\n",
      "lambda_72 (Lambda)              (None, 12)           0           aux_input[0][0]                  \n",
      "__________________________________________________________________________________________________\n",
      "lambda_73 (Lambda)              (None, 1041, 60)     0           mi1[0][0]                        \n",
      "__________________________________________________________________________________________________\n",
      "lambda_74 (Lambda)              (None, 1041, 60)     0           mi2[0][0]                        \n",
      "__________________________________________________________________________________________________\n",
      "lambda_75 (Lambda)              (None, 1041, 60)     0           mi3[0][0]                        \n",
      "__________________________________________________________________________________________________\n",
      "lambda_76 (Lambda)              (None, 1041, 60)     0           mi4[0][0]                        \n",
      "__________________________________________________________________________________________________\n",
      "lambda_77 (Lambda)              (None, 12)           0           aux_input[0][0]                  \n",
      "__________________________________________________________________________________________________\n",
      "lambda_78 (Lambda)              (None, 1041, 60)     0           mi1[0][0]                        \n",
      "__________________________________________________________________________________________________\n",
      "lambda_79 (Lambda)              (None, 1041, 60)     0           mi2[0][0]                        \n",
      "__________________________________________________________________________________________________\n",
      "lambda_80 (Lambda)              (None, 1041, 60)     0           mi3[0][0]                        \n",
      "__________________________________________________________________________________________________\n",
      "lambda_81 (Lambda)              (None, 1041, 60)     0           mi4[0][0]                        \n",
      "__________________________________________________________________________________________________\n",
      "lambda_82 (Lambda)              (None, 12)           0           aux_input[0][0]                  \n",
      "__________________________________________________________________________________________________\n",
      "model_12 (Model)                [(None, 23), (None,  76787       lambda_63[0][0]                  \n",
      "                                                                 lambda_64[0][0]                  \n",
      "                                                                 lambda_65[0][0]                  \n",
      "                                                                 lambda_66[0][0]                  \n",
      "                                                                 lambda_67[0][0]                  \n",
      "                                                                 lambda_68[0][0]                  \n",
      "                                                                 lambda_69[0][0]                  \n",
      "                                                                 lambda_70[0][0]                  \n",
      "                                                                 lambda_71[0][0]                  \n",
      "                                                                 lambda_72[0][0]                  \n",
      "                                                                 lambda_73[0][0]                  \n",
      "                                                                 lambda_74[0][0]                  \n",
      "                                                                 lambda_75[0][0]                  \n",
      "                                                                 lambda_76[0][0]                  \n",
      "                                                                 lambda_77[0][0]                  \n",
      "                                                                 lambda_78[0][0]                  \n",
      "                                                                 lambda_79[0][0]                  \n",
      "                                                                 lambda_80[0][0]                  \n",
      "                                                                 lambda_81[0][0]                  \n",
      "                                                                 lambda_82[0][0]                  \n",
      "__________________________________________________________________________________________________\n",
      "main_output (Concatenate)       (None, 23)           0           model_12[1][0]                   \n",
      "                                                                 model_12[2][0]                   \n",
      "                                                                 model_12[3][0]                   \n",
      "                                                                 model_12[4][0]                   \n",
      "__________________________________________________________________________________________________\n",
      "aux_output (Concatenate)        (None, 23)           0           model_12[1][1]                   \n",
      "                                                                 model_12[2][1]                   \n",
      "                                                                 model_12[3][1]                   \n",
      "                                                                 model_12[4][1]                   \n",
      "==================================================================================================\n",
      "Total params: 76,787\n",
      "Trainable params: 76,787\n",
      "Non-trainable params: 0\n",
      "__________________________________________________________________________________________________\n"
     ]
    }
   ],
   "source": [
    "from keras.models import load_model\n",
    "mo = load_model('4lstm.33--2.14.hdf5')\n",
    "mo.summary()"
   ]
  },
  {
   "cell_type": "code",
   "execution_count": 53,
   "metadata": {},
   "outputs": [],
   "source": [
    "pl = Playlist('Todays top hits',owner='Spotify')"
   ]
  },
  {
   "cell_type": "code",
   "execution_count": 58,
   "metadata": {},
   "outputs": [
    {
     "name": "stdout",
     "output_type": "stream",
     "text": [
      "In My Feelings - 100\n",
      "Girls Like You (feat. Cardi B) - 96\n",
      "God is a woman - 88\n",
      "Summertime Magic - 86\n",
      "Youngblood - 95\n",
      "Don’t Matter To Me - 98\n",
      "Jackie Chan - 96\n",
      "Bed (feat. Ariana Grande) - 93\n",
      "Ocean (feat. Khalid) - 94\n",
      "Taste (feat. Offset) - 96\n",
      "Rise - 93\n",
      "Lucid Dreams - 68\n",
      "Body - 84\n",
      "Eastside (with Halsey & Khalid) - 81\n",
      "Solo (feat. Demi Lovato) - 97\n",
      "ocean eyes - 84\n",
      "Lie - 81\n",
      "I Like It - 99\n",
      "Boo'd Up - 87\n",
      "Back To You - From 13 Reasons Why – Season 2 Soundtrack - 92\n",
      "APESHIT - 86\n",
      "Connection - 82\n",
      "X - Remix - 87\n",
      "High Hopes - 85\n",
      "Nonstop - 97\n",
      "Born To Be Yours - 82\n",
      "I'm a Mess - 84\n",
      "Better Now - 99\n",
      "If You're Over Me - 87\n",
      "Only You (with Little Mix) - 82\n",
      "Enemies - 86\n",
      "No Es Justo - 85\n",
      "Better Not (feat. Wafia) - 86\n",
      "Like To Be You feat. Julia Michaels - 86\n",
      "no tears left to cry - 97\n",
      "2002 - 90\n",
      "lovely (with Khalid) - 92\n",
      "One Kiss (with Dua Lipa) - 99\n",
      "All Mine - 92\n",
      "Let Me Live (feat. Anne-Marie & Mr Eazi) - 81\n",
      "Sin Pijama - 94\n",
      "Let Me Down Slowly - 84\n",
      "Nevermind - 94\n",
      "Audio - with Sia, Diplo & Labrinth - 88\n",
      "La Cintura - 91\n",
      "New Light - 89\n",
      "Growing Pains - 83\n",
      "Simple - 84\n",
      "Playinwitme (feat. Kehlani) - 90\n",
      "Jump (with Trippie Redd) - 85\n",
      "In My Feelings - 100\n",
      "I Like It - 99\n",
      "Better Now - 99\n",
      "One Kiss (with Dua Lipa) - 99\n",
      "Don’t Matter To Me - 98\n",
      "Solo (feat. Demi Lovato) - 97\n",
      "Nonstop - 97\n",
      "no tears left to cry - 97\n",
      "Girls Like You (feat. Cardi B) - 96\n",
      "Jackie Chan - 96\n",
      "Taste (feat. Offset) - 96\n",
      "Youngblood - 95\n",
      "Ocean (feat. Khalid) - 94\n",
      "Sin Pijama - 94\n",
      "Nevermind - 94\n",
      "Bed (feat. Ariana Grande) - 93\n",
      "Rise - 93\n",
      "Back To You - From 13 Reasons Why – Season 2 Soundtrack - 92\n",
      "lovely (with Khalid) - 92\n",
      "All Mine - 92\n",
      "La Cintura - 91\n",
      "2002 - 90\n",
      "Playinwitme (feat. Kehlani) - 90\n",
      "New Light - 89\n",
      "God is a woman - 88\n",
      "Audio - with Sia, Diplo & Labrinth - 88\n",
      "Boo'd Up - 87\n",
      "X - Remix - 87\n",
      "If You're Over Me - 87\n",
      "Summertime Magic - 86\n",
      "APESHIT - 86\n",
      "Enemies - 86\n",
      "Better Not (feat. Wafia) - 86\n",
      "Like To Be You feat. Julia Michaels - 86\n",
      "High Hopes - 85\n",
      "No Es Justo - 85\n",
      "Jump (with Trippie Redd) - 85\n",
      "Body - 84\n",
      "ocean eyes - 84\n",
      "I'm a Mess - 84\n",
      "Let Me Down Slowly - 84\n",
      "Simple - 84\n",
      "Growing Pains - 83\n",
      "Connection - 82\n",
      "Born To Be Yours - 82\n",
      "Only You (with Little Mix) - 82\n",
      "Eastside (with Halsey & Khalid) - 81\n",
      "Lie - 81\n",
      "Let Me Live (feat. Anne-Marie & Mr Eazi) - 81\n",
      "Lucid Dreams - 68\n"
     ]
    }
   ],
   "source": [
    "pop = [(i.name,i.popularity) for i in pl.getTracks()]\n",
    "print('\\n'.join('{} - {}'.format(i[0],i[1]) for i in pop))\n",
    "pop = sorted(pop,key=lambda x: x[1],reverse=True)\n",
    "print('\\n'.join('{} - {}'.format(i[0],i[1]) for i in pop))"
   ]
  },
  {
   "cell_type": "code",
   "execution_count": null,
   "metadata": {
    "collapsed": true
   },
   "outputs": [],
   "source": []
  }
 ],
 "metadata": {
  "kernelspec": {
   "display_name": "Python 3",
   "language": "python",
   "name": "python3"
  },
  "language_info": {
   "codemirror_mode": {
    "name": "ipython",
    "version": 3
   },
   "file_extension": ".py",
   "mimetype": "text/x-python",
   "name": "python",
   "nbconvert_exporter": "python",
   "pygments_lexer": "ipython3",
   "version": "3.6.2"
  }
 },
 "nbformat": 4,
 "nbformat_minor": 2
}

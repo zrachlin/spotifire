{
 "cells": [
  {
   "cell_type": "code",
   "execution_count": 12,
   "metadata": {},
   "outputs": [],
   "source": [
    "import os\n",
    "os.environ['SPOTIPY_CLIENT_ID'] = '0dd677ab735f4fd1b9dbf6b236350ba1'\n",
    "os.environ['SPOTIPY_CLIENT_SECRET'] = 'bbe8736a14ba4e64bfb2d4103c8957aa'\n",
    "os.environ['SPOTIPY_REDIRECT_URI'] = 'http://google.com/'"
   ]
  },
  {
   "cell_type": "code",
   "execution_count": 13,
   "metadata": {},
   "outputs": [],
   "source": [
    "import sys\n",
    "sys.path.append('../OOSpotify/')\n",
    "from OOSpotify import *"
   ]
  },
  {
   "cell_type": "code",
   "execution_count": 14,
   "metadata": {},
   "outputs": [
    {
     "name": "stdout",
     "output_type": "stream",
     "text": [
      "0: Live At The Hollywood Bowl -- 2016-09-09\n",
      "1: Let It Be... Naked (Remastered) -- 2014-01-01\n",
      "2: Yellow Submarine Songtrack -- 2014-01-01\n",
      "3: On Air - Live At The BBC (Vol.2) -- 2013-11-11\n",
      "4: 1 (Remastered) -- 2000-11-13\n",
      "5: Live At The BBC (Remastered) -- 1994-11-30\n",
      "6: Let It Be (Remastered) -- 1970-05-08\n",
      "7: Abbey Road (Remastered) -- 1969-09-26\n",
      "8: Yellow Submarine (Remastered) -- 1969-01-17\n",
      "9: The Beatles (Remastered) -- 1968-11-22\n",
      "10: Magical Mystery Tour (Remastered) -- 1967-11-27\n",
      "11: Sgt. Pepper's Lonely Hearts Club Band (Remastered) -- 1967-06-01\n",
      "12: Sgt. Pepper's Lonely Hearts Club Band (Deluxe Edition) -- 1967-06-01\n",
      "13: Revolver (Remastered) -- 1966-08-05\n",
      "14: Rubber Soul (Remastered) -- 1965-12-03\n",
      "15: Help! (Remastered) -- 1965-08-06\n",
      "16: Beatles For Sale (Remastered) -- 1964-12-04\n",
      "17: A Hard Day's Night (Remastered) -- 1964-07-10\n",
      "18: With The Beatles (Remastered) -- 1963-11-22\n",
      "19: Please Please Me (Remastered) -- 1963-03-22\n"
     ]
    }
   ],
   "source": [
    "beatles = Artist('beatles')\n",
    "beatles.Albums()"
   ]
  },
  {
   "cell_type": "code",
   "execution_count": 4,
   "metadata": {},
   "outputs": [
    {
     "name": "stdout",
     "output_type": "stream",
     "text": [
      "type\n",
      "album_group\n",
      "album_type\n",
      "artists\n",
      "available_markets\n",
      "external_urls\n",
      "href\n",
      "id\n",
      "images\n",
      "name\n",
      "release_date\n",
      "release_date_precision\n",
      "uri\n"
     ]
    }
   ],
   "source": [
    "beatles.getAlbums()[5].Attributes()"
   ]
  },
  {
   "cell_type": "code",
   "execution_count": 6,
   "metadata": {},
   "outputs": [
    {
     "data": {
      "text/plain": [
       "[['Get Back - Naked Version / Remastered 2013',\n",
       "  {'acousticness': 0.0531,\n",
       "   'danceability': 0.815,\n",
       "   'energy': 0.627,\n",
       "   'instrumentalness': 0.00167,\n",
       "   'key': 7,\n",
       "   'liveness': 0.0711,\n",
       "   'loudness': -9.026,\n",
       "   'mode': 1,\n",
       "   'speechiness': 0.0421,\n",
       "   'tempo': 123.568,\n",
       "   'time_signature': 4,\n",
       "   'valence': 0.529}],\n",
       " ['Dig A Pony - Naked Version / Remastered 2013',\n",
       "  {'acousticness': 0.532,\n",
       "   'danceability': 0.499,\n",
       "   'energy': 0.503,\n",
       "   'instrumentalness': 0,\n",
       "   'key': 11,\n",
       "   'liveness': 0.178,\n",
       "   'loudness': -8.103,\n",
       "   'mode': 0,\n",
       "   'speechiness': 0.0419,\n",
       "   'tempo': 119.264,\n",
       "   'time_signature': 3,\n",
       "   'valence': 0.495}],\n",
       " ['For You Blue - Naked Version / Remastered 2013',\n",
       "  {'acousticness': 0.287,\n",
       "   'danceability': 0.854,\n",
       "   'energy': 0.618,\n",
       "   'instrumentalness': 0.00783,\n",
       "   'key': 2,\n",
       "   'liveness': 0.127,\n",
       "   'loudness': -10.065,\n",
       "   'mode': 1,\n",
       "   'speechiness': 0.0935,\n",
       "   'tempo': 128.755,\n",
       "   'time_signature': 4,\n",
       "   'valence': 0.847}],\n",
       " ['The Long And Winding Road - Naked Version / Remastered 2013',\n",
       "  {'acousticness': 0.955,\n",
       "   'danceability': 0.574,\n",
       "   'energy': 0.258,\n",
       "   'instrumentalness': 0.000992,\n",
       "   'key': 3,\n",
       "   'liveness': 0.142,\n",
       "   'loudness': -10.675,\n",
       "   'mode': 1,\n",
       "   'speechiness': 0.029,\n",
       "   'tempo': 135.531,\n",
       "   'time_signature': 4,\n",
       "   'valence': 0.313}],\n",
       " ['Two Of Us - Naked Version / Remastered 2013',\n",
       "  {'acousticness': 0.144,\n",
       "   'danceability': 0.7,\n",
       "   'energy': 0.747,\n",
       "   'instrumentalness': 9.26e-06,\n",
       "   'key': 7,\n",
       "   'liveness': 0.146,\n",
       "   'loudness': -9.922,\n",
       "   'mode': 1,\n",
       "   'speechiness': 0.0417,\n",
       "   'tempo': 109.836,\n",
       "   'time_signature': 4,\n",
       "   'valence': 0.9}],\n",
       " [\"I've Got A Feeling - Naked Version / Remastered 2013\",\n",
       "  {'acousticness': 0.0333,\n",
       "   'danceability': 0.435,\n",
       "   'energy': 0.725,\n",
       "   'instrumentalness': 0,\n",
       "   'key': 2,\n",
       "   'liveness': 0.147,\n",
       "   'loudness': -7.731,\n",
       "   'mode': 1,\n",
       "   'speechiness': 0.0733,\n",
       "   'tempo': 164.624,\n",
       "   'time_signature': 4,\n",
       "   'valence': 0.382}],\n",
       " ['One After 909 - Naked Version / Remastered 2013',\n",
       "  {'acousticness': 0.0375,\n",
       "   'danceability': 0.411,\n",
       "   'energy': 0.891,\n",
       "   'instrumentalness': 0,\n",
       "   'key': 11,\n",
       "   'liveness': 0.268,\n",
       "   'loudness': -6.731,\n",
       "   'mode': 0,\n",
       "   'speechiness': 0.132,\n",
       "   'tempo': 182.348,\n",
       "   'time_signature': 4,\n",
       "   'valence': 0.861}],\n",
       " [\"Don't Let Me Down - Naked Version / Remastered 2013\",\n",
       "  {'acousticness': 0.135,\n",
       "   'danceability': 0.485,\n",
       "   'energy': 0.496,\n",
       "   'instrumentalness': 1.11e-05,\n",
       "   'key': 4,\n",
       "   'liveness': 0.142,\n",
       "   'loudness': -8.525,\n",
       "   'mode': 1,\n",
       "   'speechiness': 0.0376,\n",
       "   'tempo': 163.88,\n",
       "   'time_signature': 4,\n",
       "   'valence': 0.8}],\n",
       " ['I Me Mine - Naked Version / Remastered 2013',\n",
       "  {'acousticness': 0.199,\n",
       "   'danceability': 0.476,\n",
       "   'energy': 0.595,\n",
       "   'instrumentalness': 0,\n",
       "   'key': 4,\n",
       "   'liveness': 0.299,\n",
       "   'loudness': -8.599,\n",
       "   'mode': 0,\n",
       "   'speechiness': 0.0366,\n",
       "   'tempo': 91.385,\n",
       "   'time_signature': 1,\n",
       "   'valence': 0.763}],\n",
       " ['Across The Universe - Naked Version / Remastered 2013',\n",
       "  {'acousticness': 0.49,\n",
       "   'danceability': 0.355,\n",
       "   'energy': 0.465,\n",
       "   'instrumentalness': 0,\n",
       "   'key': 2,\n",
       "   'liveness': 0.198,\n",
       "   'loudness': -10.704,\n",
       "   'mode': 1,\n",
       "   'speechiness': 0.0285,\n",
       "   'tempo': 159.11,\n",
       "   'time_signature': 4,\n",
       "   'valence': 0.772}],\n",
       " ['Let It Be - Naked Version / Remastered 2013',\n",
       "  {'acousticness': 0.61,\n",
       "   'danceability': 0.464,\n",
       "   'energy': 0.405,\n",
       "   'instrumentalness': 1.27e-05,\n",
       "   'key': 0,\n",
       "   'liveness': 0.152,\n",
       "   'loudness': -9.241,\n",
       "   'mode': 1,\n",
       "   'speechiness': 0.0413,\n",
       "   'tempo': 139.775,\n",
       "   'time_signature': 4,\n",
       "   'valence': 0.445}]]"
      ]
     },
     "execution_count": 6,
     "metadata": {},
     "output_type": "execute_result"
    }
   ],
   "source": [
    "white_album = beatles.getAlbums()[1].getTracks()\n",
    "[[track.name,track.features] for track in white_album]"
   ]
  },
  {
   "cell_type": "code",
   "execution_count": 7,
   "metadata": {},
   "outputs": [
    {
     "data": {
      "text/plain": [
       "{'acousticness': 0.786,\n",
       " 'danceability': 0.5752631578947368,\n",
       " 'energy': 0.8947894736842106,\n",
       " 'instrumentalness': 0.0,\n",
       " 'key': 2.526315789473684,\n",
       " 'liveness': 0.7341578947368421,\n",
       " 'loudness': -6.263631578947369,\n",
       " 'mode': 0.5263157894736842,\n",
       " 'speechiness': 0.9127894736842105,\n",
       " 'tempo': 96.72068421052633,\n",
       " 'time_signature': 3.789473684210526,\n",
       " 'valence': 0.4076315789473684}"
      ]
     },
     "execution_count": 7,
     "metadata": {},
     "output_type": "execute_result"
    }
   ],
   "source": [
    "jm = Artist('john mulaney')\n",
    "jm.getAlbums()[0].AvgFeatures()"
   ]
  },
  {
   "cell_type": "code",
   "execution_count": 8,
   "metadata": {},
   "outputs": [
    {
     "data": {
      "text/plain": [
       "{'acousticness': 0.0894,\n",
       " 'danceability': 0.621,\n",
       " 'energy': 0.6,\n",
       " 'instrumentalness': 0.571,\n",
       " 'key': 8,\n",
       " 'liveness': 0.813,\n",
       " 'loudness': -9.192,\n",
       " 'mode': 1,\n",
       " 'speechiness': 0.138,\n",
       " 'tempo': 127.508,\n",
       " 'time_signature': 4,\n",
       " 'valence': 0.959}"
      ]
     },
     "execution_count": 8,
     "metadata": {},
     "output_type": "execute_result"
    }
   ],
   "source": [
    "corywong = Track('Cory Wong')\n",
    "corywong.features"
   ]
  },
  {
   "cell_type": "code",
   "execution_count": 9,
   "metadata": {},
   "outputs": [],
   "source": [
    "cwaa = corywong.getAudioAnalysis()"
   ]
  },
  {
   "cell_type": "code",
   "execution_count": 10,
   "metadata": {},
   "outputs": [
    {
     "data": {
      "text/plain": [
       "[0.0,\n",
       " 14.51964,\n",
       " 113.91444,\n",
       " 136.45644,\n",
       " 146.31043,\n",
       " 175.01818,\n",
       " 188.52266,\n",
       " 199.77632,\n",
       " 235.2956,\n",
       " 248.20367,\n",
       " 262.12348,\n",
       " 310.96574,\n",
       " 326.65233]"
      ]
     },
     "execution_count": 10,
     "metadata": {},
     "output_type": "execute_result"
    }
   ],
   "source": [
    "[i['start'] for i in Track('a day in the life').getAudioAnalysis()['sections']]"
   ]
  },
  {
   "cell_type": "code",
   "execution_count": null,
   "metadata": {},
   "outputs": [],
   "source": [
    "len(cwaa['segments'])"
   ]
  },
  {
   "cell_type": "code",
   "execution_count": null,
   "metadata": {},
   "outputs": [],
   "source": [
    "cwaa['segments'][20]"
   ]
  },
  {
   "cell_type": "code",
   "execution_count": 11,
   "metadata": {},
   "outputs": [
    {
     "data": {
      "text/plain": [
       "{'confidence': 1.0,\n",
       " 'duration': 0.84753,\n",
       " 'loudness_max': -25.109,\n",
       " 'loudness_max_time': 0.04953,\n",
       " 'loudness_start': -57.235,\n",
       " 'pitches': [1.0,\n",
       "  0.051,\n",
       "  0.036,\n",
       "  0.033,\n",
       "  0.258,\n",
       "  0.034,\n",
       "  0.039,\n",
       "  0.142,\n",
       "  0.027,\n",
       "  0.03,\n",
       "  0.04,\n",
       "  0.067],\n",
       " 'start': 0.0,\n",
       " 'timbre': [27.339,\n",
       "  -115.081,\n",
       "  -4.784,\n",
       "  13.866,\n",
       "  53.215,\n",
       "  100.366,\n",
       "  13.252,\n",
       "  2.014,\n",
       "  -20.629,\n",
       "  58.033,\n",
       "  43.047,\n",
       "  4.662]}"
      ]
     },
     "execution_count": 11,
     "metadata": {},
     "output_type": "execute_result"
    }
   ],
   "source": [
    "Track('let it be').getAudioAnalysis()['segments'][0]"
   ]
  },
  {
   "cell_type": "code",
   "execution_count": null,
   "metadata": {},
   "outputs": [],
   "source": [
    "for u,username in users.items():\n",
    "    scope = 'user-library-read user-read-private'\n",
    "    token = util.prompt_for_user_token(username,scope)\n",
    "    sp = spotipy.Spotify(auth=token)\n",
    "    break\n",
    "    reqs = {'tempo':['>',140]}\n",
    "    reqs = {'valence':['>',0.55]}\n",
    "    createRadioPlaylist(['vulfpeck','chance the rapper'],username,reqs=reqs)\n",
    "    \n",
    "    break\n",
    "    artists = ['chance the rapper','alt-j']\n",
    "    createPlaylistFromTopTracks(artists,username)"
   ]
  },
  {
   "cell_type": "code",
   "execution_count": null,
   "metadata": {},
   "outputs": [],
   "source": [
    "import altair as alt\n",
    "from vega_datasets import data\n",
    "\n",
    "# for the notebook only (not for JupyterLab) run this command once per session\n",
    "alt.renderers.enable('notebook')"
   ]
  },
  {
   "cell_type": "code",
   "execution_count": null,
   "metadata": {},
   "outputs": [],
   "source": [
    "iris = data.iris()\n",
    "\n",
    "alt.Chart(iris).mark_point().encode(\n",
    "    x='petalLength',\n",
    "    y='petalWidth',\n",
    "    color='species'\n",
    ")"
   ]
  },
  {
   "cell_type": "code",
   "execution_count": null,
   "metadata": {},
   "outputs": [],
   "source": [
    "iris.head()"
   ]
  },
  {
   "cell_type": "code",
   "execution_count": null,
   "metadata": {},
   "outputs": [],
   "source": [
    "import numpy as np\n",
    "import pandas as pd\n",
    "\n",
    "corywong = Track('cory wong')\n",
    "corywong_aa = corywong.getAudioAnalysis()\n",
    "corywong_seg = corywong_aa['segments']\n",
    "df = pd.DataFrame(corywong_seg)\n",
    "df.head()"
   ]
  },
  {
   "cell_type": "code",
   "execution_count": null,
   "metadata": {},
   "outputs": [],
   "source": [
    "for i,data in enumerate(zip(df.start,df.pitches,df.timbre)):\n",
    "    start,pitches,timbre = data\n",
    "    if i%25 == 0:\n",
    "        plt.figure(1)\n",
    "        plt.scatter([start]*len(pitches),pitches)\n",
    "        plt.figure(2)\n",
    "        plt.scatter([start]*len(timbre),timbre)\n",
    "plt.show()"
   ]
  },
  {
   "cell_type": "code",
   "execution_count": null,
   "metadata": {},
   "outputs": [],
   "source": [
    "letitbe_seg = Track('let it be').getAudioAnalysis()['segments']\n",
    "df2 = pd.DataFrame(letitbe_seg)\n",
    "df2.head()"
   ]
  },
  {
   "cell_type": "code",
   "execution_count": null,
   "metadata": {},
   "outputs": [],
   "source": [
    "for i,data in enumerate(zip(df2.start,df2.pitches,df2.timbre)):\n",
    "    start,pitches,timbre = data\n",
    "    if i%25 == 0:\n",
    "        plt.figure(1)\n",
    "        plt.scatter([start]*len(pitches),pitches)\n",
    "        plt.figure(2)\n",
    "        plt.scatter([start]*len(timbre),timbre)\n",
    "plt.show()"
   ]
  },
  {
   "cell_type": "code",
   "execution_count": null,
   "metadata": {},
   "outputs": [],
   "source": [
    "lsdc = Track('landslide dixie chicks')\n",
    "lsfm = Track('landslide')"
   ]
  },
  {
   "cell_type": "code",
   "execution_count": null,
   "metadata": {},
   "outputs": [],
   "source": [
    "lsdc_seg = lsdc.getAudioAnalysis()['segments']\n",
    "lsfm_seg = lsfm.getAudioAnalysis()['segments']"
   ]
  },
  {
   "cell_type": "code",
   "execution_count": null,
   "metadata": {},
   "outputs": [],
   "source": [
    "df3 = pd.DataFrame(lsdc_seg)\n",
    "df3.head()\n",
    "df4 = pd.DataFrame(lsfm_seg)\n",
    "df4.head()"
   ]
  },
  {
   "cell_type": "code",
   "execution_count": null,
   "metadata": {},
   "outputs": [],
   "source": [
    "for i,data in enumerate(zip(df.start,df.pitches,df.timbre)):\n",
    "    start,pitches,timbre = data\n",
    "    if i%25 == 0:\n",
    "        plt.figure(1)\n",
    "        plt.scatter([start]*len(pitches),pitches,c='GREEN')\n",
    "        plt.figure(2)\n",
    "        plt.scatter([start]*len(timbre),timbre,c='GREEN')\n",
    "for i,data in enumerate(zip(df3.start,df3.pitches,df3.timbre)):\n",
    "    start,pitches,timbre = data\n",
    "    if i%25 == 0:\n",
    "        plt.figure(1)\n",
    "        plt.scatter([start]*len(pitches),pitches,c='BLUE')\n",
    "        plt.figure(2)\n",
    "        plt.scatter([start]*len(timbre),timbre,c='BLUE')\n",
    "#plt.show()\n",
    "for i,data in enumerate(zip(df4.start,df4.pitches,df4.timbre)):\n",
    "    start,pitches,timbre = data\n",
    "    if i%25 == 0:\n",
    "        plt.figure(1)\n",
    "        plt.scatter([start]*len(pitches),pitches,c='RED')\n",
    "        plt.figure(2)\n",
    "        plt.scatter([start]*len(timbre),timbre,c='RED')\n",
    "plt.show()"
   ]
  },
  {
   "cell_type": "code",
   "execution_count": null,
   "metadata": {},
   "outputs": [],
   "source": [
    "Artist('fleetwood mac').genres"
   ]
  },
  {
   "cell_type": "code",
   "execution_count": null,
   "metadata": {},
   "outputs": [],
   "source": [
    "Artist('dixie chicks').genres"
   ]
  },
  {
   "cell_type": "code",
   "execution_count": null,
   "metadata": {},
   "outputs": [],
   "source": [
    "!pip install pylast"
   ]
  },
  {
   "cell_type": "code",
   "execution_count": null,
   "metadata": {},
   "outputs": [],
   "source": [
    "import pylast\n",
    "pyAPI = '6c4f2ca3dd6bedbdc2f48a22344e2ecd'\n",
    "pySECRET = 'fd5175fa9e538986accd25dd0fc56c30'\n",
    "pl = pylast.LastFMNetwork(api_key=pyAPI,api_secret=pySECRET)"
   ]
  },
  {
   "cell_type": "code",
   "execution_count": null,
   "metadata": {},
   "outputs": [],
   "source": [
    "cw = pl.get_track(title='cory wong',artist='vulfpeck')"
   ]
  },
  {
   "cell_type": "code",
   "execution_count": null,
   "metadata": {},
   "outputs": [],
   "source": [
    "Playlist('sounds of funk').Attributes()"
   ]
  },
  {
   "cell_type": "code",
   "execution_count": null,
   "metadata": {},
   "outputs": [],
   "source": [
    "sp.user_playlist_tracks('thesoundsofspotify',playlist_id='4GMYsnPRt6GT3VARNJQeKt')['items'][0]['track']['artists']"
   ]
  },
  {
   "cell_type": "code",
   "execution_count": null,
   "metadata": {},
   "outputs": [],
   "source": [
    "#regex practice\n",
    "import re\n",
    "regex = r\"(The Sound of )+.* *[a-z]$\"\n",
    "regex2 = r\"([The Sound of Rap|The Sound of Jazz])\"\n",
    "a=['The Sound of Rap','The Sound of Jazz','The Sound of London EN','tso jax']\n",
    "[i for i in a if re.search(regex,i)]\n"
   ]
  },
  {
   "cell_type": "code",
   "execution_count": null,
   "metadata": {},
   "outputs": [],
   "source": [
    "import re\n",
    "\n",
    "sos = User('thesoundsofspotify')\n",
    "allplaylists = sos.getPlaylists()"
   ]
  },
  {
   "cell_type": "code",
   "execution_count": null,
   "metadata": {},
   "outputs": [],
   "source": [
    "for i in allplaylists:\n",
    "    print(i.name)"
   ]
  },
  {
   "cell_type": "code",
   "execution_count": null,
   "metadata": {},
   "outputs": [],
   "source": [
    "regex = r\"(The Sound of )+.* *[a-z]$\"\n",
    "tso = 'the sound of '\n",
    "simple_genres = [tso+i for i in ['rock','pop','alternative rock','electronic','jazz','classical',\n",
    "                     'folk','indie rock','blues','soundtrack','bluegrass','gospel',\n",
    "                     'country','grunge','ska punk','metal','reggae','rap','punk rock','dubstep','motown','edm','emo','hip hop']]\n",
    "#genre_playlists = [i for i in sos.getPlaylists() if re.search(regex,i.name)]\n",
    "genre_playlists = [i for i in allplaylists if i.name.lower() in simple_genres]"
   ]
  },
  {
   "cell_type": "code",
   "execution_count": null,
   "metadata": {},
   "outputs": [],
   "source": [
    "print(len(genre_playlists))\n",
    "[i.name for i in genre_playlists]"
   ]
  },
  {
   "cell_type": "code",
   "execution_count": null,
   "metadata": {},
   "outputs": [],
   "source": [
    "genre_tracks = [i.getTracks() for i in genre_playlists]"
   ]
  },
  {
   "cell_type": "code",
   "execution_count": null,
   "metadata": {},
   "outputs": [],
   "source": [
    "print('{}\\n'.format([len(i) for i in genre_tracks]))"
   ]
  },
  {
   "cell_type": "code",
   "execution_count": null,
   "metadata": {},
   "outputs": [],
   "source": [
    "genre_tracks[0][0].getAudioAnalysis()"
   ]
  },
  {
   "cell_type": "code",
   "execution_count": null,
   "metadata": {},
   "outputs": [],
   "source": [
    "#genre_audio_analysis = [[x.getAudioAnalysis() for x in genre] for genre in genre_tracks]\n",
    "#list comprehension is cool, but it might be better not to use it in this case in order to get an idea \n",
    "#of the progress you're making because it'll take forevvvvver\n",
    "import pickle\n",
    "genre_audio_analysis = []\n",
    "for i,genre in enumerate(genre_tracks):\n",
    "    single_genre = []\n",
    "    for track in genre:\n",
    "        try:\n",
    "            single_genre.append(track.getAudioAnalysis())\n",
    "        except:\n",
    "            scope = 'user-library-read user-read-private'\n",
    "            token = util.prompt_for_user_token(users['zach'],scope)\n",
    "            sp = spotipy.Spotify(auth=token)\n",
    "            single_genre.append(track.getAudioAnalysis())\n",
    "    pickle.dump(single_genre,open('{}.p'.format(genre_playlists[i].name),'wb'))        \n",
    "    genre_audio_analysis.append(single_genre)\n",
    "    print('Completed {}'.format(genre_playlists[i].name))\n",
    "    "
   ]
  },
  {
   "cell_type": "code",
   "execution_count": null,
   "metadata": {},
   "outputs": [],
   "source": [
    "genre_audio_analysis = []\n",
    "for i in range(len(genre_playlists)):\n",
    "    genre_audio_analysis.append(pickle.load(open(genre_playlists[i].name+'.p','rb')))\n",
    "    print('loaded',genre_playlists[i].name)"
   ]
  },
  {
   "cell_type": "code",
   "execution_count": null,
   "metadata": {},
   "outputs": [],
   "source": [
    "len(genre_audio_analysis)"
   ]
  },
  {
   "cell_type": "code",
   "execution_count": null,
   "metadata": {},
   "outputs": [],
   "source": [
    "for genre,playlist,tracks in zip(genre_audio_analysis,genre_playlists,genre_tracks):\n",
    "    print(playlist.name,len(genre),len(tracks))"
   ]
  },
  {
   "cell_type": "code",
   "execution_count": null,
   "metadata": {},
   "outputs": [],
   "source": [
    "pickle.dump(genre_playlists,open('genre_playlists.p','wb'))\n",
    "pickle.dump(genre_tracks,open('genre_tracks.p','wb'))"
   ]
  },
  {
   "cell_type": "code",
   "execution_count": null,
   "metadata": {},
   "outputs": [],
   "source": []
  },
  {
   "cell_type": "code",
   "execution_count": null,
   "metadata": {},
   "outputs": [],
   "source": [
    "a = pickle.load(open('genre_playlists.p','rb'))\n",
    "a[0].tracks"
   ]
  },
  {
   "cell_type": "code",
   "execution_count": null,
   "metadata": {},
   "outputs": [],
   "source": [
    "b = pickle.load(open('genre_tracks.p','rb'))\n",
    "b[0][0].Attributes()"
   ]
  },
  {
   "cell_type": "code",
   "execution_count": null,
   "metadata": {},
   "outputs": [],
   "source": [
    "import pickle\n",
    "pl = pickle.load(open('genre_playlists.p','rb')) #playlist list\n",
    "tr = pickle.load(open('genre_tracks.p','rb')) #track list for each playlist\n",
    "aa = [pickle.load(open(p.name+'.p','rb')) for p in pl] #audio analysis for each track for each playlist\n",
    "print(len(pl),len(tr),len(aa))"
   ]
  },
  {
   "cell_type": "code",
   "execution_count": null,
   "metadata": {},
   "outputs": [],
   "source": [
    "[i.name for i in pl]"
   ]
  },
  {
   "cell_type": "code",
   "execution_count": null,
   "metadata": {},
   "outputs": [],
   "source": [
    "import pandas as pd\n",
    "genreDict = {}\n",
    "for i,playlist in enumerate(pl):\n",
    "    gname = ' '.join(playlist.name.split()[3:])\n",
    "    genreDict[gname] = {}\n",
    "    genreDict[gname]['id'] = i\n",
    "    genreDict[gname]['playlistName'] = playlist.name\n",
    "    genreDict[gname]['playlistObject'] = playlist\n",
    "    genreDict[gname]['trackList'] = []\n",
    "    genreDict[gname]['trackDict'] = []\n",
    "    for track,aud in zip(tr[i],aa[i]):\n",
    "        genreDict[gname]['trackList'].append((track.name,track.artists[0]['name']))\n",
    "        genreDict[gname]['trackDict'].append({'name':track.name,\n",
    "                                              'artist':track.artists[0]['name'],\n",
    "                                              'trackObj':track,\n",
    "                                              'trackAA':aud,\n",
    "                                              'trackSegs':pd.DataFrame(aud['segments'])})\n",
    "                                     \n",
    "    \n",
    "    "
   ]
  },
  {
   "cell_type": "code",
   "execution_count": null,
   "metadata": {},
   "outputs": [],
   "source": [
    "pickle.dump(genreDict,open('genreDict.p','wb'))"
   ]
  },
  {
   "cell_type": "code",
   "execution_count": null,
   "metadata": {},
   "outputs": [],
   "source": [
    "import matplotlib.pyplot as plt\n",
    "c = ['b','g','r','c','m','y','k']\n",
    "f,ax = plt.subplots(4,1,figsize=(10,20))\n",
    "for key in list(genreDict.keys())[:2]:\n",
    "    s1=genreDict[key]['trackDict'][0]\n",
    "    segs = s1['trackSegs']\n",
    "    print('{}: {} - {}'.format(key,s1['name'],s1['artist']))\n",
    "    print(s1['trackObj'].features)\n",
    "    for i,data in enumerate(zip(segs.start,segs.pitches,segs.timbre,segs.loudness_max)):\n",
    "        start,pitches,timbre,mloudness = data\n",
    "        if i==0:\n",
    "            ax[0].scatter([start]*len(pitches),pitches,c=c[genreDict[key]['id']%len(c)],label=key)\n",
    "            ax[0].set_title('Pitches')\n",
    "            ax[1].scatter([start]*len(timbre),timbre,c=c[genreDict[key]['id']%len(c)],label=key)\n",
    "            ax[1].set_title('Timbres')\n",
    "            ax[2].plot(start,mloudness,c=c[genreDict[key]['id']%len(c)],label=key)\n",
    "            ax[2].set_title('Max Loudness')\n",
    "            handles,labels = ax[1].get_legend_handles_labels()\n",
    "        if i%25 == 0:\n",
    "            ax[0].scatter([start]*len(pitches),pitches,c=c[genreDict[key]['id']%len(c)])\n",
    "            ax[1].scatter([start]*len(timbre),timbre,c=c[genreDict[key]['id']%len(c)])\n",
    "            ax[2].plot(start,mloudness,c=c[genreDict[key]['id']%len(c)])\n",
    "\n",
    "ax[3].set_axis_off()\n",
    "ax[3].legend(handles,labels,ncol=5)\n",
    "plt.show()"
   ]
  },
  {
   "cell_type": "code",
   "execution_count": null,
   "metadata": {},
   "outputs": [],
   "source": [
    "genreDict['Blues']['trackDict'][0]['trackSegs'].head()"
   ]
  },
  {
   "cell_type": "code",
   "execution_count": null,
   "metadata": {},
   "outputs": [],
   "source": []
  },
  {
   "cell_type": "code",
   "execution_count": null,
   "metadata": {},
   "outputs": [],
   "source": [
    "list(genreDict.keys())[0:3]"
   ]
  },
  {
   "cell_type": "code",
   "execution_count": null,
   "metadata": {},
   "outputs": [],
   "source": [
    "aa[0][0]['meta'].keys()"
   ]
  },
  {
   "cell_type": "code",
   "execution_count": null,
   "metadata": {},
   "outputs": [],
   "source": [
    "from tsfresh import extract_features, extract_relevant_features, select_features\n",
    "from tsfresh.examples.robot_execution_failures import download_robot_execution_failures, load_robot_execution_failures\n",
    "download_robot_execution_failures()\n",
    "df, y = load_robot_execution_failures()\n"
   ]
  },
  {
   "cell_type": "code",
   "execution_count": null,
   "metadata": {},
   "outputs": [],
   "source": [
    "df = genreDict['Blues']['trackDict'][0]['trackSegs']"
   ]
  },
  {
   "cell_type": "code",
   "execution_count": null,
   "metadata": {},
   "outputs": [],
   "source": [
    "s1=genreDict['Blues']['trackDict'][0]\n",
    "segs = s1['trackSegs']\n",
    "print('{}: {} - {}'.format(key,s1['name'],s1['artist']))\n",
    "print(s1['trackObj'].features)\n"
   ]
  },
  {
   "cell_type": "code",
   "execution_count": null,
   "metadata": {},
   "outputs": [],
   "source": [
    "for key,val in s1['trackObj'].features.items():\n",
    "    segs[key] = val\n"
   ]
  },
  {
   "cell_type": "code",
   "execution_count": null,
   "metadata": {},
   "outputs": [],
   "source": [
    "segs"
   ]
  },
  {
   "cell_type": "code",
   "execution_count": null,
   "metadata": {},
   "outputs": [],
   "source": [
    "count = 0\n",
    "X = pd.DataFrame()\n",
    "y = []\n",
    "for i,genre in enumerate(genreDict.keys()):\n",
    "    for track in genreDict[genre]['trackDict']:\n",
    "        #print(track['trackObj'].features)\n",
    "        #print(track['trackSegs'].head())\n",
    "        segs = track['trackSegs']\n",
    "        segs['id'] = count\n",
    "        for key,val in track['trackObj'].features.items():\n",
    "            segs[key] = val\n",
    "        X = pd.concat([X,segs],ignore_index=True)\n",
    "        y.append(i)\n",
    "        count+=1\n",
    "    print('Finished {}'.format(genre))\n",
    "\n",
    "#Make the ID column the first column:\n",
    "cols = X.columns.tolist()\n",
    "idind = cols.index('id')\n",
    "cols = [cols[idind]]+cols[:idind]+cols[idind+1:]\n",
    "X = X[cols]\n",
    "\n",
    "#Create a pandas series for the y values\n",
    "y = pd.Series(y)\n",
    "\n",
    "#Save pickles\n",
    "print('Pickling...')\n",
    "X.to_pickle('X.p')\n",
    "y.to_pickle('y.p')"
   ]
  },
  {
   "cell_type": "code",
   "execution_count": null,
   "metadata": {},
   "outputs": [],
   "source": [
    "import pandas as pd\n",
    "X = pd.read_pickle('X.p')\n",
    "y = pd.read_pickle('y.p')"
   ]
  },
  {
   "cell_type": "code",
   "execution_count": null,
   "metadata": {},
   "outputs": [],
   "source": [
    "df = pd.DataFrame(X['pitches'].values.tolist(),columns=['pitch_{}'.format(i) for i in range(len(X.pitches[0]))])\n",
    "df1 = pd.DataFrame(X['timbre'].values.tolist(),columns=['timbre_{}'.format(i) for i in range(len(X.timbre[0]))])\n",
    "X1 = X.drop(['pitches','timbre','loudness_end'],axis=1)\n",
    "X1 = pd.concat([X1,df,df1],axis=1)\n",
    "X1.head()"
   ]
  },
  {
   "cell_type": "code",
   "execution_count": null,
   "metadata": {},
   "outputs": [],
   "source": [
    "X1.isnull().any()"
   ]
  },
  {
   "cell_type": "code",
   "execution_count": null,
   "metadata": {},
   "outputs": [],
   "source": [
    "X.loc[750:1400,['id','start']].values.tolist()"
   ]
  },
  {
   "cell_type": "code",
   "execution_count": null,
   "metadata": {},
   "outputs": [],
   "source": [
    "\n",
    "from tsfresh import extract_features, extract_relevant_features, select_features\n",
    "from tsfresh.utilities.dataframe_functions import impute\n",
    "from tsfresh.feature_extraction import ComprehensiveFCParameters\n",
    "from sklearn.tree import DecisionTreeClassifier\n",
    "from sklearn.cross_validation import train_test_split\n",
    "from sklearn.metrics import classification_report\n",
    "\n",
    "extraction_settings = ComprehensiveFCParameters()\n",
    "X_ex = extract_features(X1.head(10000), column_id='id', impute_function=impute, \n",
    "                                       default_fc_parameters=extraction_settings)\n",
    "# Might have memory error. If so, do this outside of the jupyter notebook and save it to a csv or pickle\n",
    "\n",
    "X_ex = pd.read_pickle('X_ex.p')\n",
    "X_ex.shape\n",
    "\n",
    "from tsfresh.examples.har_dataset import download_har_dataset, load_har_dataset, load_har_classes\n",
    "download_har_dataset()\n",
    "df1 = load_har_dataset()\n",
    "df1.head()\n",
    "\n",
    "import numpy as np\n",
    "N = 500\n",
    "master_df = pd.DataFrame({0: df1[:N].values.flatten(),\n",
    "                          1: np.arange(N).repeat(df1.shape[1])})\n",
    "X = extract_features(master_df, column_id=1, impute_function=impute, default_fc_parameters=extraction_settings)\n",
    "y = load_har_classes()[:N]\n",
    "y.shape\n",
    "X_train, X_test, y_train, y_test = train_test_split(X, y, test_size=.2)\n",
    "\n",
    "cl = DecisionTreeClassifier()\n",
    "cl.fit(X_train, y_train)\n",
    "print(classification_report(y_test, cl.predict(X_test)))"
   ]
  },
  {
   "cell_type": "code",
   "execution_count": null,
   "metadata": {},
   "outputs": [],
   "source": [
    "relevant_features = set()\n",
    "\n",
    "for label in y.unique():\n",
    "    y_train_binary = y_train == label\n",
    "    X_train_filtered = select_features(X_train, y_train_binary)\n",
    "    print(\"Number of relevant features for class {}: {}/{}\".format(label, X_train_filtered.shape[1], X_train.shape[1]))\n",
    "    relevant_features = relevant_features.union(set(X_train_filtered.columns))\n",
    "\n",
    "X_train_filtered = X_train[list(relevant_features)]\n",
    "X_test_filtered = X_test[list(relevant_features)]\n",
    "cl = DecisionTreeClassifier()\n",
    "cl.fit(X_train_filtered, y_train)\n",
    "print(classification_report(y_test, cl.predict(X_test_filtered)))"
   ]
  },
  {
   "cell_type": "code",
   "execution_count": null,
   "metadata": {},
   "outputs": [],
   "source": [
    "!pip install ipython-sql\n",
    "%load_ext sql"
   ]
  },
  {
   "cell_type": "code",
   "execution_count": null,
   "metadata": {},
   "outputs": [],
   "source": [
    "%sql sqlite://"
   ]
  },
  {
   "cell_type": "code",
   "execution_count": null,
   "metadata": {},
   "outputs": [],
   "source": [
    "%%sql\n",
    "CREATE TABLE writers (first_name,last_name,year_of_death);\n",
    "INSERT INTO writers VALUES ('Will','Shakespeare',1616);\n",
    "INSERT INTO writers VALUES ('Bertold', 'Brecht',1956);"
   ]
  },
  {
   "cell_type": "code",
   "execution_count": null,
   "metadata": {},
   "outputs": [],
   "source": [
    "%sql select * from writers where first_name = 'Will'"
   ]
  }
 ],
 "metadata": {
  "kernelspec": {
   "display_name": "Python 3",
   "language": "python",
   "name": "python3"
  },
  "language_info": {
   "codemirror_mode": {
    "name": "ipython",
    "version": 3
   },
   "file_extension": ".py",
   "mimetype": "text/x-python",
   "name": "python",
   "nbconvert_exporter": "python",
   "pygments_lexer": "ipython3",
   "version": "3.6.4"
  }
 },
 "nbformat": 4,
 "nbformat_minor": 2
}

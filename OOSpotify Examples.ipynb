{
 "cells": [
  {
   "cell_type": "code",
   "execution_count": 1,
   "metadata": {},
   "outputs": [],
   "source": [
    "import os\n",
    "os.environ['SPOTIPY_CLIENT_ID'] = '0dd677ab735f4fd1b9dbf6b236350ba1'\n",
    "os.environ['SPOTIPY_CLIENT_SECRET'] = 'bbe8736a14ba4e64bfb2d4103c8957aa'\n",
    "os.environ['SPOTIPY_REDIRECT_URI'] = 'http://google.com/'"
   ]
  },
  {
   "cell_type": "code",
   "execution_count": 2,
   "metadata": {},
   "outputs": [],
   "source": [
    "from OOSpotify import *"
   ]
  },
  {
   "cell_type": "code",
   "execution_count": 7,
   "metadata": {},
   "outputs": [],
   "source": [
    "a = Artist('kanye')"
   ]
  },
  {
   "cell_type": "code",
   "execution_count": 17,
   "metadata": {},
   "outputs": [
    {
     "data": {
      "text/plain": [
       "['KIDS SEE GHOSTS',\n",
       " 'Yeezus',\n",
       " 'ye',\n",
       " 'The Life Of Pablo',\n",
       " 'Graduation',\n",
       " 'The College Dropout',\n",
       " 'Late Registration',\n",
       " 'My Beautiful Dark Twisted Fantasy',\n",
       " 'The College Dropout (Edited)',\n",
       " '808s & Heartbreak',\n",
       " 'My Beautiful Dark Twisted Fantasy',\n",
       " 'Late Registration',\n",
       " 'Graduation']"
      ]
     },
     "execution_count": 17,
     "metadata": {},
     "output_type": "execute_result"
    }
   ],
   "source": [
    "b = a.getAlbums()\n",
    "[i.name for i in b]"
   ]
  },
  {
   "cell_type": "code",
   "execution_count": 32,
   "metadata": {},
   "outputs": [
    {
     "name": "stdout",
     "output_type": "stream",
     "text": [
      "spotify:album:3SZr5Pco2oqKFORCP3WNj9\n",
      "0: Good Morning\n",
      "1: Champion\n",
      "2: Stronger\n",
      "3: I Wonder\n",
      "4: Good Life\n",
      "5: Can't Tell Me Nothing\n",
      "6: Barry Bonds\n",
      "7: Drunk and Hot Girls\n",
      "8: Flashing Lights\n",
      "9: Everything I Am\n",
      "10: The Glory\n",
      "11: Homecoming\n",
      "12: Big Brother\n",
      "None\n",
      "spotify:album:7nxBMFwJtTTKDNxVCKmYi3\n",
      "0: Good Morning\n",
      "1: Champion\n",
      "2: Stronger\n",
      "3: I Wonder\n",
      "4: Good Life\n",
      "5: Can't Tell Me Nothing\n",
      "6: Barry Bonds\n",
      "7: Drunk and Hot Girls\n",
      "8: Flashing Lights\n",
      "9: Everything I Am\n",
      "10: The Glory\n",
      "11: Homecoming\n",
      "12: Big Brother\n",
      "None\n"
     ]
    }
   ],
   "source": [
    "print(b[4].uri)\n",
    "print(b[4].Tracks())\n",
    "print(b[12].uri)\n",
    "print(b[12].Tracks())"
   ]
  },
  {
   "cell_type": "code",
   "execution_count": null,
   "metadata": {},
   "outputs": [],
   "source": [
    "%%timeit \n",
    "a = Artist('Michael Jackson').Albums()"
   ]
  },
  {
   "cell_type": "code",
   "execution_count": null,
   "metadata": {},
   "outputs": [],
   "source": [
    "################################################################\n",
    "# Simple Functions\n",
    "def getPlaylists(userID):\n",
    "    playlists = sp.user_playlists(userID)['items']\n",
    "    return playlists\n",
    "#def findPlaylistID(userID,playlistName):\n",
    "#    playlists = getPlaylists(userID)\n",
    "#    return [playlist['id'] for playlist in playlists if playlist['name'] == playlistName][0]\n",
    "\n",
    "def createPlaylist(userID,playlistName):\n",
    "    playlists = getPlaylists(userID)\n",
    "    for playlist in playlists:\n",
    "        if playlist['name'] == playlistName:\n",
    "            ans = input('Playlist with this name already exists. Do you want to overwrite it?')\n",
    "            if ans == 'y':\n",
    "                sp.user_playlist_replace_tracks(userID,playlist['id'],tracks=[])\n",
    "            else:\n",
    "                print('Exiting...')\n",
    "                sys.exit()\n",
    "            return playlist['id']\n",
    "    sp.user_playlist_create(userID,playlistName)  \n",
    "\n",
    "def addTracksToPlaylist(userID,playlistID,trackIDs):\n",
    "    sp.user_playlist_add_tracks(userID,playlistID,trackIDs)\n",
    "\n",
    "#Creates a dictionary of dictionaries for each artist\n",
    "def getArtists(artists):\n",
    "    artistDict = {}\n",
    "    for artist in artists:\n",
    "        a = Artist(artist)\n",
    "        artistDict[a.name.replace(' ','_')] = a\n",
    "    return artistDict          \n",
    "#################################################################            \n",
    "# Less Simple Funcions\n",
    "    \n",
    "def createPlaylistFromTopTracks(artists,userID,playlistName=None,reqs=None):\n",
    "    if not playlistName:\n",
    "        playlistName = ' + '.join(artists)\n",
    "    playlistID = createPlaylist(userID,playlistName)\n",
    "    \n",
    "    trackIDs = []\n",
    "    for artist in artists:\n",
    "        a = Artist(artist)\n",
    "        trackIDs += [i.id for i in a.getTopTracks()]\n",
    "        print('Top Tracks for {}:'.format(a.name))\n",
    "        a.TopTracks()\n",
    "        print()\n",
    "    shuffle(trackIDs)\n",
    "\n",
    "    addTracksToPlaylist(userID,playlistID,trackIDs)\n",
    "\n",
    "def satisfyReqs(trackObj,reqs=None):\n",
    "    if reqs:\n",
    "        perf = []\n",
    "        for key,val in reqs.items():\n",
    "            perf.append(eval('{}{}{}'.format(getattr(trackObj,key),val[0],val[1])))\n",
    "        return all(perf)\n",
    "    else:\n",
    "        return True\n",
    "\n",
    "def createRadioPlaylist(artists,userID,playlistName=None,reqs=None):\n",
    "    if not playlistName:\n",
    "        playlistName= ' x '.join(artists)+' Radio'\n",
    "    playlistID = createPlaylist(userID,playlistName)\n",
    "    \n",
    "    trackIDs = []\n",
    "    reccArtists = []\n",
    "    for artist in artists:\n",
    "        a = Artist(artist)\n",
    "        reccArtists += a.getRelatedArtists()[0:5] # Big toggle here\n",
    "        tracks = [i for i in a.getTopTracks() if satisfyReqs(i,reqs)]\n",
    "        #print([(i.name,i.tempo,i.artists[0]['name']) for i in tracks])\n",
    "        trackIDs += [i.id for i in tracks]\n",
    "    shuffle(reccArtists)\n",
    "    #print([i.name for i in reccArtists])\n",
    "    for a in reccArtists:\n",
    "        if len(trackIDs)<30:\n",
    "            tracks = [i for i in a.getTopTracks() if satisfyReqs(i,reqs)]\n",
    "            #print([(i.name,i.tempo,i.artists[0]['name']) for i in tracks])\n",
    "            trackIDs += [i.id for i in tracks]\n",
    "        else:\n",
    "            break\n",
    "    #print(len(trackIDs))\n",
    "    shuffle(trackIDs)\n",
    "    \n",
    "    addTracksToPlaylist(userID,playlistID,trackIDs)\n",
    "        \n",
    "def createPlaylistFromAlbumSpecs(artists):\n",
    "    pass\n",
    "\n",
    "def createPlaylistFromProducers(producers):\n",
    "    pass\n",
    "    #Suggestion from Katie -> need to find how to get this info\n",
    "    \n",
    "    #add in restriction for 'albums\n",
    "    "
   ]
  },
  {
   "cell_type": "code",
   "execution_count": null,
   "metadata": {},
   "outputs": [],
   "source": [
    "a = ['d','e','f']\n",
    "print('\\n'.join('{}'.format(i) for i in a))"
   ]
  },
  {
   "cell_type": "code",
   "execution_count": null,
   "metadata": {},
   "outputs": [],
   "source": []
  }
 ],
 "metadata": {
  "kernelspec": {
   "display_name": "Python 3",
   "language": "python",
   "name": "python3"
  },
  "language_info": {
   "codemirror_mode": {
    "name": "ipython",
    "version": 3
   },
   "file_extension": ".py",
   "mimetype": "text/x-python",
   "name": "python",
   "nbconvert_exporter": "python",
   "pygments_lexer": "ipython3",
   "version": "3.6.4"
  }
 },
 "nbformat": 4,
 "nbformat_minor": 2
}
